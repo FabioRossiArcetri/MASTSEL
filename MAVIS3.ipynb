{
 "cells": [
  {
   "cell_type": "code",
   "execution_count": 1,
   "metadata": {},
   "outputs": [
    {
     "data": {
      "image/png": "[encoded data removed]",
      "text/plain": [
       "<Figure size 432x288 with 1 Axes>"
      ]
     },
     "metadata": {
      "needs_background": "light"
     },
     "output_type": "display_data"
    },
    {
     "data": {
      "image/png": "[encoded data removed]",
      "text/plain": [
       "<Figure size 432x288 with 1 Axes>"
      ]
     },
     "metadata": {
      "needs_background": "light"
     },
     "output_type": "display_data"
    },
    {
     "name": "stdout",
     "output_type": "stream",
     "text": [
      "[13] 2082.41162109375\n",
      "[10] 1351.4102783203125\n",
      "[[2369.9699707     0.            0.            0.            0.\n",
      "     0.        ]\n",
      " [   0.         1538.56994629    0.            0.            0.\n",
      "     0.        ]\n",
      " [   0.            0.         2082.40991211    0.            0.\n",
      "     0.        ]\n",
      " [   0.            0.            0.         1351.41003418    0.\n",
      "     0.        ]\n",
      " [   0.            0.            0.            0.         2916.64990234\n",
      "     0.        ]\n",
      " [   0.            0.            0.            0.            0.\n",
      "  1906.07995605]]\n"
     ]
    }
   ],
   "source": [
    "DEV_PATH = '/home/frossi/dev/'\n",
    "import sys\n",
    "if not DEV_PATH in sys.path:\n",
    "    sys.path.append(DEV_PATH)\n",
    "\n",
    "    \n",
    "from mavis import *\n",
    "\n",
    "hdul = fits.open('MAVIS_TESTS/psd_turb.fits')\n",
    "psd_turb_data = np.asarray(hdul[0].data, np.float64)\n",
    "#print(_data[0])\n",
    "plt.xscale('log')\n",
    "plt.yscale('log')\n",
    "plt.plot(psd_turb_data[0], psd_turb_data[1]) \n",
    "plt.plot(psd_turb_data[0], psd_turb_data[2]) \n",
    "plt.show()\n",
    "\n",
    "hdul = fits.open('MAVIS_TESTS/res_noise_ngs.fits')\n",
    "res_noise_ngs_data = np.asarray(hdul[0].data, np.float64)\n",
    "res_noise_ngs_tip = res_noise_ngs_data[0]\n",
    "res_noise_ngs_tilt = res_noise_ngs_data[1]\n",
    "#print(_data[0])\n",
    "plt.xscale('linear')\n",
    "plt.yscale('log')\n",
    "plt.plot(res_noise_ngs_tip) \n",
    "plt.plot(res_noise_ngs_tilt) \n",
    "plt.show()\n",
    "\n",
    "minTipIdx = np.where(res_noise_ngs_tip == np.amin(res_noise_ngs_tip))\n",
    "minTiltIdx = np.where(res_noise_ngs_tilt == np.amin(res_noise_ngs_tilt))\n",
    "print(minTipIdx[0], res_noise_ngs_tip[minTipIdx[0][0]])\n",
    "print(minTiltIdx[0], res_noise_ngs_tilt[minTiltIdx[0][0]])\n",
    "\n",
    "hdul = fits.open('MAVIS_TESTS/Cn.fits')\n",
    "Cnn_data = np.asarray(hdul[0].data, np.float64)\n",
    "print(Cnn_data)"
   ]
  },
  {
   "cell_type": "code",
   "execution_count": 2,
   "metadata": {},
   "outputs": [
    {
     "data": {
      "text/latex": [
       "$\\displaystyle \\phi^{turb}_{Tip}{\\left(f \\right)} = \\int\\limits_{k_{y min}}^{k_{y max}} \\frac{0.3664 f^{2} J^{2}_{2}\\left(2 \\pi R \\sqrt{k_{y}^{2} + \\frac{f^{2}}{V^{2}}}\\right)}{\\pi^{2} R^{2} V^{3} r_{0}^{\\frac{5}{3}} \\left(k_{y}^{2} + \\frac{f^{2}}{V^{2}}\\right)^{2} \\left(\\left(\\frac{1.0}{L_{0}}\\right)^{2} + k_{y}^{2} + \\frac{f^{2}}{V^{2}}\\right)^{\\frac{11}{6}}}\\, dk_{y}$"
      ],
      "text/plain": [
       "                 k_y_max                                                      \n",
       "                    ⌠                                                         \n",
       "                    ⎮                         ⎛               ___________⎞    \n",
       "                    ⎮                         ⎜              ╱         2 ⎟    \n",
       "                    ⎮               2        2⎜             ╱     2   f  ⎟    \n",
       "                    ⎮       0.3664⋅f ⋅besselj ⎜2, 2⋅π⋅R⋅   ╱   k_y  + ── ⎟    \n",
       "                    ⎮                         ⎜           ╱            2 ⎟    \n",
       "                    ⎮                         ⎝         ╲╱            V  ⎠    \n",
       "φ_Tip__turb(f) =    ⎮    ──────────────────────────────────────────────────── \n",
       "                    ⎮                              2                     11/6 \n",
       "                    ⎮                   ⎛        2⎞  ⎛     2           2⎞     \n",
       "                    ⎮     2  2  3   5/3 ⎜   2   f ⎟  ⎜⎛1.0⎞       2   f ⎟     \n",
       "                    ⎮    π ⋅R ⋅V ⋅r₀   ⋅⎜k_y  + ──⎟ ⋅⎜⎜───⎟  + k_y  + ──⎟     \n",
       "                    ⎮                   ⎜        2⎟  ⎜⎝ L₀⎠            2⎟     \n",
       "                    ⎮                   ⎝       V ⎠  ⎝                V ⎠     \n",
       "                    ⌡                                                         \n",
       "                 k_y_min                                                      \n",
       "\n",
       "      \n",
       "      \n",
       "      \n",
       "      \n",
       "      \n",
       "      \n",
       "      \n",
       "      \n",
       "d(k_y)\n",
       "      \n",
       "      \n",
       "      \n",
       "      \n",
       "      \n",
       "      \n",
       "      \n",
       "      "
      ]
     },
     "metadata": {},
     "output_type": "display_data"
    },
    {
     "data": {
      "text/latex": [
       "$\\displaystyle \\phi^{turb}_{Tilt}{\\left(f \\right)} = \\int\\limits_{k_{y min}}^{k_{y max}} \\frac{0.3664 \\left(1.0 - \\frac{f^{2}}{V^{2} \\left(k_{y}^{2} + \\frac{f^{2}}{V^{2}}\\right)}\\right) J^{2}_{2}\\left(2 \\pi R \\sqrt{k_{y}^{2} + \\frac{f^{2}}{V^{2}}}\\right)}{\\pi^{2} R^{2} V r_{0}^{\\frac{5}{3}} \\left(k_{y}^{2} + \\frac{f^{2}}{V^{2}}\\right) \\left(\\left(\\frac{1.0}{L_{0}}\\right)^{2} + k_{y}^{2} + \\frac{f^{2}}{V^{2}}\\right)^{\\frac{11}{6}}}\\, dk_{y}$"
      ],
      "text/plain": [
       "                  k_y_max                                                     \n",
       "                     ⌠                                                        \n",
       "                     ⎮                                          ⎛             \n",
       "                     ⎮           ⎛             2      ⎞         ⎜             \n",
       "                     ⎮           ⎜            f       ⎟        2⎜             \n",
       "                     ⎮    0.3664⋅⎜1.0 - ──────────────⎟⋅besselj ⎜2, 2⋅π⋅R⋅   ╱\n",
       "                     ⎮           ⎜         ⎛        2⎞⎟         ⎜           ╱ \n",
       "                     ⎮           ⎜       2 ⎜   2   f ⎟⎟         ⎝         ╲╱  \n",
       "                     ⎮           ⎜      V ⋅⎜k_y  + ──⎟⎟                       \n",
       "                     ⎮           ⎜         ⎜        2⎟⎟                       \n",
       "                     ⎮           ⎝         ⎝       V ⎠⎠                       \n",
       "φ_Tilt__turb(f) =    ⎮    ────────────────────────────────────────────────────\n",
       "                     ⎮                                                        \n",
       "                     ⎮                          ⎛        2⎞ ⎛     2           \n",
       "                     ⎮             2  2     5/3 ⎜   2   f ⎟ ⎜⎛1.0⎞       2   f\n",
       "                     ⎮            π ⋅R ⋅V⋅r₀   ⋅⎜k_y  + ──⎟⋅⎜⎜───⎟  + k_y  + ─\n",
       "                     ⎮                          ⎜        2⎟ ⎜⎝ L₀⎠            \n",
       "                     ⎮                          ⎝       V ⎠ ⎝                V\n",
       "                     ⌡                                                        \n",
       "                  k_y_min                                                     \n",
       "\n",
       "                     \n",
       "                     \n",
       "  ___________⎞       \n",
       " ╱         2 ⎟       \n",
       "╱     2   f  ⎟       \n",
       "   k_y  + ── ⎟       \n",
       "           2 ⎟       \n",
       "          V  ⎠       \n",
       "                     \n",
       "                     \n",
       "                     \n",
       "────────────── d(k_y)\n",
       "  11/6               \n",
       "2⎞                   \n",
       " ⎟                   \n",
       "─⎟                   \n",
       "2⎟                   \n",
       " ⎠                   \n",
       "                     \n",
       "                     "
      ]
     },
     "metadata": {},
     "output_type": "display_data"
    },
    {
     "data": {
      "text/latex": [
       "$\\displaystyle \\int\\limits_{0.0001}^{100} \\frac{0.000741804030918512 f^{2} J^{2}_{2}\\left(8.0 \\pi \\sqrt{0.0123456790123457 f^{2} + k_{y}^{2}}\\right)}{\\pi^{2} \\left(0.0123456790123457 f^{2} + k_{y}^{2}\\right)^{2} \\left(0.0123456790123457 f^{2} + k_{y}^{2} + 0.0016\\right)^{\\frac{11}{6}}}\\, dk_{y}$"
      ],
      "text/plain": [
       " 100                                                                          \n",
       "  ⌠                                                                           \n",
       "  ⎮                                     ⎛            _________________________\n",
       "  ⎮                           2        2⎜           ╱                     2   \n",
       "  ⎮     0.000741804030918512⋅f ⋅besselj ⎝2, 8.0⋅π⋅╲╱  0.0123456790123457⋅f  + \n",
       "  ⎮    ───────────────────────────────────────────────────────────────────────\n",
       "  ⎮                                     2                                     \n",
       "  ⎮     2 ⎛                    2      2⎞  ⎛                    2      2       \n",
       "  ⎮    π ⋅⎝0.0123456790123457⋅f  + k_y ⎠ ⋅⎝0.0123456790123457⋅f  + k_y  + 0.00\n",
       "  ⌡                                                                           \n",
       "0.0001                                                                        \n",
       "\n",
       "              \n",
       "              \n",
       "_____⎞        \n",
       "   2 ⎟        \n",
       "k_y  ⎠        \n",
       "─────── d(k_y)\n",
       "   11/6       \n",
       "  ⎞           \n",
       "16⎠           \n",
       "              \n",
       "              "
      ]
     },
     "metadata": {},
     "output_type": "display_data"
    },
    {
     "data": {
      "text/plain": [
       "[<matplotlib.lines.Line2D at 0x7f361f7ac8d0>]"
      ]
     },
     "execution_count": 2,
     "metadata": {},
     "output_type": "execute_result"
    },
    {
     "data": {
      "image/png": "[encoded data removed]",
      "text/plain": [
       "<Figure size 432x288 with 1 Axes>"
      ]
     },
     "metadata": {
      "needs_background": "light"
     },
     "output_type": "display_data"
    }
   ],
   "source": [
    "ff1 = turbPSDTip()\n",
    "ff2 = turbPSDTilt()\n",
    "display(ff1)\n",
    "display(ff2)\n",
    "ff1 = subsParamsByName(ff1, {'V':WindSpeed, 'R':TelescopeDiameter/2.0, 'r_0':r0_Value, 'L_0':L0_Value, 'k_y_min':0.0001, 'k_y_max':100})\n",
    "ff2 = subsParamsByName(ff2, {'V':WindSpeed, 'R':TelescopeDiameter/2.0, 'r_0':r0_Value, 'L_0':L0_Value, 'k_y_min':0.0001, 'k_y_max':100})\n",
    "display(ff1.rhs)\n",
    "\n",
    "mIt = Integrator('', cp, cp.float64)\n",
    "\n",
    "paramAndRange = ( 'f', psd_turb_data[0][0], psd_turb_data[0][-1], psd_turb_data[0].size, 'linear' )\n",
    "scaleFactor = 1000*np.pi/2.0\n",
    "plt.xscale('log')\n",
    "plt.yscale('log')\n",
    "xplot1, zplot1 = mIt.IntegralEval(ff1.lhs, ff1.rhs, [paramAndRange], [(10000, 'linear')], 'rect')\n",
    "plt.plot(xplot1[0], zplot1*scaleFactor)\n",
    "psd_turb_tip = zplot1*scaleFactor\n",
    "xplot1, zplot1 = mIt.IntegralEval(ff2.lhs, ff2.rhs, [paramAndRange], [(10000, 'linear')], 'rect')\n",
    "plt.plot(xplot1[0], zplot1*scaleFactor)\n",
    "psd_turb_tilt = zplot1*scaleFactor\n",
    "\n",
    "plt.plot(psd_turb_data[0], psd_turb_data[1])\n",
    "plt.plot(psd_turb_data[0], psd_turb_data[2])"
   ]
  },
  {
   "cell_type": "code",
   "execution_count": 3,
   "metadata": {},
   "outputs": [
    {
     "data": {
      "text/latex": [
       "$\\displaystyle \\frac{0.148843545191282 \\pi^{2} D^{2}}{N_{sa,tot}}$"
      ],
      "text/plain": [
       "                   2  2\n",
       "0.148843545191282⋅π ⋅D \n",
       "───────────────────────\n",
       "        N_sa,tot       "
      ]
     },
     "metadata": {},
     "output_type": "display_data"
    },
    {
     "name": "stdout",
     "output_type": "stream",
     "text": [
      "23.5044305390979\n"
     ]
    }
   ],
   "source": [
    "ffC = noisePropagationCoefficient().rhs\n",
    "display(ffC)\n",
    "CValue = subsParamsByName(ffC, {'D':TelescopeDiameter, 'N_sa,tot':4 })\n",
    "print(CValue.evalf())"
   ]
  },
  {
   "cell_type": "code",
   "execution_count": 4,
   "metadata": {},
   "outputs": [
    {
     "data": {
      "text/latex": [
       "$\\displaystyle \\operatorname{H^{R}_{Tip}}{\\left(z \\right)} = \\frac{1 - \\frac{1}{z}}{g^{Tip}_{0} z^{- d} + 1 - \\frac{1}{z}}$"
      ],
      "text/plain": [
       "                         1        \n",
       "                     1 - ─        \n",
       "                         z        \n",
       "H_Tip__R(z) = ────────────────────\n",
       "                        -d       1\n",
       "              g_0__Tip⋅z   + 1 - ─\n",
       "                                 z"
      ]
     },
     "metadata": {},
     "output_type": "display_data"
    },
    {
     "data": {
      "text/latex": [
       "$\\displaystyle \\operatorname{H^{R}_{Tilt}}{\\left(z \\right)} = \\frac{1 - \\frac{1}{z}}{g^{Tilt}_{0} z^{- d} + 1 - \\frac{1}{z}}$"
      ],
      "text/plain": [
       "                           1        \n",
       "                       1 - ─        \n",
       "                           z        \n",
       "H_Tilt__R(z) = ─────────────────────\n",
       "                          -d       1\n",
       "               g_0__Tilt⋅z   + 1 - ─\n",
       "                                   z"
      ]
     },
     "metadata": {},
     "output_type": "display_data"
    },
    {
     "data": {
      "text/latex": [
       "$\\displaystyle \\operatorname{H^{N}_{Tip}}{\\left(z \\right)} = \\frac{g^{Tip}_{0} z^{- d}}{g^{Tip}_{0} z^{- d} + 1 - \\frac{1}{z}}$"
      ],
      "text/plain": [
       "                            -d    \n",
       "                  g_0__Tip⋅z      \n",
       "H_Tip__N(z) = ────────────────────\n",
       "                        -d       1\n",
       "              g_0__Tip⋅z   + 1 - ─\n",
       "                                 z"
      ]
     },
     "metadata": {},
     "output_type": "display_data"
    },
    {
     "data": {
      "text/latex": [
       "$\\displaystyle \\operatorname{H^{N}_{Tilt}}{\\left(z \\right)} = \\frac{g^{Tilt}_{0} z^{- d}}{g^{Tilt}_{0} z^{- d} + 1 - \\frac{1}{z}}$"
      ],
      "text/plain": [
       "                              -d    \n",
       "                   g_0__Tilt⋅z      \n",
       "H_Tilt__N(z) = ─────────────────────\n",
       "                          -d       1\n",
       "               g_0__Tilt⋅z   + 1 - ─\n",
       "                                   z"
      ]
     },
     "metadata": {},
     "output_type": "display_data"
    },
    {
     "data": {
      "text/latex": [
       "$\\displaystyle \\operatorname{H^{R}_{Tip}}{\\left(f \\right)} = \\frac{1 - e^{- \\frac{2 i \\pi f}{f_{loop}}}}{g^{Tip}_{0} e^{- \\frac{2 i \\pi d f}{f_{loop}}} + 1 - e^{- \\frac{2 i \\pi f}{f_{loop}}}}$"
      ],
      "text/plain": [
       "                               -2⋅ⅈ⋅π⋅f             \n",
       "                               ─────────            \n",
       "                                 fₗₒₒₚ              \n",
       "                          1 - ℯ                     \n",
       "H_Tip__R(f) = ──────────────────────────────────────\n",
       "                        -2⋅ⅈ⋅π⋅d⋅f         -2⋅ⅈ⋅π⋅f \n",
       "                        ───────────        ─────────\n",
       "                           fₗₒₒₚ             fₗₒₒₚ  \n",
       "              g_0__Tip⋅ℯ            + 1 - ℯ         "
      ]
     },
     "metadata": {},
     "output_type": "display_data"
    },
    {
     "data": {
      "text/latex": [
       "$\\displaystyle \\operatorname{H^{R}_{Tilt}}{\\left(f \\right)} = \\frac{1 - e^{- \\frac{2 i \\pi f}{f_{loop}}}}{g^{Tilt}_{0} e^{- \\frac{2 i \\pi d f}{f_{loop}}} + 1 - e^{- \\frac{2 i \\pi f}{f_{loop}}}}$"
      ],
      "text/plain": [
       "                                 -2⋅ⅈ⋅π⋅f             \n",
       "                                 ─────────            \n",
       "                                   fₗₒₒₚ              \n",
       "                            1 - ℯ                     \n",
       "H_Tilt__R(f) = ───────────────────────────────────────\n",
       "                          -2⋅ⅈ⋅π⋅d⋅f         -2⋅ⅈ⋅π⋅f \n",
       "                          ───────────        ─────────\n",
       "                             fₗₒₒₚ             fₗₒₒₚ  \n",
       "               g_0__Tilt⋅ℯ            + 1 - ℯ         "
      ]
     },
     "metadata": {},
     "output_type": "display_data"
    },
    {
     "data": {
      "text/latex": [
       "$\\displaystyle \\phi^{noise}_{Tip}{\\left(f \\right)} = \\frac{C \\sigma^{2}_{WCoG}}{\\Delta_{F} df \\mu_{WCoG}^{2}}$"
      ],
      "text/plain": [
       "                   C⋅σ_WCoG__2  \n",
       "φ_Tip__noise(f) = ──────────────\n",
       "                               2\n",
       "                  Δ_F⋅df⋅μ_WCoG "
      ]
     },
     "metadata": {},
     "output_type": "display_data"
    },
    {
     "data": {
      "text/latex": [
       "$\\displaystyle \\phi^{noise}_{Tilt}{\\left(f \\right)} = \\frac{C \\sigma^{2}_{WCoG}}{\\Delta_{F} df \\mu_{WCoG}^{2}}$"
      ],
      "text/plain": [
       "                    C⋅σ_WCoG__2  \n",
       "φ_Tilt__noise(f) = ──────────────\n",
       "                                2\n",
       "                   Δ_F⋅df⋅μ_WCoG "
      ]
     },
     "metadata": {},
     "output_type": "display_data"
    },
    {
     "data": {
      "text/latex": [
       "$\\displaystyle \\int\\limits_{f_{min}}^{f_{max}} \\left(\\frac{\\left(g^{Tip}_{0}\\right)^{2} \\phi^{noise}_{Tip}}{\\left(g^{Tip}_{0}\\right)^{2} - g^{Tip}_{0} e^{\\frac{2 i \\pi f}{f_{loop}}} e^{- \\frac{2 i \\pi d f}{f_{loop}}} + g^{Tip}_{0} e^{\\frac{2 i \\pi d f}{f_{loop}}} + g^{Tip}_{0} e^{- \\frac{2 i \\pi d f}{f_{loop}}} - g^{Tip}_{0} e^{- \\frac{2 i \\pi f}{f_{loop}}} e^{\\frac{2 i \\pi d f}{f_{loop}}} - e^{\\frac{2 i \\pi f}{f_{loop}}} + 2 - e^{- \\frac{2 i \\pi f}{f_{loop}}}} + \\frac{\\phi^{wind}_{Tip} \\left(- e^{\\frac{2 i \\pi f}{f_{loop}}} + 2 - e^{- \\frac{2 i \\pi f}{f_{loop}}}\\right)}{\\left(g^{Tip}_{0}\\right)^{2} - g^{Tip}_{0} e^{\\frac{2 i \\pi f}{f_{loop}}} e^{- \\frac{2 i \\pi d f}{f_{loop}}} + g^{Tip}_{0} e^{\\frac{2 i \\pi d f}{f_{loop}}} + g^{Tip}_{0} e^{- \\frac{2 i \\pi d f}{f_{loop}}} - g^{Tip}_{0} e^{- \\frac{2 i \\pi f}{f_{loop}}} e^{\\frac{2 i \\pi d f}{f_{loop}}} - e^{\\frac{2 i \\pi f}{f_{loop}}} + 2 - e^{- \\frac{2 i \\pi f}{f_{loop}}}}\\right)\\, df$"
      ],
      "text/plain": [
       "fₘₐₓ                                                                          \n",
       " ⌠                                                                            \n",
       " ⎮   ⎛                                                                        \n",
       " ⎮   ⎜                                                                        \n",
       " ⎮   ⎜                                                                        \n",
       " ⎮   ⎜                                                                g_0__Tip\n",
       " ⎮   ⎜────────────────────────────────────────────────────────────────────────\n",
       " ⎮   ⎜                      2⋅ⅈ⋅π⋅f  -2⋅ⅈ⋅π⋅d⋅f              2⋅ⅈ⋅π⋅d⋅f        \n",
       " ⎮   ⎜                      ───────  ───────────             ─────────        \n",
       " ⎮   ⎜        2              fₗₒₒₚ      fₗₒₒₚ                  fₗₒₒₚ          \n",
       " ⎮   ⎝g_0__Tip  - g_0__Tip⋅ℯ       ⋅ℯ            + g_0__Tip⋅ℯ          + g_0__\n",
       " ⌡                                                                            \n",
       "fₘᵢₙ                                                                          \n",
       "\n",
       "                                                                              \n",
       "                                                                              \n",
       "                                                                              \n",
       "                                                                              \n",
       "2                                                                             \n",
       " ⋅φ_Tip__noise                                                                \n",
       "───────────────────────────────────────────────────────────────────────────── \n",
       "     -2⋅ⅈ⋅π⋅d⋅f              -2⋅ⅈ⋅π⋅f   2⋅ⅈ⋅π⋅d⋅f    2⋅ⅈ⋅π⋅f        -2⋅ⅈ⋅π⋅f  \n",
       "     ───────────             ─────────  ─────────    ───────        ───────── \n",
       "        fₗₒₒₚ                  fₗₒₒₚ      fₗₒₒₚ       fₗₒₒₚ           fₗₒₒₚ   \n",
       "Tip⋅ℯ            - g_0__Tip⋅ℯ         ⋅ℯ          - ℯ        + 2 - ℯ          \n",
       "                                                                              \n",
       "                                                                              \n",
       "\n",
       "                                                                              \n",
       "                                                                              \n",
       "                                                                    ⎛   2⋅ⅈ⋅π⋅\n",
       "                                                                    ⎜   ──────\n",
       "                                                                    ⎜    fₗₒₒₚ\n",
       "                                                        φ_Tip__wind⋅⎝- ℯ      \n",
       "+ ────────────────────────────────────────────────────────────────────────────\n",
       "                        2⋅ⅈ⋅π⋅f  -2⋅ⅈ⋅π⋅d⋅f              2⋅ⅈ⋅π⋅d⋅f            \n",
       "                        ───────  ───────────             ─────────            \n",
       "          2              fₗₒₒₚ      fₗₒₒₚ                  fₗₒₒₚ              \n",
       "  g_0__Tip  - g_0__Tip⋅ℯ       ⋅ℯ            + g_0__Tip⋅ℯ          + g_0__Tip⋅\n",
       "                                                                              \n",
       "                                                                              \n",
       "\n",
       "                                                                             \n",
       "                                                                             \n",
       "f        -2⋅ⅈ⋅π⋅f ⎞                                                      ⎞   \n",
       "─        ─────────⎟                                                      ⎟   \n",
       "           fₗₒₒₚ  ⎟                                                      ⎟   \n",
       "  + 2 - ℯ         ⎠                                                      ⎟   \n",
       "─────────────────────────────────────────────────────────────────────────⎟ df\n",
       " -2⋅ⅈ⋅π⋅d⋅f              -2⋅ⅈ⋅π⋅f   2⋅ⅈ⋅π⋅d⋅f    2⋅ⅈ⋅π⋅f        -2⋅ⅈ⋅π⋅f ⎟   \n",
       " ───────────             ─────────  ─────────    ───────        ─────────⎟   \n",
       "    fₗₒₒₚ                  fₗₒₒₚ      fₗₒₒₚ       fₗₒₒₚ           fₗₒₒₚ  ⎟   \n",
       "ℯ            - g_0__Tip⋅ℯ         ⋅ℯ          - ℯ        + 2 - ℯ         ⎠   \n",
       "                                                                             \n",
       "                                                                             "
      ]
     },
     "metadata": {},
     "output_type": "display_data"
    },
    {
     "data": {
      "text/latex": [
       "$\\displaystyle \\int\\limits_{f_{min}}^{f_{max}} \\left(\\frac{\\left(g^{Tilt}_{0}\\right)^{2} \\phi^{noise}_{Tilt}}{\\left(g^{Tilt}_{0}\\right)^{2} - g^{Tilt}_{0} e^{\\frac{2 i \\pi f}{f_{loop}}} e^{- \\frac{2 i \\pi d f}{f_{loop}}} + g^{Tilt}_{0} e^{\\frac{2 i \\pi d f}{f_{loop}}} + g^{Tilt}_{0} e^{- \\frac{2 i \\pi d f}{f_{loop}}} - g^{Tilt}_{0} e^{- \\frac{2 i \\pi f}{f_{loop}}} e^{\\frac{2 i \\pi d f}{f_{loop}}} - e^{\\frac{2 i \\pi f}{f_{loop}}} + 2 - e^{- \\frac{2 i \\pi f}{f_{loop}}}} + \\frac{\\phi^{wind}_{Tilt} \\left(- e^{\\frac{2 i \\pi f}{f_{loop}}} + 2 - e^{- \\frac{2 i \\pi f}{f_{loop}}}\\right)}{\\left(g^{Tilt}_{0}\\right)^{2} - g^{Tilt}_{0} e^{\\frac{2 i \\pi f}{f_{loop}}} e^{- \\frac{2 i \\pi d f}{f_{loop}}} + g^{Tilt}_{0} e^{\\frac{2 i \\pi d f}{f_{loop}}} + g^{Tilt}_{0} e^{- \\frac{2 i \\pi d f}{f_{loop}}} - g^{Tilt}_{0} e^{- \\frac{2 i \\pi f}{f_{loop}}} e^{\\frac{2 i \\pi d f}{f_{loop}}} - e^{\\frac{2 i \\pi f}{f_{loop}}} + 2 - e^{- \\frac{2 i \\pi f}{f_{loop}}}}\\right)\\, df$"
      ],
      "text/plain": [
       "fₘₐₓ                                                                          \n",
       " ⌠                                                                            \n",
       " ⎮   ⎛                                                                        \n",
       " ⎮   ⎜                                                                        \n",
       " ⎮   ⎜                                                                        \n",
       " ⎮   ⎜                                                                 g_0__Ti\n",
       " ⎮   ⎜────────────────────────────────────────────────────────────────────────\n",
       " ⎮   ⎜                        2⋅ⅈ⋅π⋅f  -2⋅ⅈ⋅π⋅d⋅f               2⋅ⅈ⋅π⋅d⋅f     \n",
       " ⎮   ⎜                        ───────  ───────────              ─────────     \n",
       " ⎮   ⎜         2               fₗₒₒₚ      fₗₒₒₚ                   fₗₒₒₚ       \n",
       " ⎮   ⎝g_0__Tilt  - g_0__Tilt⋅ℯ       ⋅ℯ            + g_0__Tilt⋅ℯ          + g_\n",
       " ⌡                                                                            \n",
       "fₘᵢₙ                                                                          \n",
       "\n",
       "                                                                              \n",
       "                                                                              \n",
       "                                                                              \n",
       "                                                                              \n",
       "  2                                                                           \n",
       "lt ⋅φ_Tilt__noise                                                             \n",
       "──────────────────────────────────────────────────────────────────────────────\n",
       "         -2⋅ⅈ⋅π⋅d⋅f               -2⋅ⅈ⋅π⋅f   2⋅ⅈ⋅π⋅d⋅f    2⋅ⅈ⋅π⋅f        -2⋅ⅈ⋅\n",
       "         ───────────              ─────────  ─────────    ───────        ─────\n",
       "            fₗₒₒₚ                   fₗₒₒₚ      fₗₒₒₚ       fₗₒₒₚ           fₗₒ\n",
       "0__Tilt⋅ℯ            - g_0__Tilt⋅ℯ         ⋅ℯ          - ℯ        + 2 - ℯ     \n",
       "                                                                              \n",
       "                                                                              \n",
       "\n",
       "                                                                              \n",
       "                                                                              \n",
       "                                                                            ⎛ \n",
       "                                                                            ⎜ \n",
       "                                                                            ⎜ \n",
       "                                                               φ_Tilt__wind⋅⎝-\n",
       "──── + ───────────────────────────────────────────────────────────────────────\n",
       "π⋅f                            2⋅ⅈ⋅π⋅f  -2⋅ⅈ⋅π⋅d⋅f               2⋅ⅈ⋅π⋅d⋅f    \n",
       "────                           ───────  ───────────              ─────────    \n",
       "ₒₚ              2               fₗₒₒₚ      fₗₒₒₚ                   fₗₒₒₚ      \n",
       "       g_0__Tilt  - g_0__Tilt⋅ℯ       ⋅ℯ            + g_0__Tilt⋅ℯ          + g\n",
       "                                                                              \n",
       "                                                                              \n",
       "\n",
       "                                                                              \n",
       "                                                                              \n",
       "  2⋅ⅈ⋅π⋅f        -2⋅ⅈ⋅π⋅f ⎞                                                   \n",
       "  ───────        ─────────⎟                                                   \n",
       "   fₗₒₒₚ           fₗₒₒₚ  ⎟                                                   \n",
       " ℯ        + 2 - ℯ         ⎠                                                   \n",
       "──────────────────────────────────────────────────────────────────────────────\n",
       "          -2⋅ⅈ⋅π⋅d⋅f               -2⋅ⅈ⋅π⋅f   2⋅ⅈ⋅π⋅d⋅f    2⋅ⅈ⋅π⋅f        -2⋅ⅈ\n",
       "          ───────────              ─────────  ─────────    ───────        ────\n",
       "             fₗₒₒₚ                   fₗₒₒₚ      fₗₒₒₚ       fₗₒₒₚ           fₗ\n",
       "_0__Tilt⋅ℯ            - g_0__Tilt⋅ℯ         ⋅ℯ          - ℯ        + 2 - ℯ    \n",
       "                                                                              \n",
       "                                                                              \n",
       "\n",
       "         \n",
       "         \n",
       "     ⎞   \n",
       "     ⎟   \n",
       "     ⎟   \n",
       "     ⎟   \n",
       "─────⎟ df\n",
       "⋅π⋅f ⎟   \n",
       "─────⎟   \n",
       "ₒₒₚ  ⎟   \n",
       "     ⎠   \n",
       "         \n",
       "         "
      ]
     },
     "metadata": {},
     "output_type": "display_data"
    }
   ],
   "source": [
    "display(ztfTipWindMono())\n",
    "display(ztfTiltWindMono())\n",
    "display(ztfTipNoiseMono())\n",
    "display(ztfTiltNoiseMono())\n",
    "display(tfTipWind(ztfTipWindMono()))\n",
    "display(tfTiltWind(ztfTiltWindMono()))\n",
    "display(noisePSDTip())\n",
    "display(noisePSDTilt())\n",
    "display(completeIntegralTipLO())\n",
    "display(completeIntegralTiltLO())"
   ]
  },
  {
   "cell_type": "code",
   "execution_count": 5,
   "metadata": {},
   "outputs": [
    {
     "data": {
      "text/latex": [
       "$\\displaystyle \\frac{\\left(g^{Tip}_{0}\\right)^{2} \\phi^{noise}_{Tip} e^{\\frac{3 i \\pi f}{125}} - \\phi^{wind}_{Tip} \\left(\\left(e^{\\frac{i \\pi f}{250}} - 2\\right) e^{\\frac{i \\pi f}{250}} + 1\\right) e^{\\frac{i \\pi f}{50}}}{g^{Tip}_{0} e^{\\frac{3 i \\pi f}{250}} - g^{Tip}_{0} e^{\\frac{2 i \\pi f}{125}} + \\left(\\left(g^{Tip}_{0}\\right)^{2} + g^{Tip}_{0} e^{\\frac{3 i \\pi f}{250}} - g^{Tip}_{0} e^{\\frac{i \\pi f}{125}} - e^{\\frac{i \\pi f}{250}} + 2\\right) e^{\\frac{3 i \\pi f}{125}} - e^{\\frac{i \\pi f}{50}}}$"
      ],
      "text/plain": [
       "                                             3⋅ⅈ⋅π⋅f               ⎛⎛ ⅈ⋅π⋅f   \n",
       "                                             ───────               ⎜⎜ ─────   \n",
       "                             2                 125                 ⎜⎜  250    \n",
       "                     g_0__Tip ⋅φ_Tip__noise⋅ℯ        - φ_Tip__wind⋅⎝⎝ℯ      - \n",
       "──────────────────────────────────────────────────────────────────────────────\n",
       "          3⋅ⅈ⋅π⋅f             2⋅ⅈ⋅π⋅f   ⎛                      3⋅ⅈ⋅π⋅f        \n",
       "          ───────             ───────   ⎜                      ───────        \n",
       "            250                 125     ⎜        2               250          \n",
       "g_0__Tip⋅ℯ        - g_0__Tip⋅ℯ        + ⎝g_0__Tip  + g_0__Tip⋅ℯ        - g_0__\n",
       "\n",
       " ⎞  ⅈ⋅π⋅f    ⎞  ⅈ⋅π⋅f                     \n",
       " ⎟  ─────    ⎟  ─────                     \n",
       " ⎟   250     ⎟    50                      \n",
       "2⎠⋅ℯ      + 1⎠⋅ℯ                          \n",
       "──────────────────────────────────────────\n",
       "     ⅈ⋅π⋅f    ⅈ⋅π⋅f    ⎞  3⋅ⅈ⋅π⋅f    ⅈ⋅π⋅f\n",
       "     ─────    ─────    ⎟  ───────    ─────\n",
       "      125      250     ⎟    125        50 \n",
       "Tip⋅ℯ      - ℯ      + 2⎠⋅ℯ        - ℯ     "
      ]
     },
     "metadata": {},
     "output_type": "display_data"
    },
    {
     "data": {
      "text/latex": [
       "$\\displaystyle \\frac{\\left(g^{Tilt}_{0}\\right)^{2} \\phi^{noise}_{Tilt} e^{\\frac{3 i \\pi f}{125}} - \\phi^{wind}_{Tilt} \\left(\\left(e^{\\frac{i \\pi f}{250}} - 2\\right) e^{\\frac{i \\pi f}{250}} + 1\\right) e^{\\frac{i \\pi f}{50}}}{g^{Tilt}_{0} e^{\\frac{3 i \\pi f}{250}} - g^{Tilt}_{0} e^{\\frac{2 i \\pi f}{125}} + \\left(\\left(g^{Tilt}_{0}\\right)^{2} + g^{Tilt}_{0} e^{\\frac{3 i \\pi f}{250}} - g^{Tilt}_{0} e^{\\frac{i \\pi f}{125}} - e^{\\frac{i \\pi f}{250}} + 2\\right) e^{\\frac{3 i \\pi f}{125}} - e^{\\frac{i \\pi f}{50}}}$"
      ],
      "text/plain": [
       "                                                3⋅ⅈ⋅π⋅f                ⎛⎛ ⅈ⋅π⋅\n",
       "                                                ───────                ⎜⎜ ────\n",
       "                               2                  125                  ⎜⎜  250\n",
       "                      g_0__Tilt ⋅φ_Tilt__noise⋅ℯ        - φ_Tilt__wind⋅⎝⎝ℯ    \n",
       "──────────────────────────────────────────────────────────────────────────────\n",
       "           3⋅ⅈ⋅π⋅f              2⋅ⅈ⋅π⋅f   ⎛                        3⋅ⅈ⋅π⋅f    \n",
       "           ───────              ───────   ⎜                        ───────    \n",
       "             250                  125     ⎜         2                250      \n",
       "g_0__Tilt⋅ℯ        - g_0__Tilt⋅ℯ        + ⎝g_0__Tilt  + g_0__Tilt⋅ℯ        - g\n",
       "\n",
       "f    ⎞  ⅈ⋅π⋅f    ⎞  ⅈ⋅π⋅f                      \n",
       "─    ⎟  ─────    ⎟  ─────                      \n",
       "     ⎟   250     ⎟    50                       \n",
       "  - 2⎠⋅ℯ      + 1⎠⋅ℯ                           \n",
       "───────────────────────────────────────────────\n",
       "          ⅈ⋅π⋅f    ⅈ⋅π⋅f    ⎞  3⋅ⅈ⋅π⋅f    ⅈ⋅π⋅f\n",
       "          ─────    ─────    ⎟  ───────    ─────\n",
       "           125      250     ⎟    125        50 \n",
       "_0__Tilt⋅ℯ      - ℯ      + 2⎠⋅ℯ        - ℯ     "
      ]
     },
     "metadata": {},
     "output_type": "display_data"
    }
   ],
   "source": [
    "iTip = subsParamsByName(completeIntegralTipLO(), {'d':3, 'f_loop':500})\n",
    "iTilt = subsParamsByName(completeIntegralTiltLO(), {'d':3, 'f_loop':500})\n",
    "fTip = iTip.function\n",
    "fTilt = iTilt.function\n",
    "fTipS = sp.simplify(fTip)\n",
    "fTiltS = sp.simplify(fTilt)\n",
    "display(fTipS)\n",
    "display(fTiltS)"
   ]
  },
  {
   "cell_type": "code",
   "execution_count": 6,
   "metadata": {},
   "outputs": [
    {
     "data": {
      "text/latex": [
       "$\\displaystyle \\frac{12.07 \\left(g^{Tip}_{0}\\right)^{2} e^{\\frac{3 i \\pi f}{125}} - \\phi^{wind}_{Tip} \\left(\\left(e^{\\frac{i \\pi f}{250}} - 2\\right) e^{\\frac{i \\pi f}{250}} + 1\\right) e^{\\frac{i \\pi f}{50}}}{g^{Tip}_{0} e^{\\frac{3 i \\pi f}{250}} - g^{Tip}_{0} e^{\\frac{2 i \\pi f}{125}} + \\left(\\left(g^{Tip}_{0}\\right)^{2} + g^{Tip}_{0} e^{\\frac{3 i \\pi f}{250}} - g^{Tip}_{0} e^{\\frac{i \\pi f}{125}} - e^{\\frac{i \\pi f}{250}} + 2\\right) e^{\\frac{3 i \\pi f}{125}} - e^{\\frac{i \\pi f}{50}}}$"
      ],
      "text/plain": [
       "                                         3⋅ⅈ⋅π⋅f               ⎛⎛ ⅈ⋅π⋅f    ⎞  \n",
       "                                         ───────               ⎜⎜ ─────    ⎟  \n",
       "                                      2    125                 ⎜⎜  250     ⎟  \n",
       "                        12.07⋅g_0__Tip ⋅ℯ        - φ_Tip__wind⋅⎝⎝ℯ      - 2⎠⋅ℯ\n",
       "──────────────────────────────────────────────────────────────────────────────\n",
       "          3⋅ⅈ⋅π⋅f             2⋅ⅈ⋅π⋅f   ⎛                      3⋅ⅈ⋅π⋅f        \n",
       "          ───────             ───────   ⎜                      ───────        \n",
       "            250                 125     ⎜        2               250          \n",
       "g_0__Tip⋅ℯ        - g_0__Tip⋅ℯ        + ⎝g_0__Tip  + g_0__Tip⋅ℯ        - g_0__\n",
       "\n",
       "ⅈ⋅π⋅f    ⎞  ⅈ⋅π⋅f                         \n",
       "─────    ⎟  ─────                         \n",
       " 250     ⎟    50                          \n",
       "      + 1⎠⋅ℯ                              \n",
       "──────────────────────────────────────────\n",
       "     ⅈ⋅π⋅f    ⅈ⋅π⋅f    ⎞  3⋅ⅈ⋅π⋅f    ⅈ⋅π⋅f\n",
       "     ─────    ─────    ⎟  ───────    ─────\n",
       "      125      250     ⎟    125        50 \n",
       "Tip⋅ℯ      - ℯ      + 2⎠⋅ℯ        - ℯ     "
      ]
     },
     "metadata": {},
     "output_type": "display_data"
    },
    {
     "data": {
      "text/latex": [
       "$\\displaystyle \\frac{12.07 \\left(g^{Tilt}_{0}\\right)^{2} e^{\\frac{3 i \\pi f}{125}} - \\phi^{wind}_{Tilt} \\left(\\left(e^{\\frac{i \\pi f}{250}} - 2\\right) e^{\\frac{i \\pi f}{250}} + 1\\right) e^{\\frac{i \\pi f}{50}}}{g^{Tilt}_{0} e^{\\frac{3 i \\pi f}{250}} - g^{Tilt}_{0} e^{\\frac{2 i \\pi f}{125}} + \\left(\\left(g^{Tilt}_{0}\\right)^{2} + g^{Tilt}_{0} e^{\\frac{3 i \\pi f}{250}} - g^{Tilt}_{0} e^{\\frac{i \\pi f}{125}} - e^{\\frac{i \\pi f}{250}} + 2\\right) e^{\\frac{3 i \\pi f}{125}} - e^{\\frac{i \\pi f}{50}}}$"
      ],
      "text/plain": [
       "                                            3⋅ⅈ⋅π⋅f                ⎛⎛ ⅈ⋅π⋅f   \n",
       "                                            ───────                ⎜⎜ ─────   \n",
       "                                         2    125                  ⎜⎜  250    \n",
       "                          12.07⋅g_0__Tilt ⋅ℯ        - φ_Tilt__wind⋅⎝⎝ℯ      - \n",
       "──────────────────────────────────────────────────────────────────────────────\n",
       "           3⋅ⅈ⋅π⋅f              2⋅ⅈ⋅π⋅f   ⎛                        3⋅ⅈ⋅π⋅f    \n",
       "           ───────              ───────   ⎜                        ───────    \n",
       "             250                  125     ⎜         2                250      \n",
       "g_0__Tilt⋅ℯ        - g_0__Tilt⋅ℯ        + ⎝g_0__Tilt  + g_0__Tilt⋅ℯ        - g\n",
       "\n",
       " ⎞  ⅈ⋅π⋅f    ⎞  ⅈ⋅π⋅f                          \n",
       " ⎟  ─────    ⎟  ─────                          \n",
       " ⎟   250     ⎟    50                           \n",
       "2⎠⋅ℯ      + 1⎠⋅ℯ                               \n",
       "───────────────────────────────────────────────\n",
       "          ⅈ⋅π⋅f    ⅈ⋅π⋅f    ⎞  3⋅ⅈ⋅π⋅f    ⅈ⋅π⋅f\n",
       "          ─────    ─────    ⎟  ───────    ─────\n",
       "           125      250     ⎟    125        50 \n",
       "_0__Tilt⋅ℯ      - ℯ      + 2⎠⋅ℯ        - ℯ     "
      ]
     },
     "metadata": {},
     "output_type": "display_data"
    },
    {
     "name": "stdout",
     "output_type": "stream",
     "text": [
      "[13] 2088.3162815802293\n",
      "[10] 1357.3553487930349\n"
     ]
    },
    {
     "data": {
      "image/png": "[encoded data removed]",
      "text/plain": [
       "<Figure size 432x288 with 1 Axes>"
      ]
     },
     "metadata": {
      "needs_background": "light"
     },
     "output_type": "display_data"
    }
   ],
   "source": [
    "import functools \n",
    "\n",
    "psd_freq = psd_turb_data[0,:]\n",
    "df = psd_freq[1]-psd_freq[0]\n",
    "Df = psd_freq[-1]-psd_freq[0]\n",
    "psd_tip_wind = psd_turb_data[1,:] #/scaleFactor\n",
    "psd_tilt_wind = psd_turb_data[2,:] # /scaleFactor\n",
    "freq_samples = psd_tip_wind.size\n",
    "# qui usa la formula\n",
    "psd_tip_noise = 4.828 * np.ones(freq_samples, np.float64) \n",
    "psd_tilt_noise = 4.828 * np.ones(freq_samples, np.float64)\n",
    "\n",
    "phi_noise_tip_level = 4.828 * 2.5\n",
    "phi_noise_tilt_level = 4.828 * 2.5\n",
    "fTipS1 = subsParamsByName(fTipS, {'phi^noise_Tip': phi_noise_tip_level})\n",
    "fTiltS1 = subsParamsByName( fTiltS, {'phi^noise_Tilt': phi_noise_tilt_level})\n",
    "display(fTipS1)\n",
    "display(fTiltS1)\n",
    "\n",
    "npoints = 99\n",
    "g0g = np.asarray( np.linspace(0.01, 0.99, npoints) )\n",
    "uu = np.ones((freq_samples), dtype=np.float64)\n",
    "\n",
    "\n",
    "resultTip = np.zeros((npoints), dtype=np.float64)\n",
    "fTipS_lambda1 = sp.lambdify( [  getSymbolByName(fTipS1, 'g^Tip_0'),\n",
    "                              getSymbolByName(fTipS1, 'f'),\n",
    "                              getSymbolByName(fTipS1, 'phi^wind_Tip') ], fTipS1, modules=\"scipy\" )\n",
    "for ii in range(npoints):\n",
    "    g0v = g0g[ii] * uu\n",
    "    fTipS_lambda2 = functools.partial(fTipS_lambda1, g0v)        \n",
    "    resultTip[ii] = np.absolute((np.sum(fTipS_lambda2(psd_freq, psd_tip_wind)) ) )\n",
    "\n",
    "resultTilt = np.zeros((npoints), dtype=np.float64)\n",
    "fTiltS_lambda1 = sp.lambdify( [  getSymbolByName(fTiltS1, 'g^Tilt_0'),\n",
    "                              getSymbolByName(fTiltS1, 'f'),\n",
    "                              getSymbolByName(fTiltS1, 'phi^wind_Tilt') ], fTiltS1, modules=\"scipy\" )\n",
    "for ii in range(npoints):\n",
    "    g0v = g0g[ii] * uu\n",
    "    fTiltS_lambda2 = functools.partial(fTiltS_lambda1, g0v)        \n",
    "    resultTilt[ii] = np.absolute((np.sum(fTiltS_lambda2(psd_freq, psd_tilt_wind)) ) )\n",
    "\n",
    "    \n",
    "plt.xscale('linear')\n",
    "plt.yscale('log')\n",
    "plt.plot(np.abs(resultTip - res_noise_ngs_tip))\n",
    "#plt.plot(result)\n",
    "#plt.plot(res_noise_ngs_tip)\n",
    "\n",
    "minTipIdx = np.where(resultTip == np.amin(resultTip))\n",
    "print(minTipIdx[0], resultTip[minTipIdx[0][0]])\n",
    "minTiltIdx = np.where(resultTilt == np.amin(resultTilt))\n",
    "print(minTiltIdx[0], resultTilt[minTiltIdx[0][0]])\n"
   ]
  },
  {
   "cell_type": "code",
   "execution_count": 7,
   "metadata": {},
   "outputs": [
    {
     "data": {
      "text/latex": [
       "$\\displaystyle res = \\sqrt{\\epsilon_{Tilt} + \\epsilon_{Tip}}$"
      ],
      "text/plain": [
       "        ________________\n",
       "res = ╲╱ ε_Tilt + ε_Tip "
      ]
     },
     "metadata": {},
     "output_type": "display_data"
    },
    {
     "data": {
      "text/latex": [
       "$\\displaystyle \\epsilon_{Tip} = \\int\\limits_{f_{min}}^{f_{max}} \\phi^{res}_{Tip}\\, df$"
      ],
      "text/plain": [
       "        fₘₐₓ              \n",
       "         ⌠                \n",
       "ε_Tip =  ⎮   φ_Tip__res df\n",
       "         ⌡                \n",
       "        fₘᵢₙ              "
      ]
     },
     "metadata": {},
     "output_type": "display_data"
    },
    {
     "data": {
      "text/latex": [
       "$\\displaystyle \\epsilon_{Tilt} = \\int\\limits_{f_{min}}^{f_{max}} \\phi^{res}_{Tilt}\\, df$"
      ],
      "text/plain": [
       "         fₘₐₓ               \n",
       "          ⌠                 \n",
       "ε_Tilt =  ⎮   φ_Tilt__res df\n",
       "          ⌡                 \n",
       "         fₘᵢₙ               "
      ]
     },
     "metadata": {},
     "output_type": "display_data"
    },
    {
     "data": {
      "text/latex": [
       "$\\displaystyle \\phi^{res}_{Tip} = \\phi^{noise}_{Tip} \\left|{H^{N}_{Tip}}\\right|^{2} + \\phi^{wind}_{Tip} \\left|{H^{R}_{Tip}}\\right|^{2}$"
      ],
      "text/plain": [
       "                                    2                         2\n",
       "φ_Tip__res = φ_Tip__noise⋅│H_Tip__N│  + φ_Tip__wind⋅│H_Tip__R│ "
      ]
     },
     "metadata": {},
     "output_type": "display_data"
    },
    {
     "data": {
      "text/latex": [
       "$\\displaystyle \\phi^{res}_{Tilt} = \\phi^{noise}_{Tilt} \\left|{H^{N}_{Tilt}}\\right|^{2} + \\phi^{wind}_{Tilt} \\left|{H^{R}_{Tilt}}\\right|^{2}$"
      ],
      "text/plain": [
       "                                       2                           2\n",
       "φ_Tilt__res = φ_Tilt__noise⋅│H_Tilt__N│  + φ_Tilt__wind⋅│H_Tilt__R│ "
      ]
     },
     "metadata": {},
     "output_type": "display_data"
    },
    {
     "data": {
      "text/latex": [
       "$\\displaystyle \\operatorname{H^{R}_{Tip}}{\\left(z \\right)} = \\frac{\\left(1 - \\frac{1}{z}\\right)^{2}}{\\left(g^{Tip}_{1} + 1 - \\frac{1}{z}\\right) \\left(g^{Tip}_{0} z^{- d} + 1 - \\frac{1}{z}\\right)}$"
      ],
      "text/plain": [
       "                                      2                \n",
       "                               ⎛    1⎞                 \n",
       "                               ⎜1 - ─⎟                 \n",
       "                               ⎝    z⎠                 \n",
       "H_Tip__R(z) = ─────────────────────────────────────────\n",
       "              ⎛               1⎞ ⎛          -d       1⎞\n",
       "              ⎜g_1__Tip + 1 - ─⎟⋅⎜g_0__Tip⋅z   + 1 - ─⎟\n",
       "              ⎝               z⎠ ⎝                   z⎠"
      ]
     },
     "metadata": {},
     "output_type": "display_data"
    },
    {
     "data": {
      "text/latex": [
       "$\\displaystyle \\operatorname{H^{R}_{Tilt}}{\\left(z \\right)} = \\frac{\\left(1 - \\frac{1}{z}\\right)^{2}}{\\left(g^{Tilt}_{1} + 1 - \\frac{1}{z}\\right) \\left(g^{Tilt}_{0} z^{- d} + 1 - \\frac{1}{z}\\right)}$"
      ],
      "text/plain": [
       "                                        2                 \n",
       "                                 ⎛    1⎞                  \n",
       "                                 ⎜1 - ─⎟                  \n",
       "                                 ⎝    z⎠                  \n",
       "H_Tilt__R(z) = ───────────────────────────────────────────\n",
       "               ⎛                1⎞ ⎛           -d       1⎞\n",
       "               ⎜g_1__Tilt + 1 - ─⎟⋅⎜g_0__Tilt⋅z   + 1 - ─⎟\n",
       "               ⎝                z⎠ ⎝                    z⎠"
      ]
     },
     "metadata": {},
     "output_type": "display_data"
    },
    {
     "data": {
      "text/latex": [
       "$\\displaystyle \\operatorname{H^{N}_{Tip}}{\\left(z \\right)} = \\frac{g^{Tip}_{0} g^{Tip}_{1} z^{- d}}{\\left(g^{Tip}_{1} + 1 - \\frac{1}{z}\\right) \\left(g^{Tip}_{0} z^{- d} + 1 - \\frac{1}{z}\\right)}$"
      ],
      "text/plain": [
       "                                           -d          \n",
       "                        g_0__Tip⋅g_1__Tip⋅z            \n",
       "H_Tip__N(z) = ─────────────────────────────────────────\n",
       "              ⎛               1⎞ ⎛          -d       1⎞\n",
       "              ⎜g_1__Tip + 1 - ─⎟⋅⎜g_0__Tip⋅z   + 1 - ─⎟\n",
       "              ⎝               z⎠ ⎝                   z⎠"
      ]
     },
     "metadata": {},
     "output_type": "display_data"
    },
    {
     "data": {
      "text/latex": [
       "$\\displaystyle \\operatorname{H^{N}_{Tilt}}{\\left(z \\right)} = \\frac{g^{Tilt}_{0} g^{Tilt}_{1} z^{- d}}{\\left(g^{Tilt}_{1} + 1 - \\frac{1}{z}\\right) \\left(g^{Tilt}_{0} z^{- d} + 1 - \\frac{1}{z}\\right)}$"
      ],
      "text/plain": [
       "                                              -d          \n",
       "                         g_0__Tilt⋅g_1__Tilt⋅z            \n",
       "H_Tilt__N(z) = ───────────────────────────────────────────\n",
       "               ⎛                1⎞ ⎛           -d       1⎞\n",
       "               ⎜g_1__Tilt + 1 - ─⎟⋅⎜g_0__Tilt⋅z   + 1 - ─⎟\n",
       "               ⎝                z⎠ ⎝                    z⎠"
      ]
     },
     "metadata": {},
     "output_type": "display_data"
    },
    {
     "data": {
      "text/latex": [
       "$\\displaystyle \\operatorname{H^{R}_{Tip}}{\\left(f \\right)} = \\frac{\\left(1 - e^{- \\frac{2 i \\pi f}{f_{loop}}}\\right)^{2}}{\\left(g^{Tip}_{1} + 1 - e^{- \\frac{2 i \\pi f}{f_{loop}}}\\right) \\left(g^{Tip}_{0} e^{- \\frac{2 i \\pi d f}{f_{loop}}} + 1 - e^{- \\frac{2 i \\pi f}{f_{loop}}}\\right)}$"
      ],
      "text/plain": [
       "                                                       2                      \n",
       "                                       ⎛     -2⋅ⅈ⋅π⋅f ⎞                       \n",
       "                                       ⎜     ─────────⎟                       \n",
       "                                       ⎜       fₗₒₒₚ  ⎟                       \n",
       "                                       ⎝1 - ℯ         ⎠                       \n",
       "H_Tip__R(f) = ────────────────────────────────────────────────────────────────\n",
       "              ⎛                -2⋅ⅈ⋅π⋅f ⎞ ⎛          -2⋅ⅈ⋅π⋅d⋅f         -2⋅ⅈ⋅π\n",
       "              ⎜                ─────────⎟ ⎜          ───────────        ──────\n",
       "              ⎜                  fₗₒₒₚ  ⎟ ⎜             fₗₒₒₚ             fₗₒₒ\n",
       "              ⎝g_1__Tip + 1 - ℯ         ⎠⋅⎝g_0__Tip⋅ℯ            + 1 - ℯ      \n",
       "\n",
       "    \n",
       "    \n",
       "    \n",
       "    \n",
       "    \n",
       "────\n",
       "⋅f ⎞\n",
       "───⎟\n",
       "ₚ  ⎟\n",
       "   ⎠"
      ]
     },
     "metadata": {},
     "output_type": "display_data"
    },
    {
     "data": {
      "text/latex": [
       "$\\displaystyle \\operatorname{H^{R}_{Tilt}}{\\left(f \\right)} = \\frac{\\left(1 - e^{- \\frac{2 i \\pi f}{f_{loop}}}\\right)^{2}}{\\left(g^{Tilt}_{1} + 1 - e^{- \\frac{2 i \\pi f}{f_{loop}}}\\right) \\left(g^{Tilt}_{0} e^{- \\frac{2 i \\pi d f}{f_{loop}}} + 1 - e^{- \\frac{2 i \\pi f}{f_{loop}}}\\right)}$"
      ],
      "text/plain": [
       "                                                         2                    \n",
       "                                         ⎛     -2⋅ⅈ⋅π⋅f ⎞                     \n",
       "                                         ⎜     ─────────⎟                     \n",
       "                                         ⎜       fₗₒₒₚ  ⎟                     \n",
       "                                         ⎝1 - ℯ         ⎠                     \n",
       "H_Tilt__R(f) = ───────────────────────────────────────────────────────────────\n",
       "               ⎛                 -2⋅ⅈ⋅π⋅f ⎞ ⎛           -2⋅ⅈ⋅π⋅d⋅f         -2⋅\n",
       "               ⎜                 ─────────⎟ ⎜           ───────────        ───\n",
       "               ⎜                   fₗₒₒₚ  ⎟ ⎜              fₗₒₒₚ             f\n",
       "               ⎝g_1__Tilt + 1 - ℯ         ⎠⋅⎝g_0__Tilt⋅ℯ            + 1 - ℯ   \n",
       "\n",
       "       \n",
       "       \n",
       "       \n",
       "       \n",
       "       \n",
       "───────\n",
       "ⅈ⋅π⋅f ⎞\n",
       "──────⎟\n",
       "ₗₒₒₚ  ⎟\n",
       "      ⎠"
      ]
     },
     "metadata": {},
     "output_type": "display_data"
    },
    {
     "data": {
      "text/latex": [
       "$\\displaystyle \\operatorname{H^{N}_{Tip}}{\\left(f \\right)} = \\frac{g^{Tip}_{0} g^{Tip}_{1} e^{- \\frac{2 i \\pi d f}{f_{loop}}}}{\\left(g^{Tip}_{1} + 1 - e^{- \\frac{2 i \\pi f}{f_{loop}}}\\right) \\left(g^{Tip}_{0} e^{- \\frac{2 i \\pi d f}{f_{loop}}} + 1 - e^{- \\frac{2 i \\pi f}{f_{loop}}}\\right)}$"
      ],
      "text/plain": [
       "                                                    -2⋅ⅈ⋅π⋅d⋅f                \n",
       "                                                    ───────────               \n",
       "                                                       fₗₒₒₚ                  \n",
       "                                 g_0__Tip⋅g_1__Tip⋅ℯ                          \n",
       "H_Tip__N(f) = ────────────────────────────────────────────────────────────────\n",
       "              ⎛                -2⋅ⅈ⋅π⋅f ⎞ ⎛          -2⋅ⅈ⋅π⋅d⋅f         -2⋅ⅈ⋅π\n",
       "              ⎜                ─────────⎟ ⎜          ───────────        ──────\n",
       "              ⎜                  fₗₒₒₚ  ⎟ ⎜             fₗₒₒₚ             fₗₒₒ\n",
       "              ⎝g_1__Tip + 1 - ℯ         ⎠⋅⎝g_0__Tip⋅ℯ            + 1 - ℯ      \n",
       "\n",
       "    \n",
       "    \n",
       "    \n",
       "    \n",
       "────\n",
       "⋅f ⎞\n",
       "───⎟\n",
       "ₚ  ⎟\n",
       "   ⎠"
      ]
     },
     "metadata": {},
     "output_type": "display_data"
    },
    {
     "data": {
      "text/latex": [
       "$\\displaystyle \\operatorname{H^{N}_{Tilt}}{\\left(f \\right)} = \\frac{g^{Tilt}_{0} g^{Tilt}_{1} e^{- \\frac{2 i \\pi d f}{f_{loop}}}}{\\left(g^{Tilt}_{1} + 1 - e^{- \\frac{2 i \\pi f}{f_{loop}}}\\right) \\left(g^{Tilt}_{0} e^{- \\frac{2 i \\pi d f}{f_{loop}}} + 1 - e^{- \\frac{2 i \\pi f}{f_{loop}}}\\right)}$"
      ],
      "text/plain": [
       "                                                       -2⋅ⅈ⋅π⋅d⋅f             \n",
       "                                                       ───────────            \n",
       "                                                          fₗₒₒₚ               \n",
       "                                  g_0__Tilt⋅g_1__Tilt⋅ℯ                       \n",
       "H_Tilt__N(f) = ───────────────────────────────────────────────────────────────\n",
       "               ⎛                 -2⋅ⅈ⋅π⋅f ⎞ ⎛           -2⋅ⅈ⋅π⋅d⋅f         -2⋅\n",
       "               ⎜                 ─────────⎟ ⎜           ───────────        ───\n",
       "               ⎜                   fₗₒₒₚ  ⎟ ⎜              fₗₒₒₚ             f\n",
       "               ⎝g_1__Tilt + 1 - ℯ         ⎠⋅⎝g_0__Tilt⋅ℯ            + 1 - ℯ   \n",
       "\n",
       "       \n",
       "       \n",
       "       \n",
       "       \n",
       "───────\n",
       "ⅈ⋅π⋅f ⎞\n",
       "──────⎟\n",
       "ₗₒₒₚ  ⎟\n",
       "      ⎠"
      ]
     },
     "metadata": {},
     "output_type": "display_data"
    }
   ],
   "source": [
    "display(residualTT())\n",
    "display(residualTip())\n",
    "display(residualTilt())\n",
    "display(residualTipPSD())\n",
    "display(residualTiltPSD())\n",
    "display(ztfTipWind())\n",
    "display(ztfTiltWind())\n",
    "display(ztfTipNoise())\n",
    "display(ztfTiltNoise())\n",
    "display(tfTipWind())\n",
    "display(tfTiltWind())\n",
    "display(tfTipNoise())\n",
    "display(tfTiltNoise())"
   ]
  },
  {
   "cell_type": "code",
   "execution_count": 8,
   "metadata": {},
   "outputs": [
    {
     "data": {
      "text/latex": [
       "$\\displaystyle \\int\\limits_{f_{min}}^{f_{max}} \\left(\\frac{\\left(g^{Tip}_{0}\\right)^{2} \\left(g^{Tip}_{1}\\right)^{2} \\phi^{noise}_{Tip}}{\\left(\\left(g^{Tip}_{1}\\right)^{2} - g^{Tip}_{1} e^{\\frac{2 i \\pi f}{f_{loop}}} + 2 g^{Tip}_{1} - g^{Tip}_{1} e^{- \\frac{2 i \\pi f}{f_{loop}}} - e^{\\frac{2 i \\pi f}{f_{loop}}} + 2 - e^{- \\frac{2 i \\pi f}{f_{loop}}}\\right) \\left(\\left(g^{Tip}_{0}\\right)^{2} - g^{Tip}_{0} e^{\\frac{2 i \\pi f}{f_{loop}}} e^{- \\frac{2 i \\pi d f}{f_{loop}}} + g^{Tip}_{0} e^{\\frac{2 i \\pi d f}{f_{loop}}} + g^{Tip}_{0} e^{- \\frac{2 i \\pi d f}{f_{loop}}} - g^{Tip}_{0} e^{- \\frac{2 i \\pi f}{f_{loop}}} e^{\\frac{2 i \\pi d f}{f_{loop}}} - e^{\\frac{2 i \\pi f}{f_{loop}}} + 2 - e^{- \\frac{2 i \\pi f}{f_{loop}}}\\right)} + \\frac{\\phi^{wind}_{Tip} \\left(1 - e^{- \\frac{2 i \\pi f}{f_{loop}}}\\right)^{2} \\left(e^{\\frac{2 i \\pi f}{f_{loop}}} - 1\\right)^{2}}{\\left(\\left(g^{Tip}_{1}\\right)^{2} - g^{Tip}_{1} e^{\\frac{2 i \\pi f}{f_{loop}}} + 2 g^{Tip}_{1} - g^{Tip}_{1} e^{- \\frac{2 i \\pi f}{f_{loop}}} - e^{\\frac{2 i \\pi f}{f_{loop}}} + 2 - e^{- \\frac{2 i \\pi f}{f_{loop}}}\\right) \\left(\\left(g^{Tip}_{0}\\right)^{2} - g^{Tip}_{0} e^{\\frac{2 i \\pi f}{f_{loop}}} e^{- \\frac{2 i \\pi d f}{f_{loop}}} + g^{Tip}_{0} e^{\\frac{2 i \\pi d f}{f_{loop}}} + g^{Tip}_{0} e^{- \\frac{2 i \\pi d f}{f_{loop}}} - g^{Tip}_{0} e^{- \\frac{2 i \\pi f}{f_{loop}}} e^{\\frac{2 i \\pi d f}{f_{loop}}} - e^{\\frac{2 i \\pi f}{f_{loop}}} + 2 - e^{- \\frac{2 i \\pi f}{f_{loop}}}\\right)}\\right)\\, df$"
      ],
      "text/plain": [
       "fₘₐₓ                                                                          \n",
       " ⌠                                                                            \n",
       " ⎮   ⎛                                                                        \n",
       " ⎮   ⎜                                                                        \n",
       " ⎮   ⎜                                                                        \n",
       " ⎮   ⎜                                                                        \n",
       " ⎮   ⎜                                                                        \n",
       " ⎮   ⎜────────────────────────────────────────────────────────────────────────\n",
       " ⎮   ⎜⎛                      2⋅ⅈ⋅π⋅f                          -2⋅ⅈ⋅π⋅f     2⋅ⅈ\n",
       " ⎮   ⎜⎜                      ───────                          ─────────    ───\n",
       " ⎮   ⎜⎜        2              fₗₒₒₚ                             fₗₒₒₚ       fₗ\n",
       " ⎮   ⎝⎝g_1__Tip  - g_1__Tip⋅ℯ        + 2⋅g_1__Tip - g_1__Tip⋅ℯ          - ℯ   \n",
       " ⌡                                                                            \n",
       "fₘᵢₙ                                                                          \n",
       "\n",
       "                                                                              \n",
       "                                                                              \n",
       "                                                                              \n",
       "                                                                              \n",
       "                                                                              \n",
       "                                           2         2                        \n",
       "                                   g_0__Tip ⋅g_1__Tip ⋅φ_Tip__noise           \n",
       "──────────────────────────────────────────────────────────────────────────────\n",
       "⋅π⋅f        -2⋅ⅈ⋅π⋅f ⎞ ⎛                      2⋅ⅈ⋅π⋅f  -2⋅ⅈ⋅π⋅d⋅f             \n",
       "────        ─────────⎟ ⎜                      ───────  ───────────            \n",
       "ₒₒₚ           fₗₒₒₚ  ⎟ ⎜        2              fₗₒₒₚ      fₗₒₒₚ               \n",
       "     + 2 - ℯ         ⎠⋅⎝g_0__Tip  - g_0__Tip⋅ℯ       ⋅ℯ            + g_0__Tip⋅\n",
       "                                                                              \n",
       "                                                                              \n",
       "\n",
       "                                                                              \n",
       "                                                                              \n",
       "                                                                              \n",
       "                                                                              \n",
       "                                                                              \n",
       "                                                                              \n",
       "                                                                              \n",
       "──────────────────────────────────────────────────────────────────────────────\n",
       " 2⋅ⅈ⋅π⋅d⋅f             -2⋅ⅈ⋅π⋅d⋅f              -2⋅ⅈ⋅π⋅f   2⋅ⅈ⋅π⋅d⋅f    2⋅ⅈ⋅π⋅f\n",
       " ─────────             ───────────             ─────────  ─────────    ───────\n",
       "   fₗₒₒₚ                  fₗₒₒₚ                  fₗₒₒₚ      fₗₒₒₚ       fₗₒₒₚ \n",
       "ℯ          + g_0__Tip⋅ℯ            - g_0__Tip⋅ℯ         ⋅ℯ          - ℯ       \n",
       "                                                                              \n",
       "                                                                              \n",
       "\n",
       "                                                                              \n",
       "                                                                              \n",
       "                                                                              \n",
       "                                                                              \n",
       "                                                                              \n",
       "                                                                              \n",
       "                                                                              \n",
       "────────────────── + ─────────────────────────────────────────────────────────\n",
       "        -2⋅ⅈ⋅π⋅f ⎞   ⎛                      2⋅ⅈ⋅π⋅f                          -\n",
       "        ─────────⎟   ⎜                      ───────                          ─\n",
       "          fₗₒₒₚ  ⎟   ⎜        2              fₗₒₒₚ                            \n",
       " + 2 - ℯ         ⎠   ⎝g_1__Tip  - g_1__Tip⋅ℯ        + 2⋅g_1__Tip - g_1__Tip⋅ℯ \n",
       "                                                                              \n",
       "                                                                              \n",
       "\n",
       "                                                                              \n",
       "                                                                              \n",
       "                                                                       2      \n",
       "                                                       ⎛     -2⋅ⅈ⋅π⋅f ⎞  ⎛ 2⋅ⅈ\n",
       "                                                       ⎜     ─────────⎟  ⎜ ───\n",
       "                                                       ⎜       fₗₒₒₚ  ⎟  ⎜  fₗ\n",
       "                                           φ_Tip__wind⋅⎝1 - ℯ         ⎠ ⋅⎝ℯ   \n",
       "──────────────────────────────────────────────────────────────────────────────\n",
       "2⋅ⅈ⋅π⋅f     2⋅ⅈ⋅π⋅f        -2⋅ⅈ⋅π⋅f ⎞ ⎛                      2⋅ⅈ⋅π⋅f  -2⋅ⅈ⋅π⋅d\n",
       "────────    ───────        ─────────⎟ ⎜                      ───────  ────────\n",
       " fₗₒₒₚ       fₗₒₒₚ           fₗₒₒₚ  ⎟ ⎜        2              fₗₒₒₚ      fₗₒₒₚ\n",
       "         - ℯ        + 2 - ℯ         ⎠⋅⎝g_0__Tip  - g_0__Tip⋅ℯ       ⋅ℯ        \n",
       "                                                                              \n",
       "                                                                              \n",
       "\n",
       "                                                                              \n",
       "                                                                              \n",
       "         2                                                                    \n",
       "⋅π⋅f    ⎞                                                                     \n",
       "────    ⎟                                                                     \n",
       "ₒₒₚ     ⎟                                                                     \n",
       "     - 1⎠                                                                     \n",
       "──────────────────────────────────────────────────────────────────────────────\n",
       "⋅f              2⋅ⅈ⋅π⋅d⋅f             -2⋅ⅈ⋅π⋅d⋅f              -2⋅ⅈ⋅π⋅f   2⋅ⅈ⋅π\n",
       "───             ─────────             ───────────             ─────────  ─────\n",
       "                  fₗₒₒₚ                  fₗₒₒₚ                  fₗₒₒₚ      fₗₒ\n",
       "    + g_0__Tip⋅ℯ          + g_0__Tip⋅ℯ            - g_0__Tip⋅ℯ         ⋅ℯ     \n",
       "                                                                              \n",
       "                                                                              \n",
       "\n",
       "                                     \n",
       "                                     \n",
       "                                 ⎞   \n",
       "                                 ⎟   \n",
       "                                 ⎟   \n",
       "                                 ⎟   \n",
       "                                 ⎟   \n",
       "─────────────────────────────────⎟ df\n",
       "⋅d⋅f    2⋅ⅈ⋅π⋅f        -2⋅ⅈ⋅π⋅f ⎞⎟   \n",
       "────    ───────        ─────────⎟⎟   \n",
       "ₒₚ       fₗₒₒₚ           fₗₒₒₚ  ⎟⎟   \n",
       "     - ℯ        + 2 - ℯ         ⎠⎠   \n",
       "                                     \n",
       "                                     "
      ]
     },
     "metadata": {},
     "output_type": "display_data"
    },
    {
     "data": {
      "text/latex": [
       "$\\displaystyle \\int\\limits_{f_{min}}^{f_{max}} \\left(\\frac{\\left(g^{Tilt}_{0}\\right)^{2} \\left(g^{Tilt}_{1}\\right)^{2} \\phi^{noise}_{Tilt}}{\\left(\\left(g^{Tilt}_{1}\\right)^{2} - g^{Tilt}_{1} e^{\\frac{2 i \\pi f}{f_{loop}}} + 2 g^{Tilt}_{1} - g^{Tilt}_{1} e^{- \\frac{2 i \\pi f}{f_{loop}}} - e^{\\frac{2 i \\pi f}{f_{loop}}} + 2 - e^{- \\frac{2 i \\pi f}{f_{loop}}}\\right) \\left(\\left(g^{Tilt}_{0}\\right)^{2} - g^{Tilt}_{0} e^{\\frac{2 i \\pi f}{f_{loop}}} e^{- \\frac{2 i \\pi d f}{f_{loop}}} + g^{Tilt}_{0} e^{\\frac{2 i \\pi d f}{f_{loop}}} + g^{Tilt}_{0} e^{- \\frac{2 i \\pi d f}{f_{loop}}} - g^{Tilt}_{0} e^{- \\frac{2 i \\pi f}{f_{loop}}} e^{\\frac{2 i \\pi d f}{f_{loop}}} - e^{\\frac{2 i \\pi f}{f_{loop}}} + 2 - e^{- \\frac{2 i \\pi f}{f_{loop}}}\\right)} + \\frac{\\phi^{wind}_{Tilt} \\left(1 - e^{- \\frac{2 i \\pi f}{f_{loop}}}\\right)^{2} \\left(e^{\\frac{2 i \\pi f}{f_{loop}}} - 1\\right)^{2}}{\\left(\\left(g^{Tilt}_{1}\\right)^{2} - g^{Tilt}_{1} e^{\\frac{2 i \\pi f}{f_{loop}}} + 2 g^{Tilt}_{1} - g^{Tilt}_{1} e^{- \\frac{2 i \\pi f}{f_{loop}}} - e^{\\frac{2 i \\pi f}{f_{loop}}} + 2 - e^{- \\frac{2 i \\pi f}{f_{loop}}}\\right) \\left(\\left(g^{Tilt}_{0}\\right)^{2} - g^{Tilt}_{0} e^{\\frac{2 i \\pi f}{f_{loop}}} e^{- \\frac{2 i \\pi d f}{f_{loop}}} + g^{Tilt}_{0} e^{\\frac{2 i \\pi d f}{f_{loop}}} + g^{Tilt}_{0} e^{- \\frac{2 i \\pi d f}{f_{loop}}} - g^{Tilt}_{0} e^{- \\frac{2 i \\pi f}{f_{loop}}} e^{\\frac{2 i \\pi d f}{f_{loop}}} - e^{\\frac{2 i \\pi f}{f_{loop}}} + 2 - e^{- \\frac{2 i \\pi f}{f_{loop}}}\\right)}\\right)\\, df$"
      ],
      "text/plain": [
       "fₘₐₓ                                                                          \n",
       " ⌠                                                                            \n",
       " ⎮   ⎛                                                                        \n",
       " ⎮   ⎜                                                                        \n",
       " ⎮   ⎜                                                                        \n",
       " ⎮   ⎜                                                                        \n",
       " ⎮   ⎜                                                                        \n",
       " ⎮   ⎜────────────────────────────────────────────────────────────────────────\n",
       " ⎮   ⎜⎛                        2⋅ⅈ⋅π⋅f                            -2⋅ⅈ⋅π⋅f    \n",
       " ⎮   ⎜⎜                        ───────                            ─────────   \n",
       " ⎮   ⎜⎜         2               fₗₒₒₚ                               fₗₒₒₚ     \n",
       " ⎮   ⎝⎝g_1__Tilt  - g_1__Tilt⋅ℯ        + 2⋅g_1__Tilt - g_1__Tilt⋅ℯ          - \n",
       " ⌡                                                                            \n",
       "fₘᵢₙ                                                                          \n",
       "\n",
       "                                                                              \n",
       "                                                                              \n",
       "                                                                              \n",
       "                                                                              \n",
       "                                                                              \n",
       "                                               2          2                   \n",
       "                                      g_0__Tilt ⋅g_1__Tilt ⋅φ_Tilt__noise     \n",
       "──────────────────────────────────────────────────────────────────────────────\n",
       " 2⋅ⅈ⋅π⋅f        -2⋅ⅈ⋅π⋅f ⎞ ⎛                        2⋅ⅈ⋅π⋅f  -2⋅ⅈ⋅π⋅d⋅f       \n",
       " ───────        ─────────⎟ ⎜                        ───────  ───────────      \n",
       "  fₗₒₒₚ           fₗₒₒₚ  ⎟ ⎜         2               fₗₒₒₚ      fₗₒₒₚ         \n",
       "ℯ        + 2 - ℯ         ⎠⋅⎝g_0__Tilt  - g_0__Tilt⋅ℯ       ⋅ℯ            + g_0\n",
       "                                                                              \n",
       "                                                                              \n",
       "\n",
       "                                                                              \n",
       "                                                                              \n",
       "                                                                              \n",
       "                                                                              \n",
       "                                                                              \n",
       "                                                                              \n",
       "                                                                              \n",
       "──────────────────────────────────────────────────────────────────────────────\n",
       "        2⋅ⅈ⋅π⋅d⋅f              -2⋅ⅈ⋅π⋅d⋅f               -2⋅ⅈ⋅π⋅f   2⋅ⅈ⋅π⋅d⋅f  \n",
       "        ─────────              ───────────              ─────────  ─────────  \n",
       "          fₗₒₒₚ                   fₗₒₒₚ                   fₗₒₒₚ      fₗₒₒₚ    \n",
       "__Tilt⋅ℯ          + g_0__Tilt⋅ℯ            - g_0__Tilt⋅ℯ         ⋅ℯ          -\n",
       "                                                                              \n",
       "                                                                              \n",
       "\n",
       "                                                                              \n",
       "                                                                              \n",
       "                                                                              \n",
       "                                                                              \n",
       "                                                                              \n",
       "                                                                              \n",
       "                                                                              \n",
       "─────────────────────────── + ────────────────────────────────────────────────\n",
       "  2⋅ⅈ⋅π⋅f        -2⋅ⅈ⋅π⋅f ⎞   ⎛                        2⋅ⅈ⋅π⋅f                \n",
       "  ───────        ─────────⎟   ⎜                        ───────                \n",
       "   fₗₒₒₚ           fₗₒₒₚ  ⎟   ⎜         2               fₗₒₒₚ                 \n",
       " ℯ        + 2 - ℯ         ⎠   ⎝g_1__Tilt  - g_1__Tilt⋅ℯ        + 2⋅g_1__Tilt -\n",
       "                                                                              \n",
       "                                                                              \n",
       "\n",
       "                                                                              \n",
       "                                                                              \n",
       "                                                                              \n",
       "                                                                      ⎛     -2\n",
       "                                                                      ⎜     ──\n",
       "                                                                      ⎜       \n",
       "                                                         φ_Tilt__wind⋅⎝1 - ℯ  \n",
       "──────────────────────────────────────────────────────────────────────────────\n",
       "            -2⋅ⅈ⋅π⋅f     2⋅ⅈ⋅π⋅f        -2⋅ⅈ⋅π⋅f ⎞ ⎛                        2⋅\n",
       "            ─────────    ───────        ─────────⎟ ⎜                        ──\n",
       "              fₗₒₒₚ       fₗₒₒₚ           fₗₒₒₚ  ⎟ ⎜         2               f\n",
       " g_1__Tilt⋅ℯ          - ℯ        + 2 - ℯ         ⎠⋅⎝g_0__Tilt  - g_0__Tilt⋅ℯ  \n",
       "                                                                              \n",
       "                                                                              \n",
       "\n",
       "                                                                              \n",
       "                                                                              \n",
       "        2               2                                                     \n",
       "⋅ⅈ⋅π⋅f ⎞  ⎛ 2⋅ⅈ⋅π⋅f    ⎞                                                      \n",
       "───────⎟  ⎜ ───────    ⎟                                                      \n",
       "fₗₒₒₚ  ⎟  ⎜  fₗₒₒₚ     ⎟                                                      \n",
       "       ⎠ ⋅⎝ℯ        - 1⎠                                                      \n",
       "──────────────────────────────────────────────────────────────────────────────\n",
       "ⅈ⋅π⋅f  -2⋅ⅈ⋅π⋅d⋅f               2⋅ⅈ⋅π⋅d⋅f              -2⋅ⅈ⋅π⋅d⋅f             \n",
       "─────  ───────────              ─────────              ───────────            \n",
       "ₗₒₒₚ      fₗₒₒₚ                   fₗₒₒₚ                   fₗₒₒₚ               \n",
       "     ⋅ℯ            + g_0__Tilt⋅ℯ          + g_0__Tilt⋅ℯ            - g_0__Tilt\n",
       "                                                                              \n",
       "                                                                              \n",
       "\n",
       "                                                       \n",
       "                                                       \n",
       "                                                   ⎞   \n",
       "                                                   ⎟   \n",
       "                                                   ⎟   \n",
       "                                                   ⎟   \n",
       "                                                   ⎟   \n",
       "───────────────────────────────────────────────────⎟ df\n",
       "  -2⋅ⅈ⋅π⋅f   2⋅ⅈ⋅π⋅d⋅f    2⋅ⅈ⋅π⋅f        -2⋅ⅈ⋅π⋅f ⎞⎟   \n",
       "  ─────────  ─────────    ───────        ─────────⎟⎟   \n",
       "    fₗₒₒₚ      fₗₒₒₚ       fₗₒₒₚ           fₗₒₒₚ  ⎟⎟   \n",
       "⋅ℯ         ⋅ℯ          - ℯ        + 2 - ℯ         ⎠⎠   \n",
       "                                                       \n",
       "                                                       "
      ]
     },
     "metadata": {},
     "output_type": "display_data"
    }
   ],
   "source": [
    "display(completeIntegralTip())\n",
    "display(completeIntegralTilt())"
   ]
  },
  {
   "cell_type": "code",
   "execution_count": 9,
   "metadata": {},
   "outputs": [
    {
     "data": {
      "text/latex": [
       "$\\displaystyle - \\frac{\\left(g^{Tip}_{0}\\right)^{2} \\left(g^{Tip}_{1}\\right)^{2} \\phi^{noise}_{Tip} e^{\\frac{7 i \\pi f}{250}} + \\phi^{wind}_{Tip} \\left(e^{\\frac{i \\pi f}{250}} - 1\\right)^{4} e^{\\frac{i \\pi f}{50}}}{\\left(g^{Tip}_{1} - \\left(\\left(g^{Tip}_{1}\\right)^{2} - g^{Tip}_{1} e^{\\frac{i \\pi f}{250}} + 2 g^{Tip}_{1} - e^{\\frac{i \\pi f}{250}} + 2\\right) e^{\\frac{i \\pi f}{250}} + 1\\right) \\left(g^{Tip}_{0} e^{\\frac{3 i \\pi f}{250}} - g^{Tip}_{0} e^{\\frac{2 i \\pi f}{125}} + \\left(\\left(g^{Tip}_{0}\\right)^{2} + g^{Tip}_{0} e^{\\frac{3 i \\pi f}{250}} - g^{Tip}_{0} e^{\\frac{i \\pi f}{125}} - e^{\\frac{i \\pi f}{250}} + 2\\right) e^{\\frac{3 i \\pi f}{125}} - e^{\\frac{i \\pi f}{50}}\\right)}$"
      ],
      "text/plain": [
       "                                                              ⎛               \n",
       "                                                              ⎜               \n",
       "                                                              ⎜               \n",
       "                                                              ⎜        2      \n",
       "                                                             -⎝g_0__Tip ⋅g_1__\n",
       "──────────────────────────────────────────────────────────────────────────────\n",
       "⎛           ⎛                      ⅈ⋅π⋅f                 ⅈ⋅π⋅f    ⎞  ⅈ⋅π⋅f    \n",
       "⎜           ⎜                      ─────                 ─────    ⎟  ─────    \n",
       "⎜           ⎜        2              250                   250     ⎟   250     \n",
       "⎝g_1__Tip - ⎝g_1__Tip  - g_1__Tip⋅ℯ      + 2⋅g_1__Tip - ℯ      + 2⎠⋅ℯ      + 1\n",
       "\n",
       "                                                     4       ⎞                \n",
       "                   7⋅ⅈ⋅π⋅f               ⎛ ⅈ⋅π⋅f    ⎞   ⅈ⋅π⋅f⎟                \n",
       "                   ───────               ⎜ ─────    ⎟   ─────⎟                \n",
       "   2                 250                 ⎜  250     ⎟     50 ⎟                \n",
       "Tip ⋅φ_Tip__noise⋅ℯ        + φ_Tip__wind⋅⎝ℯ      - 1⎠ ⋅ℯ     ⎠                \n",
       "──────────────────────────────────────────────────────────────────────────────\n",
       "⎞ ⎛          3⋅ⅈ⋅π⋅f             2⋅ⅈ⋅π⋅f   ⎛                      3⋅ⅈ⋅π⋅f     \n",
       "⎟ ⎜          ───────             ───────   ⎜                      ───────     \n",
       "⎟ ⎜            250                 125     ⎜        2               250       \n",
       "⎠⋅⎝g_0__Tip⋅ℯ        - g_0__Tip⋅ℯ        + ⎝g_0__Tip  + g_0__Tip⋅ℯ        - g_\n",
       "\n",
       "                                              \n",
       "                                              \n",
       "                                              \n",
       "                                              \n",
       "                                              \n",
       "──────────────────────────────────────────────\n",
       "        ⅈ⋅π⋅f    ⅈ⋅π⋅f    ⎞  3⋅ⅈ⋅π⋅f    ⅈ⋅π⋅f⎞\n",
       "        ─────    ─────    ⎟  ───────    ─────⎟\n",
       "         125      250     ⎟    125        50 ⎟\n",
       "0__Tip⋅ℯ      - ℯ      + 2⎠⋅ℯ        - ℯ     ⎠"
      ]
     },
     "metadata": {},
     "output_type": "display_data"
    },
    {
     "data": {
      "text/latex": [
       "$\\displaystyle - \\frac{\\left(g^{Tilt}_{0}\\right)^{2} \\left(g^{Tilt}_{1}\\right)^{2} \\phi^{noise}_{Tilt} e^{\\frac{7 i \\pi f}{250}} + \\phi^{wind}_{Tilt} \\left(e^{\\frac{i \\pi f}{250}} - 1\\right)^{4} e^{\\frac{i \\pi f}{50}}}{\\left(g^{Tilt}_{1} - \\left(\\left(g^{Tilt}_{1}\\right)^{2} - g^{Tilt}_{1} e^{\\frac{i \\pi f}{250}} + 2 g^{Tilt}_{1} - e^{\\frac{i \\pi f}{250}} + 2\\right) e^{\\frac{i \\pi f}{250}} + 1\\right) \\left(g^{Tilt}_{0} e^{\\frac{3 i \\pi f}{250}} - g^{Tilt}_{0} e^{\\frac{2 i \\pi f}{125}} + \\left(\\left(g^{Tilt}_{0}\\right)^{2} + g^{Tilt}_{0} e^{\\frac{3 i \\pi f}{250}} - g^{Tilt}_{0} e^{\\frac{i \\pi f}{125}} - e^{\\frac{i \\pi f}{250}} + 2\\right) e^{\\frac{3 i \\pi f}{125}} - e^{\\frac{i \\pi f}{50}}\\right)}$"
      ],
      "text/plain": [
       "                                                                 ⎛            \n",
       "                                                                 ⎜            \n",
       "                                                                 ⎜            \n",
       "                                                                 ⎜         2  \n",
       "                                                                -⎝g_0__Tilt ⋅g\n",
       "──────────────────────────────────────────────────────────────────────────────\n",
       "⎛            ⎛                        ⅈ⋅π⋅f                  ⅈ⋅π⋅f    ⎞  ⅈ⋅π⋅f\n",
       "⎜            ⎜                        ─────                  ─────    ⎟  ─────\n",
       "⎜            ⎜         2               250                    250     ⎟   250 \n",
       "⎝g_1__Tilt - ⎝g_1__Tilt  - g_1__Tilt⋅ℯ      + 2⋅g_1__Tilt - ℯ      + 2⎠⋅ℯ     \n",
       "\n",
       "                                                            4       ⎞         \n",
       "                         7⋅ⅈ⋅π⋅f                ⎛ ⅈ⋅π⋅f    ⎞   ⅈ⋅π⋅f⎟         \n",
       "                         ───────                ⎜ ─────    ⎟   ─────⎟         \n",
       "        2                  250                  ⎜  250     ⎟     50 ⎟         \n",
       "_1__Tilt ⋅φ_Tilt__noise⋅ℯ        + φ_Tilt__wind⋅⎝ℯ      - 1⎠ ⋅ℯ     ⎠         \n",
       "──────────────────────────────────────────────────────────────────────────────\n",
       "    ⎞ ⎛           3⋅ⅈ⋅π⋅f              2⋅ⅈ⋅π⋅f   ⎛                        3⋅ⅈ⋅\n",
       "    ⎟ ⎜           ───────              ───────   ⎜                        ────\n",
       "    ⎟ ⎜             250                  125     ⎜         2                25\n",
       " + 1⎠⋅⎝g_0__Tilt⋅ℯ        - g_0__Tilt⋅ℯ        + ⎝g_0__Tilt  + g_0__Tilt⋅ℯ    \n",
       "\n",
       "                                                       \n",
       "                                                       \n",
       "                                                       \n",
       "                                                       \n",
       "                                                       \n",
       "───────────────────────────────────────────────────────\n",
       "π⋅f              ⅈ⋅π⋅f    ⅈ⋅π⋅f    ⎞  3⋅ⅈ⋅π⋅f    ⅈ⋅π⋅f⎞\n",
       "───              ─────    ─────    ⎟  ───────    ─────⎟\n",
       "0                 125      250     ⎟    125        50 ⎟\n",
       "    - g_0__Tilt⋅ℯ      - ℯ      + 2⎠⋅ℯ        - ℯ     ⎠"
      ]
     },
     "metadata": {},
     "output_type": "display_data"
    }
   ],
   "source": [
    "iTip = subsParamsByName(completeIntegralTip(), {'d':3,  'f_loop':500})\n",
    "iTilt = subsParamsByName(completeIntegralTilt(), {'d':3,  'f_loop':500})\n",
    "fTip = iTip.function\n",
    "fTilt = iTilt.function\n",
    "fTipS = sp.simplify(fTip)\n",
    "fTiltS = sp.simplify(fTilt)\n",
    "display(fTipS)\n",
    "display(fTiltS)"
   ]
  },
  {
   "cell_type": "code",
   "execution_count": 10,
   "metadata": {},
   "outputs": [
    {
     "name": "stdout",
     "output_type": "stream",
     "text": [
      "(3, 200)\n",
      "(2, 99, 99)\n"
     ]
    },
    {
     "data": {
      "image/png": "[encoded data removed]",
      "text/plain": [
       "<Figure size 432x288 with 1 Axes>"
      ]
     },
     "metadata": {
      "needs_background": "light"
     },
     "output_type": "display_data"
    },
    {
     "data": {
      "image/png": "[encoded data removed]",
      "text/plain": [
       "<Figure size 576x576 with 1 Axes>"
      ]
     },
     "metadata": {
      "needs_background": "light"
     },
     "output_type": "display_data"
    },
    {
     "data": {
      "image/png": "[encoded data removed]",
      "text/plain": [
       "<Figure size 576x576 with 1 Axes>"
      ]
     },
     "metadata": {
      "needs_background": "light"
     },
     "output_type": "display_data"
    },
    {
     "name": "stdout",
     "output_type": "stream",
     "text": [
      "[98] [0] 71.33271789550781\n",
      "[98] [0] 60.46025848388672\n"
     ]
    },
    {
     "data": {
      "image/png": "[encoded data removed]",
      "text/plain": [
       "<Figure size 432x288 with 1 Axes>"
      ]
     },
     "metadata": {
      "needs_background": "light"
     },
     "output_type": "display_data"
    }
   ],
   "source": [
    "hdul = fits.open('MAVIS_TESTS/windpsd_mavis.fits')\n",
    "windPSD = np.asarray(hdul[0].data, np.float64)\n",
    "print(windPSD.shape)\n",
    "plt.plot(windPSD[0], windPSD[1]) \n",
    "plt.plot(windPSD[0], windPSD[2]) \n",
    "         \n",
    "hdul = fits.open('MAVIS_TESTS/minim_wind_noise12071nm2_psdmavis.fits')\n",
    "windNoise = np.asarray(hdul[0].data, np.float64)\n",
    "print(windNoise.shape)\n",
    "\n",
    "plt.figure(figsize=(8, 8))\n",
    "plt.subplot(1, 1, 1)\n",
    "plt.imshow(windNoise[0], origin='lower', interpolation='nearest')\n",
    "plt.figure(figsize=(8, 8))\n",
    "plt.subplot(1, 1, 1)\n",
    "plt.imshow(windNoise[1], origin='lower', interpolation='nearest')\n",
    "plt.show()\n",
    "\n",
    "minTipIdx = np.where(windNoise[0] == np.amin(windNoise[0]))\n",
    "minTiltIdx = np.where(windNoise[1] == np.amin(windNoise[1]))\n",
    "print(minTipIdx[0], minTipIdx[1], windNoise[0][minTipIdx[0][0], minTipIdx[1][0]])\n",
    "print(minTiltIdx[0], minTiltIdx[1], windNoise[1][minTiltIdx[0][0], minTiltIdx[1][0]])\n",
    "\n",
    "plt.yscale('log')\n",
    "#plt.plot(windNoise[0][98,:]) # piu' grande\n",
    "plt.plot(windNoise[0][0,:]) \n",
    "plt.show()"
   ]
  },
  {
   "cell_type": "code",
   "execution_count": 11,
   "metadata": {},
   "outputs": [
    {
     "data": {
      "image/png": "[encoded data removed]",
      "text/plain": [
       "<Figure size 432x288 with 1 Axes>"
      ]
     },
     "metadata": {
      "needs_background": "light"
     },
     "output_type": "display_data"
    },
    {
     "name": "stdout",
     "output_type": "stream",
     "text": [
      "20.100504908729654\n"
     ]
    },
    {
     "data": {
      "text/latex": [
       "$\\displaystyle - \\frac{20.1005049087297 \\left(g^{Tip}_{0}\\right)^{2} \\left(g^{Tip}_{1}\\right)^{2} e^{\\frac{7 i \\pi f}{250}} + \\phi^{wind}_{Tip} \\left(e^{\\frac{i \\pi f}{250}} - 1\\right)^{4} e^{\\frac{i \\pi f}{50}}}{\\left(g^{Tip}_{1} - \\left(\\left(g^{Tip}_{1}\\right)^{2} - g^{Tip}_{1} e^{\\frac{i \\pi f}{250}} + 2 g^{Tip}_{1} - e^{\\frac{i \\pi f}{250}} + 2\\right) e^{\\frac{i \\pi f}{250}} + 1\\right) \\left(g^{Tip}_{0} e^{\\frac{3 i \\pi f}{250}} - g^{Tip}_{0} e^{\\frac{2 i \\pi f}{125}} + \\left(\\left(g^{Tip}_{0}\\right)^{2} + g^{Tip}_{0} e^{\\frac{3 i \\pi f}{250}} - g^{Tip}_{0} e^{\\frac{i \\pi f}{125}} - e^{\\frac{i \\pi f}{250}} + 2\\right) e^{\\frac{3 i \\pi f}{125}} - e^{\\frac{i \\pi f}{50}}\\right)}$"
      ],
      "text/plain": [
       "                                                            ⎛                 \n",
       "                                                            ⎜                 \n",
       "                                                            ⎜                 \n",
       "                                                            ⎜                 \n",
       "                                                           -⎝20.1005049087297⋅\n",
       "──────────────────────────────────────────────────────────────────────────────\n",
       "⎛           ⎛                      ⅈ⋅π⋅f                 ⅈ⋅π⋅f    ⎞  ⅈ⋅π⋅f    \n",
       "⎜           ⎜                      ─────                 ─────    ⎟  ─────    \n",
       "⎜           ⎜        2              250                   250     ⎟   250     \n",
       "⎝g_1__Tip - ⎝g_1__Tip  - g_1__Tip⋅ℯ      + 2⋅g_1__Tip - ℯ      + 2⎠⋅ℯ      + 1\n",
       "\n",
       "                                                       4       ⎞              \n",
       "                     7⋅ⅈ⋅π⋅f               ⎛ ⅈ⋅π⋅f    ⎞   ⅈ⋅π⋅f⎟              \n",
       "                     ───────               ⎜ ─────    ⎟   ─────⎟              \n",
       "        2         2    250                 ⎜  250     ⎟     50 ⎟              \n",
       "g_0__Tip ⋅g_1__Tip ⋅ℯ        + φ_Tip__wind⋅⎝ℯ      - 1⎠ ⋅ℯ     ⎠              \n",
       "──────────────────────────────────────────────────────────────────────────────\n",
       "⎞ ⎛          3⋅ⅈ⋅π⋅f             2⋅ⅈ⋅π⋅f   ⎛                      3⋅ⅈ⋅π⋅f     \n",
       "⎟ ⎜          ───────             ───────   ⎜                      ───────     \n",
       "⎟ ⎜            250                 125     ⎜        2               250       \n",
       "⎠⋅⎝g_0__Tip⋅ℯ        - g_0__Tip⋅ℯ        + ⎝g_0__Tip  + g_0__Tip⋅ℯ        - g_\n",
       "\n",
       "                                              \n",
       "                                              \n",
       "                                              \n",
       "                                              \n",
       "                                              \n",
       "──────────────────────────────────────────────\n",
       "        ⅈ⋅π⋅f    ⅈ⋅π⋅f    ⎞  3⋅ⅈ⋅π⋅f    ⅈ⋅π⋅f⎞\n",
       "        ─────    ─────    ⎟  ───────    ─────⎟\n",
       "         125      250     ⎟    125        50 ⎟\n",
       "0__Tip⋅ℯ      - ℯ      + 2⎠⋅ℯ        - ℯ     ⎠"
      ]
     },
     "metadata": {},
     "output_type": "display_data"
    },
    {
     "data": {
      "text/latex": [
       "$\\displaystyle - \\frac{20.1005049087297 \\left(g^{Tilt}_{0}\\right)^{2} \\left(g^{Tilt}_{1}\\right)^{2} e^{\\frac{7 i \\pi f}{250}} + \\phi^{wind}_{Tilt} \\left(e^{\\frac{i \\pi f}{250}} - 1\\right)^{4} e^{\\frac{i \\pi f}{50}}}{\\left(g^{Tilt}_{1} - \\left(\\left(g^{Tilt}_{1}\\right)^{2} - g^{Tilt}_{1} e^{\\frac{i \\pi f}{250}} + 2 g^{Tilt}_{1} - e^{\\frac{i \\pi f}{250}} + 2\\right) e^{\\frac{i \\pi f}{250}} + 1\\right) \\left(g^{Tilt}_{0} e^{\\frac{3 i \\pi f}{250}} - g^{Tilt}_{0} e^{\\frac{2 i \\pi f}{125}} + \\left(\\left(g^{Tilt}_{0}\\right)^{2} + g^{Tilt}_{0} e^{\\frac{3 i \\pi f}{250}} - g^{Tilt}_{0} e^{\\frac{i \\pi f}{125}} - e^{\\frac{i \\pi f}{250}} + 2\\right) e^{\\frac{3 i \\pi f}{125}} - e^{\\frac{i \\pi f}{50}}\\right)}$"
      ],
      "text/plain": [
       "                                                               ⎛              \n",
       "                                                               ⎜              \n",
       "                                                               ⎜              \n",
       "                                                               ⎜              \n",
       "                                                              -⎝20.10050490872\n",
       "──────────────────────────────────────────────────────────────────────────────\n",
       "⎛            ⎛                        ⅈ⋅π⋅f                  ⅈ⋅π⋅f    ⎞  ⅈ⋅π⋅f\n",
       "⎜            ⎜                        ─────                  ─────    ⎟  ─────\n",
       "⎜            ⎜         2               250                    250     ⎟   250 \n",
       "⎝g_1__Tilt - ⎝g_1__Tilt  - g_1__Tilt⋅ℯ      + 2⋅g_1__Tilt - ℯ      + 2⎠⋅ℯ     \n",
       "\n",
       "                                                             4       ⎞        \n",
       "                          7⋅ⅈ⋅π⋅f                ⎛ ⅈ⋅π⋅f    ⎞   ⅈ⋅π⋅f⎟        \n",
       "                          ───────                ⎜ ─────    ⎟   ─────⎟        \n",
       "            2          2    250                  ⎜  250     ⎟     50 ⎟        \n",
       "97⋅g_0__Tilt ⋅g_1__Tilt ⋅ℯ        + φ_Tilt__wind⋅⎝ℯ      - 1⎠ ⋅ℯ     ⎠        \n",
       "──────────────────────────────────────────────────────────────────────────────\n",
       "    ⎞ ⎛           3⋅ⅈ⋅π⋅f              2⋅ⅈ⋅π⋅f   ⎛                        3⋅ⅈ⋅\n",
       "    ⎟ ⎜           ───────              ───────   ⎜                        ────\n",
       "    ⎟ ⎜             250                  125     ⎜         2                25\n",
       " + 1⎠⋅⎝g_0__Tilt⋅ℯ        - g_0__Tilt⋅ℯ        + ⎝g_0__Tilt  + g_0__Tilt⋅ℯ    \n",
       "\n",
       "                                                       \n",
       "                                                       \n",
       "                                                       \n",
       "                                                       \n",
       "                                                       \n",
       "───────────────────────────────────────────────────────\n",
       "π⋅f              ⅈ⋅π⋅f    ⅈ⋅π⋅f    ⎞  3⋅ⅈ⋅π⋅f    ⅈ⋅π⋅f⎞\n",
       "───              ─────    ─────    ⎟  ───────    ─────⎟\n",
       "0                 125      250     ⎟    125        50 ⎟\n",
       "    - g_0__Tilt⋅ℯ      - ℯ      + 2⎠⋅ℯ        - ℯ     ⎠"
      ]
     },
     "metadata": {},
     "output_type": "display_data"
    },
    {
     "data": {
      "text/plain": [
       "<matplotlib.image.AxesImage at 0x7f361ce68898>"
      ]
     },
     "execution_count": 11,
     "metadata": {},
     "output_type": "execute_result"
    },
    {
     "data": {
      "image/png": "[encoded data removed]",
      "text/plain": [
       "<Figure size 576x576 with 1 Axes>"
      ]
     },
     "metadata": {
      "needs_background": "light"
     },
     "output_type": "display_data"
    }
   ],
   "source": [
    "# phi_noise e' una costante pari a sigma^2 cog # / Df \n",
    "import functools \n",
    "hdul = fits.open('MAVIS_TESTS/windpsd_mavis.fits')\n",
    "psd_data = np.asarray(hdul[0].data, np.float64)\n",
    "\n",
    "psd_freq = psd_data[0,:]\n",
    "df = psd_freq[1]-psd_freq[0]\n",
    "Df = psd_freq[-1]-psd_freq[0]\n",
    "psd_tip_wind = psd_data[1,:]\n",
    "psd_tilt_wind = psd_data[2,:]\n",
    "freq_samples = psd_tip_wind.size\n",
    "psd_tip_noise = np.sum(psd_tip_wind) * np.ones(freq_samples, np.float64) / float(freq_samples)\n",
    "psd_tilt_noise = np.sum(psd_tilt_wind) * np.ones(freq_samples, np.float64) / float(freq_samples)\n",
    "plt.xscale('linear')\n",
    "plt.yscale('linear')\n",
    "plt.plot(psd_freq, psd_tip_wind)\n",
    "plt.plot(psd_freq, psd_tilt_wind)\n",
    "plt.plot(psd_freq, psd_tip_noise)\n",
    "plt.plot(psd_freq, psd_tilt_noise)\n",
    "plt.show()\n",
    "\n",
    "phi_noise_tip_level = (1000.0 / Df) / df\n",
    "print(phi_noise_tip_level)\n",
    "phi_noise_tilt_level = (1000.0 / Df) / df\n",
    "fTipS1 = subsParamsByName(fTipS, {'phi^noise_Tip': phi_noise_tip_level})\n",
    "fTiltS1 = subsParamsByName( fTiltS, {'phi^noise_Tilt': phi_noise_tilt_level})\n",
    "display(fTipS1)\n",
    "display(fTiltS1)\n",
    "\n",
    "npoints = 99\n",
    "g0g, g1g = np.meshgrid(np.linspace(0.01,0.99,npoints), np.linspace(0.01,0.99,npoints)) \n",
    "\n",
    "resultTip = np.zeros((npoints,npoints), dtype=np.float64)\n",
    "fTipS_lambda1 = sp.lambdify( [  getSymbolByName(fTipS1, 'g^Tip_0'),\n",
    "                              getSymbolByName(fTipS1, 'g^Tip_1'),\n",
    "                              getSymbolByName(fTipS1, 'f'),\n",
    "                              getSymbolByName(fTipS1, 'phi^wind_Tip') ], fTipS1, modules=\"scipy\" )\n",
    "\n",
    "uu = np.ones((freq_samples), dtype=np.float64)\n",
    "for ii in range(npoints):\n",
    "    for jj in range(npoints):\n",
    "        g0v = g0g[ii][jj] * uu\n",
    "        g1v = g1g[ii][jj] * uu\n",
    "        fTipS_lambda2 = functools.partial(fTipS_lambda1, g0v, g1v)        \n",
    "        resultTip[ii][jj] = np.absolute((np.sum(fTipS_lambda2(psd_freq, psd_tip_wind)) ) )\n",
    "#        result[ii][jj] = np.absolute((np.sum(fTipS_lambda1( g0v, g1v, psd_tip_wind, psd_freq)) ) )\n",
    "\n",
    "\n",
    "plt.figure(figsize=(8, 8))\n",
    "plt.subplot(1, 1, 1)\n",
    "plt.imshow(resultTip, origin='lower', interpolation='nearest')"
   ]
  },
  {
   "cell_type": "code",
   "execution_count": 12,
   "metadata": {},
   "outputs": [
    {
     "name": "stdout",
     "output_type": "stream",
     "text": [
      "[98] [0] 85.43018945918081\n"
     ]
    },
    {
     "data": {
      "image/png": "[encoded data removed]",
      "text/plain": [
       "<Figure size 432x288 with 1 Axes>"
      ]
     },
     "metadata": {
      "needs_background": "light"
     },
     "output_type": "display_data"
    }
   ],
   "source": [
    "minTipIdx = np.where(resultTip == np.amin(resultTip))\n",
    "#minTiltIdx = np.where(windNoise[1] == np.amin(windNoise[1]))\n",
    "print(minTipIdx[0], minTipIdx[1], resultTip[minTipIdx[0][0], minTipIdx[1][0]])\n",
    "#print(minTiltIdx[0], minTiltIdx[1], windNoise[1][minTiltIdx[0][0], minTiltIdx[1][0]])\n",
    "\n",
    "plt.yscale('log')\n",
    "#plt.plot(windNoise[0][98,:]) # piu' grande\n",
    "plt.plot(resultTip[0,:]) \n",
    "plt.show()"
   ]
  },
  {
   "cell_type": "code",
   "execution_count": null,
   "metadata": {},
   "outputs": [],
   "source": []
  },
  {
   "cell_type": "code",
   "execution_count": null,
   "metadata": {},
   "outputs": [],
   "source": []
  },
  {
   "cell_type": "code",
   "execution_count": null,
   "metadata": {},
   "outputs": [],
   "source": []
  }
 ],
 "metadata": {
  "kernelspec": {
   "display_name": "Python 3",
   "language": "python",
   "name": "python3"
  },
  "language_info": {
   "codemirror_mode": {
    "name": "ipython",
    "version": 3
   },
   "file_extension": ".py",
   "mimetype": "text/x-python",
   "name": "python",
   "nbconvert_exporter": "python",
   "pygments_lexer": "ipython3",
   "version": "3.6.10"
  }
 },
 "nbformat": 4,
 "nbformat_minor": 4
}
