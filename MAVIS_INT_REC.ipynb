{
 "cells": [
  {
   "cell_type": "code",
   "execution_count": 1,
   "metadata": {},
   "outputs": [],
   "source": [
    "DEV_PATH = '/home/frossi/dev/'\n",
    "import sys\n",
    "if not DEV_PATH in sys.path:\n",
    "    sys.path.append(DEV_PATH)\n",
    "\n",
    "from mavis import *"
   ]
  },
  {
   "cell_type": "code",
   "execution_count": 2,
   "metadata": {},
   "outputs": [
    {
     "name": "stdout",
     "output_type": "stream",
     "text": [
      "1\n",
      "R (2, 6) [[ 0.31074966 -0.07900007  0.23795241  0.01181612  0.45129793  0.06718396]\n",
      " [-0.00375934  0.36483568 -0.03573124  0.18135696  0.03949058  0.45380736]]\n",
      "Caa (2, 2) [[302233.9039547      0.       ]\n",
      " [     0.        302233.9039547]]\n",
      "Cas (2, 6) [[256809.1881393    5843.97296903 248466.80562436  21973.72204602\n",
      "  289809.29684772  -6850.35803529]\n",
      " [  5843.97296903 284860.25839063  21973.72204602 184213.38031213\n",
      "   -6850.35803529 285466.34387837]]\n",
      "Css (6, 6) [[302233.9039547       0.         185484.35138938  52891.94966158\n",
      "  220626.35161054 -12634.05258088]\n",
      " [     0.         302233.9039547   52891.94966158 159707.08386617\n",
      "  -12634.05258088 268560.14993802]\n",
      " [185484.35138938  52891.94966158 302233.9039547       0.\n",
      "  234650.95749076   6420.70169497]\n",
      " [ 52891.94966158 159707.08386617      0.         302233.9039547\n",
      "    6420.70169497 134102.90504577]\n",
      " [220626.35161054 -12634.05258088 234650.95749076   6420.70169497\n",
      "  302233.9039547       0.        ]\n",
      " [-12634.05258088 268560.14993802   6420.70169497 134102.90504577\n",
      "       0.         302233.9039547 ]]\n",
      "Cnn (6, 6) [[656.48894891   0.           0.           0.           0.\n",
      "    0.        ]\n",
      " [  0.         401.23672784   0.           0.           0.\n",
      "    0.        ]\n",
      " [  0.           0.         580.71397819   0.           0.\n",
      "    0.        ]\n",
      " [  0.           0.           0.         352.18747601   0.\n",
      "    0.        ]\n",
      " [  0.           0.           0.           0.         797.25301156\n",
      "    0.        ]\n",
      " [  0.           0.           0.           0.           0.\n",
      "  492.83172656]]\n",
      "C1 (2, 2) [[27.29160894  0.        ]\n",
      " [ 0.         16.41914786]]\n",
      "C2 (2, 2) [[11091.66827552 -2455.83823953]\n",
      " [-2455.83823953 13467.92285967]]\n",
      "C3 (2, 2) [[263.4290555   12.72030059]\n",
      " [ 12.72030059 168.47853846]]\n",
      "Ctot (2, 2) [[11382.38893997 -2443.11793894]\n",
      " [-2443.11793894 13652.82054599]]\n"
     ]
    }
   ],
   "source": [
    "# PSD wind/vibration: the one for MAVIS (forest of peaks)\n",
    "\n",
    "# Directions for total jitter residual estimation (cartesian in arcsec): \n",
    "# [0,0], [5,-5], [5,5], [-5,5], [-5,-5], [15,-15], [15,15], [-15,15], [-15,-15]\n",
    "# [-15, 15]x[-15, 15] , 4 punti \n",
    "# griglia fitta: ogni 3 mas \n",
    "\n",
    "cartPointingCoords = np.asarray([5,5])\n",
    "NGS_flux = [10000, 30000, 5000]\n",
    "NGS_SR_1650 = [0.4, 0.2, 0.6]\n",
    "NGS_FWHM_mas = [90, 110, 85]\n",
    "polarNGSCoords = np.asarray([[30.0,0.0], [50.0,100.0],[10.0,240.0]])\n",
    "cartNGSCoords = np.asarray([polarToCartesian(polarNGSCoords[0]), polarToCartesian(polarNGSCoords[1]), polarToCartesian(polarNGSCoords[2])])\n",
    "Ctot = computeTotalResidualMatrix(cartPointingCoords, cartNGSCoords, NGS_flux, NGS_SR_1650, NGS_FWHM_mas)\n",
    "print('Ctot', Ctot.shape, Ctot)"
   ]
  },
  {
   "cell_type": "code",
   "execution_count": null,
   "metadata": {},
   "outputs": [],
   "source": []
  },
  {
   "cell_type": "code",
   "execution_count": 3,
   "metadata": {},
   "outputs": [
    {
     "data": {
      "text/latex": [
       "$\\displaystyle \\theta = \\frac{\\operatorname{atan}{\\left(\\frac{2 \\sigma^{2}_{XY}}{\\sigma^{2}_{X} - \\sigma^{2}_{Y}} \\right)}}{2}$"
      ],
      "text/plain": [
       "Eq(theta, atan(2*sigma^2_XY/(sigma^2_X - sigma^2_Y))/2)"
      ]
     },
     "metadata": {},
     "output_type": "display_data"
    },
    {
     "data": {
      "text/latex": [
       "$\\displaystyle \\sigma^{2}_{1} = \\frac{\\sigma^{2}_{X}}{2} + \\frac{\\sigma^{2}_{XY}}{\\sin{\\left(2 \\theta \\right)}} + \\frac{\\sigma^{2}_{Y}}{2}$"
      ],
      "text/plain": [
       "Eq(sigma^2_1, sigma^2_X/2 + sigma^2_XY/sin(2*theta) + sigma^2_Y/2)"
      ]
     },
     "metadata": {},
     "output_type": "display_data"
    },
    {
     "data": {
      "text/latex": [
       "$\\displaystyle \\sigma^{2}_{2} = - \\sigma^{2}_{1} + \\sigma^{2}_{X} + \\sigma^{2}_{Y}$"
      ],
      "text/plain": [
       "Eq(sigma^2_2, -sigma^2_1 + sigma^2_X + sigma^2_Y)"
      ]
     },
     "metadata": {},
     "output_type": "display_data"
    },
    {
     "data": {
      "text/latex": [
       "$\\displaystyle C_{TT} = \\left[\\begin{matrix}\\sigma^{2}_{X} & \\sigma^{2}_{XY}\\\\\\sigma^{2}_{XY} & \\sigma^{2}_{Y}\\end{matrix}\\right]$"
      ],
      "text/plain": [
       "Eq(C_TT, Matrix([\n",
       "[ sigma^2_X, sigma^2_XY],\n",
       "[sigma^2_XY,  sigma^2_Y]]))"
      ]
     },
     "metadata": {},
     "output_type": "display_data"
    }
   ],
   "source": [
    "theta = sp.symbols('theta')\n",
    "sigma_1 = sp.symbols('sigma^2_1')\n",
    "sigma_2 = sp.symbols('sigma^2_2')\n",
    "sigma_X = sp.symbols('sigma^2_X')\n",
    "sigma_Y = sp.symbols('sigma^2_Y')\n",
    "sigma_XY = sp.symbols('sigma^2_XY')\n",
    "eq1 = sp.Eq(theta, sp.S(1)/sp.S(2) * sp.atan( 2*sigma_XY / ( sigma_X-sigma_Y )) )\n",
    "eq2 = sp.Eq(sigma_1, sp.S(1)/sp.S(2) * ( 2*sigma_XY / sp.sin(2*theta) + sigma_X + sigma_Y ) )\n",
    "eq3 = sp.Eq(sigma_2, sigma_X+sigma_Y-sigma_1 )\n",
    "display(eq1)\n",
    "display(eq2)\n",
    "display(eq3)\n",
    "matCovTT = sp.MatrixSymbol('C_TT', 2, 2)\n",
    "matCovTT_rhs = sp.Matrix([[sigma_X, sigma_XY],[sigma_XY, sigma_Y]])\n",
    "ee = sp.Eq(matCovTT, matCovTT_rhs)\n",
    "display(ee)"
   ]
  },
  {
   "cell_type": "code",
   "execution_count": 4,
   "metadata": {},
   "outputs": [
    {
     "data": {
      "text/latex": [
       "$\\displaystyle R = P_{\\alpha} W$"
      ],
      "text/plain": [
       "Eq(R, P_alpha*W)"
      ]
     },
     "metadata": {},
     "output_type": "display_data"
    },
    {
     "data": {
      "text/latex": [
       "$\\displaystyle C_{2} = C_{aa} - C_{as} R^{T} + R C_{ss} R^{T} - R C_{as}^{T}$"
      ],
      "text/plain": [
       "Eq(C_2, C_aa - C_as*R.T + R*C_ss*R.T - R*C_as.T)"
      ]
     },
     "metadata": {},
     "output_type": "display_data"
    },
    {
     "data": {
      "text/latex": [
       "$\\displaystyle C_{3} = R C_{nn} R^{T}$"
      ],
      "text/plain": [
       "Eq(C_3, R*C_nn*R.T)"
      ]
     },
     "metadata": {},
     "output_type": "display_data"
    },
    {
     "data": {
      "text/latex": [
       "$\\displaystyle C = C_{1} + C_{2} + C_{3}$"
      ],
      "text/plain": [
       "Eq(C, C_1 + C_2 + C_3)"
      ]
     },
     "metadata": {},
     "output_type": "display_data"
    }
   ],
   "source": [
    "matR = sp.MatrixSymbol('R', 2, 6)\n",
    "matP = sp.MatrixSymbol('P_alpha', 2, 5)\n",
    "matW = sp.MatrixSymbol('W', 5, 6)\n",
    "display(sp.Eq(matR, sp.MatMul(matP,matW)) )\n",
    "matC1 = sp.MatrixSymbol('C_1', 2, 2)\n",
    "matCaa = sp.MatrixSymbol('C_aa', 2, 2)\n",
    "matCas = sp.MatrixSymbol('C_as', 2, 6)\n",
    "matCss = sp.MatrixSymbol('C_ss', 6, 6)\n",
    "matC2 = sp.MatrixSymbol('C_2', 2, 2)\n",
    "display(sp.Eq(matC2,  matCaa - sp.MatMul(matCas, matR.T) - sp.MatMul(matR,matCas.T) + sp.MatMul(matR , matCss , matR.T)) )\n",
    "matCnn = sp.MatrixSymbol('C_nn', 6, 6)\n",
    "matC3 = sp.MatrixSymbol('C_3', 2, 2)\n",
    "display(sp.Eq(matC3,  sp.MatMul(matR, matCnn, matR.T)) )\n",
    "matC = sp.MatrixSymbol('C', 2, 2)\n",
    "display(sp.Eq(matC,  matC1+matC2+matC3 ) )"
   ]
  },
  {
   "cell_type": "code",
   "execution_count": null,
   "metadata": {},
   "outputs": [],
   "source": [
    "## The files in the folder are examples of data used or obtained in the jitter computation code. The parameters are the ones defined in params4jittercode.txt, unless otherwise specified. The files are the following:\n",
    "#- example_gaussian_psf.fits: Gaussian PSF for the 2nd star, normalized so that a PSF with SR of 1 would have had a flux of 1 e-, i. e. it takes into account the loss of flux in the PSF core due to SR < 1 and FWHM > diffraction.\n",
    "#- example_slope_noise.fits: Slope standard deviation (in mas) and bias factor in the case of the 2nd star sensed at 500 Hz.: due valori sigma e mu/shift\n",
    "#- windpsd_mavis.fits: PSD of tip and tilt (in nm2/Hz) due to wind/vibrations for MAVIS. Format: [nfreq,3]. 1st index: frequency in Hz. 2nd index: Tip PSD. 3rd index: Tilt PSD.\n",
    "#- minim_wind_noise12071nm2_psdmavis.fits: Table of residual variance on tip and tilt (in nm2) due to wind/vibrations for all the considered gains of the double integrator. Computed for the 2nd star sensed at 500 Hz. The noise level of 12071 nm2 corresponds to the slope error in example_slope_noise.fits. Format: [ngains,ngains,2].\n",
    "#- psd_turb.fits: PSD of turbulent tip and tilt in nm2/Hz. Format: [nfreq,3]. 1st index: frequency in Hz. 2nd index: Tip PSD. 3rd index: Tilt PSD.\n",
    "#- res_noise_ngs.fits: Residual variance of tip and tilt (in nm2) for all gains explored in the noise computation. Computed for the 2nd star at 500 Hz.\n",
    "#- Cn.fits: Noise covariance matrix for all stars sensed at 500 Hz.\n",
    "#- rec_tomo.fits: Tomographic reconstructor.\n",
    "#- cov_tomo_onaxis.fits: Resulting covariance matrix of tip/tilt on axis for the tomography contribution. : C3\n",
    "#- cov_noise_onaxis.fits: Resulting covariance matrix of tip/tilt on axis for the noise contribution. Computed using Cn.fits. : C3\n",
    "# ok sarebbe le 9 C per le 9 direzioni specificate nei parametri\n",
    "#- jitter_map.fits: Resulting jitter map for the configuration described in params4jittercode.txt. Format: [ndirections,5]. 1st & 2nd indexes: X, Y coordinates in arcsec. 3rd & 4th indexes: tip/tilt standard deviation along the major & minor axes (in mas). 5th index: Angle between the major axis and the X axis in degrees (counterclockwise).\n",
    "filenames = ['Cn.fits', 'example_gaussian_psf.fits', 'psd_turb.fits',  'res_noise_ngs.fits', 'cov_noise_onaxis.fits',\n",
    "             'cov_tomo_onaxis.fits', 'jitter_map.fits', 'rec_tomo.fits', 'example_slope_noise.fits']\n",
    "# torna simile se moltiplico tutte le posizioni delle stelle per 2\n",
    "filenames1 = ['rec_tomo.fits']\n",
    "# torna simile se moltiplico tutte le posizioni delle stelle per 2\n",
    "filenames2 = ['res_noise_ngs.fits']\n",
    "# 'windpsd_maory.fits', 'minim_wind_noise12071nm2_psdmaory.fits',\n",
    "# 'windpsd_mavis.fits', 'minim_wind_noise12071nm2_psdmavis.fits',\n",
    "for name in filenames1:\n",
    "    hdul = fits.open('data/' + name)\n",
    "    _data = np.asarray(hdul[0].data, np.float64)\n",
    "    print(_data.shape)\n",
    "#    if len(_data.shape) == 2:\n",
    "#        plt.figure(figsize=(5, 5))\n",
    "#        plt.subplot(1, 1, 1)\n",
    "#        plt.imshow(_data, origin='lower', interpolation='nearest')\n",
    "    #if len(_data.shape) == 1:\n",
    "    print(_data)\n",
    "#    plt.yscale('log')\n",
    "#    plt.plot(_data[0]) \n",
    "#    plt.plot(_data[1]) "
   ]
  }
 ],
 "metadata": {
  "kernelspec": {
   "display_name": "Python 3",
   "language": "python",
   "name": "python3"
  },
  "language_info": {
   "codemirror_mode": {
    "name": "ipython",
    "version": 3
   },
   "file_extension": ".py",
   "mimetype": "text/x-python",
   "name": "python",
   "nbconvert_exporter": "python",
   "pygments_lexer": "ipython3",
   "version": "3.6.10"
  }
 },
 "nbformat": 4,
 "nbformat_minor": 4
}
