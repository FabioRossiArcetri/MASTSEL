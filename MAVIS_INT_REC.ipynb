{
 "cells": [
  {
   "cell_type": "code",
   "execution_count": 1,
   "metadata": {},
   "outputs": [],
   "source": [
    "from mavis import *"
   ]
  },
  {
   "cell_type": "code",
   "execution_count": 2,
   "metadata": {},
   "outputs": [
    {
     "data": {
      "text/latex": [
       "$\\displaystyle \\theta = \\frac{\\operatorname{atan}{\\left(\\frac{2 \\sigma^{2}_{XY}}{\\sigma^{2}_{X} - \\sigma^{2}_{Y}} \\right)}}{2}$"
      ],
      "text/plain": [
       "        ⎛   2⋅σ_XY__2   ⎞\n",
       "    atan⎜───────────────⎟\n",
       "        ⎝σ_X__2 - σ_Y__2⎠\n",
       "θ = ─────────────────────\n",
       "              2          "
      ]
     },
     "metadata": {},
     "output_type": "display_data"
    },
    {
     "data": {
      "text/latex": [
       "$\\displaystyle \\sigma^{2}_{1} = \\frac{\\sigma^{2}_{X}}{2} + \\frac{\\sigma^{2}_{XY}}{\\sin{\\left(2 \\theta \\right)}} + \\frac{\\sigma^{2}_{Y}}{2}$"
      ],
      "text/plain": [
       "      σ_X__2   σ_XY__2    σ_Y__2\n",
       "σ²₁ = ────── + ──────── + ──────\n",
       "        2      sin(2⋅θ)     2   "
      ]
     },
     "metadata": {},
     "output_type": "display_data"
    },
    {
     "data": {
      "text/latex": [
       "$\\displaystyle \\sigma^{2}_{2} = - \\sigma^{2}_{1} + \\sigma^{2}_{X} + \\sigma^{2}_{Y}$"
      ],
      "text/plain": [
       "σ²₂ = -σ²₁ + σ_X__2 + σ_Y__2"
      ]
     },
     "metadata": {},
     "output_type": "display_data"
    },
    {
     "data": {
      "text/latex": [
       "$\\displaystyle C_{TT} = \\left[\\begin{matrix}\\sigma^{2}_{X} & \\sigma^{2}_{XY}\\\\\\sigma^{2}_{XY} & \\sigma^{2}_{Y}\\end{matrix}\\right]$"
      ],
      "text/plain": [
       "       ⎡σ_X__2   σ_XY__2⎤\n",
       "C_TT = ⎢                ⎥\n",
       "       ⎣σ_XY__2  σ_Y__2 ⎦"
      ]
     },
     "metadata": {},
     "output_type": "display_data"
    }
   ],
   "source": [
    "# 6.2\n",
    "# Chiari input e outputs\n",
    "theta = sp.symbols('theta')\n",
    "sigma_1 = sp.symbols('sigma^2_1')\n",
    "sigma_2 = sp.symbols('sigma^2_2')\n",
    "sigma_X = sp.symbols('sigma^2_X')\n",
    "sigma_Y = sp.symbols('sigma^2_Y')\n",
    "sigma_XY = sp.symbols('sigma^2_XY')\n",
    "eq1 = sp.Eq(theta, sp.S(1)/sp.S(2) * sp.atan( 2*sigma_XY / ( sigma_X-sigma_Y )) )\n",
    "eq2 = sp.Eq(sigma_1, sp.S(1)/sp.S(2) * ( 2*sigma_XY / sp.sin(2*theta) + sigma_X + sigma_Y ) )\n",
    "eq3 = sp.Eq(sigma_2, sigma_X+sigma_Y-sigma_1 )\n",
    "\n",
    "display(eq1)\n",
    "display(eq2)\n",
    "display(eq3)\n",
    "\n",
    "matCovTT = sp.MatrixSymbol('C_TT', 2, 2)\n",
    "matCovTT_rhs = sp.Matrix([[sigma_X, sigma_XY],[sigma_XY, sigma_Y]])\n",
    "ee = sp.Eq(matCovTT, matCovTT_rhs)\n",
    "display(ee)"
   ]
  },
  {
   "cell_type": "code",
   "execution_count": 3,
   "metadata": {},
   "outputs": [
    {
     "data": {
      "text/latex": [
       "$\\displaystyle R = P_{\\alpha} W$"
      ],
      "text/plain": [
       "R = Pₐₗₚₕₐ⋅W"
      ]
     },
     "metadata": {},
     "output_type": "display_data"
    },
    {
     "data": {
      "text/latex": [
       "$\\displaystyle C_{2} = C_{aa} - C_{as} R^{T} + R C_{ss} R^{T} - R C_{as}^{T}$"
      ],
      "text/plain": [
       "           T       T          T      \n",
       "C₂ = -Cₐₛ⋅R  -R⋅Cₐₛ  + R⋅Cₛₛ⋅R  + Cₐₐ"
      ]
     },
     "metadata": {},
     "output_type": "display_data"
    },
    {
     "data": {
      "text/latex": [
       "$\\displaystyle C_{3} = R C_{nn} R^{T}$"
      ],
      "text/plain": [
       "            T\n",
       "C₃ = R⋅Cₙₙ⋅R "
      ]
     },
     "metadata": {},
     "output_type": "display_data"
    },
    {
     "data": {
      "text/latex": [
       "$\\displaystyle C = C_{1} + C_{2} + C_{3}$"
      ],
      "text/plain": [
       "C = C₁ + C₂ + C₃"
      ]
     },
     "metadata": {},
     "output_type": "display_data"
    }
   ],
   "source": [
    "# 5.2\n",
    "# C = C1 + C2 + C3\n",
    "# C1 : vibrazioni, diagonale con varianze epsilon_tip e epsilon_tilt di MAVIS3, ricavate dalle 2 psd temporali.\n",
    "# scegli una legge di controllo (funzioni di trasferimento noise e controllore(integratore) tutte in z) \n",
    "# e calcolare il residuo, vedere documento par. 4\n",
    "# phi_N_tip e tilt sono varianza(del CoG, vedi sotto) /bias^2\n",
    "# C2 = Caa - Cas Rt - R Cast + R Css Rt\n",
    "# R = P_func(x,y)*w e' il ricostruttore dell 3 NGS, (vedi MAVIS_INT_REC)\n",
    "# a e il vettore di tip tilt nella direzione di interesse (2) - Caa (2x2)\n",
    "# s e il vettore di tip tilt nelle direzioni di NGS (6) - Css (6x6)\n",
    "# calcolare Caa: Covarianza della direzione di interesse con se stessa, sia per tip che per tilt (2x2)\n",
    "# calcolare Cas: Covarianza della direzione di interesse con le direzioni NGS (sono 3 o meno), sia per tip che per tilt (6x2)\n",
    "# calcolare Css: Covarianza delle direzioni NGS (sono 3 o meno) fra loro, sia per tip che per tilt (6x6)\n",
    "# C3 = R Cnn Rt\n",
    "# R come sopra\n",
    "# Cnn: vedi slides\n",
    "# Cnn, matrice (6x6), diagonale, calcolo del sigma COG per le 3 direzioni, filtrato da un integratore semplice,\n",
    "\n",
    "# C matrice di covarianza 2x2\n",
    "\n",
    "matR = sp.MatrixSymbol('R', 2, 6)\n",
    "matP = sp.MatrixSymbol('P_alpha', 2, 5)\n",
    "matW = sp.MatrixSymbol('W', 5, 6)\n",
    "display(sp.Eq(matR, sp.MatMul(matP,matW)) )\n",
    "\n",
    "# calcolo del livello rumore (phi_noise) in funzione della \n",
    "# magnitudite della stella, strehl, FWHM, vedere documento mavis par.4 pag.24.:\n",
    "# parte comune fra C1 e C3 \n",
    "# C1 = vedi sezione 4 (diagonale) PSD temporale del tip e del tilt + rumore slopes (input 2 psd temporale tip/tilt + un livello di rumore)\n",
    "matC1 = sp.MatrixSymbol('C_1', 2, 2)\n",
    "\n",
    "matCaa = sp.MatrixSymbol('C_aa', 2, 2)\n",
    "matCas = sp.MatrixSymbol('C_as', 2, 6)\n",
    "matCss = sp.MatrixSymbol('C_ss', 6, 6)\n",
    "matC2 = sp.MatrixSymbol('C_2', 2, 2)\n",
    "display(sp.Eq(matC2,  matCaa - sp.MatMul(matCas, matR.T) - sp.MatMul(matR,matCas.T) + sp.MatMul(matR , matCss , matR.T)) )\n",
    "\n",
    "matCnn = sp.MatrixSymbol('C_nn', 6, 6)\n",
    "matC3 = sp.MatrixSymbol('C_3', 2, 2)\n",
    "display(sp.Eq(matC3,  sp.MatMul(matR, matCnn, matR.T)) )\n",
    "\n",
    "matC = sp.MatrixSymbol('C', 2, 2)\n",
    "display(sp.Eq(matC,  matC1+matC2+matC3 ) )"
   ]
  },
  {
   "cell_type": "code",
   "execution_count": 4,
   "metadata": {},
   "outputs": [
    {
     "data": {
      "text/latex": [
       "$\\displaystyle \\left[\\begin{matrix}1 & 0 & \\frac{4 \\sqrt{3} D H_{DM} x_{NGS}}{\\left(D + 2 H_{DM} r_{FoV}\\right)^{2}} & \\frac{2 \\sqrt{6} D H_{DM} y_{NGS}}{\\left(D + 2 H_{DM} r_{FoV}\\right)^{2}} & \\frac{2 \\sqrt{6} D H_{DM} x_{NGS}}{\\left(D + 2 H_{DM} r_{FoV}\\right)^{2}}\\\\0 & 1 & \\frac{4 \\sqrt{3} D H_{DM} y_{NGS}}{\\left(D + 2 H_{DM} r_{FoV}\\right)^{2}} & \\frac{2 \\sqrt{6} D H_{DM} x_{NGS}}{\\left(D + 2 H_{DM} r_{FoV}\\right)^{2}} & - \\frac{2 \\sqrt{6} D H_{DM} y_{NGS}}{\\left(D + 2 H_{DM} r_{FoV}\\right)^{2}}\\end{matrix}\\right]$"
      ],
      "text/plain": [
       "⎡       4⋅√3⋅D⋅H_DM⋅x_NGS    2⋅√6⋅D⋅H_DM⋅y_NGS    2⋅√6⋅D⋅H_DM⋅x_NGS ⎤\n",
       "⎢1  0  ───────────────────  ───────────────────  ───────────────────⎥\n",
       "⎢                        2                    2                    2⎥\n",
       "⎢      (D + 2⋅H_DM⋅r_FoV)   (D + 2⋅H_DM⋅r_FoV)   (D + 2⋅H_DM⋅r_FoV) ⎥\n",
       "⎢                                                                   ⎥\n",
       "⎢       4⋅√3⋅D⋅H_DM⋅y_NGS    2⋅√6⋅D⋅H_DM⋅x_NGS   -2⋅√6⋅D⋅H_DM⋅y_NGS ⎥\n",
       "⎢0  1  ───────────────────  ───────────────────  ───────────────────⎥\n",
       "⎢                        2                    2                    2⎥\n",
       "⎣      (D + 2⋅H_DM⋅r_FoV)   (D + 2⋅H_DM⋅r_FoV)   (D + 2⋅H_DM⋅r_FoV) ⎦"
      ]
     },
     "metadata": {},
     "output_type": "display_data"
    },
    {
     "name": "stdout",
     "output_type": "stream",
     "text": [
      "[30.  0.]\n",
      "[-8.68240888 49.24038765]\n",
      "[-5.         -8.66025404]\n",
      "[[ 1.          0.          0.42221252  0.          0.29854934]\n",
      " [ 0.          1.          0.          0.29854934 -0.        ]\n",
      " [ 1.          0.         -0.12219406  0.49002284 -0.08640425]\n",
      " [ 0.          1.          0.69299694 -0.08640425 -0.49002284]\n",
      " [ 1.          0.         -0.07036875 -0.08618377 -0.04975822]\n",
      " [ 0.          1.         -0.12188226 -0.04975822  0.08618377]]\n",
      "[[ 0.1659003  -0.15351883  0.21901709  0.02296196  0.61508262  0.13055688]\n",
      " [-0.01174574  0.34082171 -0.1116391   0.09859392  0.12338484  0.56058436]\n",
      " [ 0.99933477  0.06355645 -0.14947145  0.60408168 -0.84986332 -0.66763813]\n",
      " [ 0.12251111  0.90023268  1.16442494 -0.13464866 -1.28693605 -0.76558402]\n",
      " [ 1.37527988  0.50750197 -0.57249372 -0.94365185 -0.80278616  0.43614989]]\n",
      "[[ 0.1659003  -0.15351883  0.21901709  0.02296196  0.61508262  0.13055688]\n",
      " [-0.01174574  0.34082171 -0.1116391   0.09859392  0.12338484  0.56058436]]\n",
      "[[ 0.31074966 -0.07900007  0.23795241  0.01181612  0.45129793  0.06718396]\n",
      " [-0.00375934  0.36483568 -0.03573124  0.18135696  0.03949058  0.45380736]]\n"
     ]
    }
   ],
   "source": [
    "P = interactionMatrixNGS()\n",
    "display(P)\n",
    "P = subsParamsByName(P, {'D':TelescopeDiameter, 'r_FoV':MCAO_FoV*arcsecsToRadians/2.0, 'H_DM':DM_height})\n",
    "xx, yy = sp.symbols('x_1 y_1', real=True)\n",
    "P = subsParamsByName(P, {'x_NGS':xx, 'y_NGS':yy})\n",
    "P_func = sp.lambdify((xx, yy), P, modules='numpy')\n",
    "print(cartTestNGSCoords0)\n",
    "print(cartTestNGSCoords1)\n",
    "print(cartTestNGSCoords2)\n",
    "pp1 = P_func(cartTestNGSCoords[0][0]*arcsecsToRadians, cartTestNGSCoords[0][1]*arcsecsToRadians)\n",
    "pp2 = P_func(cartTestNGSCoords[1][0]*arcsecsToRadians, cartTestNGSCoords[1][1]*arcsecsToRadians)\n",
    "pp3 = P_func(cartTestNGSCoords[2][0]*arcsecsToRadians, cartTestNGSCoords[2][1]*arcsecsToRadians)\n",
    "P_mat = np.vstack([pp1, pp2, pp3]) # aka Interaction Matrix, im\n",
    "print(P_mat)\n",
    "\n",
    "P_alpha1 = P_func(cartTestPointingCoords[0]*arcsecsToRadians, cartTestPointingCoords[1]*arcsecsToRadians)\n",
    "# on axis version\n",
    "P_alpha0 = P_func(0, 0)\n",
    "\n",
    "rec_tomo = scipy.linalg.pinv2(P_mat) # aka W, 5x6\n",
    "\n",
    "R_0 = np.dot(P_alpha0, rec_tomo)\n",
    "R_1 = np.dot(P_alpha1, rec_tomo)\n",
    "\n",
    "print(rec_tomo)\n",
    "print(R_0)\n",
    "print(R_1)\n",
    "\n",
    "#pp1 = P_func(45*arcsecsToRadians,45*arcsecsToRadians)\n",
    "#pp2 = P_func(-45*arcsecsToRadians,45*arcsecsToRadians)\n",
    "#pp3 = P_func(0,-60*arcsecsToRadians)"
   ]
  },
  {
   "cell_type": "code",
   "execution_count": 5,
   "metadata": {},
   "outputs": [
    {
     "name": "stdout",
     "output_type": "stream",
     "text": [
      "(5, 6)\n",
      "[[ 0.1659003  -0.15351883  0.21901708  0.02296196  0.61508262  0.13055688]\n",
      " [-0.01174574  0.34082171 -0.1116391   0.09859392  0.12338484  0.56058437]\n",
      " [ 0.99933462  0.06355644 -0.14947143  0.60408158 -0.84986319 -0.66763802]\n",
      " [ 0.12251109  0.90023251  1.16442474 -0.13464863 -1.28693583 -0.76558388]\n",
      " [ 1.37527965  0.50750188 -0.57249362 -0.94365169 -0.80278603  0.4361498 ]]\n"
     ]
    }
   ],
   "source": [
    "## The files in the folder are examples of data used or obtained in the jitter computation code. The parameters are the ones defined in params4jittercode.txt, unless otherwise specified. The files are the following:\n",
    "\n",
    "#- example_gaussian_psf.fits: Gaussian PSF for the 2nd star, normalized so that a PSF with SR of 1 would have had a flux of 1 e-, i. e. it takes into account the loss of flux in the PSF core due to SR < 1 and FWHM > diffraction.\n",
    "#- example_slope_noise.fits: Slope standard deviation (in mas) and bias factor in the case of the 2nd star sensed at 500 Hz.: due valori sigma e mu/shift\n",
    "\n",
    "#- windpsd_mavis.fits: PSD of tip and tilt (in nm2/Hz) due to wind/vibrations for MAVIS. Format: [nfreq,3]. 1st index: frequency in Hz. 2nd index: Tip PSD. 3rd index: Tilt PSD.\n",
    "#- minim_wind_noise12071nm2_psdmavis.fits: Table of residual variance on tip and tilt (in nm2) due to wind/vibrations for all the considered gains of the double integrator. Computed for the 2nd star sensed at 500 Hz. The noise level of 12071 nm2 corresponds to the slope error in example_slope_noise.fits. Format: [ngains,ngains,2].\n",
    "#- psd_turb.fits: PSD of turbulent tip and tilt in nm2/Hz. Format: [nfreq,3]. 1st index: frequency in Hz. 2nd index: Tip PSD. 3rd index: Tilt PSD.\n",
    "#- res_noise_ngs.fits: Residual variance of tip and tilt (in nm2) for all gains explored in the noise computation. Computed for the 2nd star at 500 Hz.\n",
    "\n",
    "#- Cn.fits: Noise covariance matrix for all stars sensed at 500 Hz.\n",
    "\n",
    "#- rec_tomo.fits: Tomographic reconstructor.\n",
    "\n",
    "#- cov_tomo_onaxis.fits: Resulting covariance matrix of tip/tilt on axis for the tomography contribution. : C3\n",
    "#- cov_noise_onaxis.fits: Resulting covariance matrix of tip/tilt on axis for the noise contribution. Computed using Cn.fits. : C3\n",
    "# ok sarebbe le 9 C per le 9 direzioni specificate nei parametri\n",
    "#- jitter_map.fits: Resulting jitter map for the configuration described in params4jittercode.txt. Format: [ndirections,5]. 1st & 2nd indexes: X, Y coordinates in arcsec. 3rd & 4th indexes: tip/tilt standard deviation along the major & minor axes (in mas). 5th index: Angle between the major axis and the X axis in degrees (counterclockwise).\n",
    "\n",
    "filenames = ['Cn.fits', 'example_gaussian_psf.fits', 'psd_turb.fits',  'res_noise_ngs.fits', 'cov_noise_onaxis.fits',\n",
    "             'cov_tomo_onaxis.fits', 'jitter_map.fits', 'rec_tomo.fits', 'example_slope_noise.fits']\n",
    "\n",
    "# torna simile se moltiplico tutte le posizioni delle stelle per 2\n",
    "filenames1 = ['rec_tomo.fits']\n",
    "\n",
    "# torna simile se moltiplico tutte le posizioni delle stelle per 2\n",
    "filenames2 = ['res_noise_ngs.fits']\n",
    "\n",
    "# 'windpsd_maory.fits', 'minim_wind_noise12071nm2_psdmaory.fits',\n",
    "# 'windpsd_mavis.fits', 'minim_wind_noise12071nm2_psdmavis.fits',\n",
    "for name in filenames1:\n",
    "    hdul = fits.open('MAVIS_TESTS/' + name)\n",
    "    _data = np.asarray(hdul[0].data, np.float64)\n",
    "    print(_data.shape)\n",
    "#    if len(_data.shape) == 2:\n",
    "#        plt.figure(figsize=(5, 5))\n",
    "#        plt.subplot(1, 1, 1)\n",
    "#        plt.imshow(_data, origin='lower', interpolation='nearest')\n",
    "    #if len(_data.shape) == 1:\n",
    "    print(_data)\n",
    "#    plt.yscale('log')\n",
    "#    plt.plot(_data[0]) \n",
    "#    plt.plot(_data[1]) "
   ]
  },
  {
   "cell_type": "code",
   "execution_count": 6,
   "metadata": {},
   "outputs": [],
   "source": [
    "# programma call e domande\n",
    "# rivedere parametri, fissare scelta per opzioni multiple, chiarire dove sono usati alcuni\n",
    "# rivedere files di dati: chiarire cosa sono alcuni\n",
    "# calcolo ricostruttore, fatto re 2 su coordinate refs, ecc ecc: OK\n",
    "# come si assembla C1: diagonale, ottimizzazione per tip e tilt con i due guadagni, \n",
    "# si calcola usando una stella sola, la piu' brillante cioe' la seconda\n",
    "# non viene usato R nel calcolo, rimane diagonale\n",
    "\n",
    "# dettagli su MAVIS3: i conti non tornano....\n",
    "\n",
    "# parametri calcolo gaussiana\n",
    "# dati intermedi: richiedere valori calcolati di alcuni dati intermedi i.e.: mu e sigma della gaussiana, C, matrici varie\n"
   ]
  },
  {
   "cell_type": "code",
   "execution_count": null,
   "metadata": {},
   "outputs": [],
   "source": []
  },
  {
   "cell_type": "code",
   "execution_count": null,
   "metadata": {},
   "outputs": [],
   "source": []
  }
 ],
 "metadata": {
  "kernelspec": {
   "display_name": "Python 3",
   "language": "python",
   "name": "python3"
  },
  "language_info": {
   "codemirror_mode": {
    "name": "ipython",
    "version": 3
   },
   "file_extension": ".py",
   "mimetype": "text/x-python",
   "name": "python",
   "nbconvert_exporter": "python",
   "pygments_lexer": "ipython3",
   "version": "3.6.10"
  }
 },
 "nbformat": 4,
 "nbformat_minor": 4
}
