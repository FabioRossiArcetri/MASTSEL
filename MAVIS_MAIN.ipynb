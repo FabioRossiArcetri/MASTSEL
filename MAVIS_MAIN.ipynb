{
 "cells": [
  {
   "cell_type": "code",
   "execution_count": 1,
   "metadata": {},
   "outputs": [],
   "source": [
    "DEV_PATH = '/home/frossi/dev/'\n",
    "import sys\n",
    "if not DEV_PATH in sys.path:\n",
    "    sys.path.append(DEV_PATH)\n",
    "\n",
    "from mavis import *"
   ]
  },
  {
   "cell_type": "code",
   "execution_count": 2,
   "metadata": {},
   "outputs": [
    {
     "data": {
      "text/latex": [
       "$\\displaystyle \\operatorname{dW_{\\phi}}{\\left(\\rho \\right)}$"
      ],
      "text/plain": [
       "dW_phi(rho)"
      ]
     },
     "metadata": {},
     "output_type": "display_data"
    },
    {
     "data": {
      "text/latex": [
       "$\\displaystyle \\frac{0.0229 \\left(-1\\right)^{m_{k}} 2^{- 0.5 \\delta_{0 m_{j}} - 0.5 \\delta_{0 m_{k}} + 1} i^{n_{j} + n_{k}} \\sqrt{\\left(n_{j} + 1\\right) \\left(n_{k} + 1\\right)} \\left(i^{3 m_{j} + 3 m_{k}} \\cos{\\left(\\theta \\left(m_{j} + m_{k}\\right) + \\frac{\\pi \\left(\\left(1 - \\delta_{0 m_{j}}\\right) \\left(\\left(-1\\right)^{j} - 1\\right) + \\left(1 - \\delta_{0 m_{k}}\\right) \\left(\\left(-1\\right)^{k} - 1\\right)\\right)}{4} \\right)} J_{m_{j} + m_{k}}\\left(2 \\pi f h \\rho\\right) + i^{3 \\left|{m_{j} - m_{k}}\\right|} \\cos{\\left(\\theta \\left(m_{j} - m_{k}\\right) + \\frac{\\pi \\left(\\left(1 - \\delta_{0 m_{j}}\\right) \\left(\\left(-1\\right)^{j} - 1\\right) - \\left(1 - \\delta_{0 m_{k}}\\right) \\left(\\left(-1\\right)^{k} - 1\\right)\\right)}{4} \\right)} J_{\\left|{m_{j} - m_{k}}\\right|}\\left(2 \\pi f h \\rho\\right)\\right) J_{n_{j} + 1}\\left(2 \\pi R_{1} f\\right) J_{n_{j} + 1}\\left(2 \\pi R_{2} f\\right)}{\\pi R_{1} R_{2} f r_{0}^{\\frac{5}{3}} \\left(\\left(\\frac{1}{L_{0}}\\right)^{2} + f^{2}\\right)^{\\frac{11}{6}}}$"
      ],
      "text/plain": [
       "0.0229*(-1)**m_k*2**(-0.5*KroneckerDelta(0, m_j) - 0.5*KroneckerDelta(0, m_k) + 1)*I**(n_j + n_k)*sqrt((n_j + 1)*(n_k + 1))*(I**(3*m_j + 3*m_k)*cos(theta*(m_j + m_k) + pi*((1 - KroneckerDelta(0, m_j))*((-1)**j - 1) + (1 - KroneckerDelta(0, m_k))*((-1)**k - 1))/4)*besselj(m_j + m_k, 2*pi*f*h*rho) + I**(3*Abs(m_j - m_k))*cos(theta*(m_j - m_k) + pi*((1 - KroneckerDelta(0, m_j))*((-1)**j - 1) - (1 - KroneckerDelta(0, m_k))*((-1)**k - 1))/4)*besselj(Abs(m_j - m_k), 2*pi*f*h*rho))*besselj(n_j + 1, 2*pi*R_1*f)*besselj(n_j + 1, 2*pi*R_2*f)/(pi*R_1*R_2*f*r_0**(5/3)*((1/L_0)**2 + f**2)**(11/6))"
      ]
     },
     "metadata": {},
     "output_type": "display_data"
    }
   ],
   "source": [
    "rh1 = mf['ZernikeCovarianceD'].rhs\n",
    "lh1 = mf['ZernikeCovarianceD'].lhs\n",
    "display(lh1)\n",
    "display(rh1)"
   ]
  },
  {
   "cell_type": "code",
   "execution_count": 3,
   "metadata": {},
   "outputs": [
    {
     "data": {
      "text/latex": [
       "$\\displaystyle - \\frac{0.265730960724332 J^{2}_{2}\\left(8.0 \\pi f\\right) J_{2}\\left(20000 \\pi f \\rho\\right)}{\\pi f \\left(f^{2} + 0.00206611570247934\\right)^{\\frac{11}{6}}}$"
      ],
      "text/plain": [
       "-0.265730960724332*besselj(2, 8.0*pi*f)**2*besselj(2, 20000*pi*f*rho)/(pi*f*(f**2 + 0.00206611570247934)**(11/6))"
      ]
     },
     "metadata": {},
     "output_type": "display_data"
    },
    {
     "data": {
      "text/latex": [
       "$\\displaystyle \\int\\limits_{0.001}^{10} - \\frac{0.265730960724332 J^{2}_{2}\\left(8.0 \\pi f\\right) J_{2}\\left(20000 \\pi f \\rho\\right)}{\\pi f \\left(f^{2} + 0.00206611570247934\\right)^{\\frac{11}{6}}}\\, df$"
      ],
      "text/plain": [
       "Integral(-0.265730960724332*besselj(2, 8.0*pi*f)**2*besselj(2, 20000*pi*f*rho)/(pi*f*(f**2 + 0.00206611570247934)**(11/6)), (f, 0.001, 10))"
      ]
     },
     "metadata": {},
     "output_type": "display_data"
    },
    {
     "data": {
      "image/png": "[encoded data removed]",
      "text/plain": [
       "<Figure size 720x360 with 1 Axes>"
      ]
     },
     "metadata": {
      "needs_background": "light"
     },
     "output_type": "display_data"
    }
   ],
   "source": [
    "# Noll indices: i,j = 2,3 : OK\n",
    "# L0 = 22.0 : OK\n",
    "# r_0 = calcolare da Cn2 (0.1) # OK\n",
    "# h = 10000 : OK \n",
    "# rho max: 120 asec (convertito in radianti)\n",
    "# theta= pi/4 : OK\n",
    "# f = [1e-3, 1] : OK\n",
    "paramsDict = {'theta': np.pi/4.0, 'L_0': 22.0, 'r_0': 0.1, 'R_1': TelescopeDiameter/2.0, 'R_2': TelescopeDiameter/2.0, 'h': DM_height }\n",
    "#, 'f_min': 1e-3, 'f_max': 1e3\n",
    "_integrationLimits = (sp.symbols('f', positive=True) , 1e-3, 10)\n",
    "\n",
    "_integrand1 = subsParamsByName(cov_expr_jk(rh1, 3, 2), paramsDict)\n",
    "display(_integrand1)\n",
    "\n",
    "mItCPU = Integrator('none', np, np.float64)\n",
    "# usando GPU ho un valore costante: debug: solved!\n",
    "mItGPU = Integrator('none', cp, cp.float64)\n",
    "mIt = mItGPU\n",
    "\n",
    "fig, ax = plt.subplots(figsize=(10,5))\n",
    "plt.xscale('linear')\n",
    "plt.yscale('linear')\n",
    "_integral1 = sp.Integral(_integrand1, _integrationLimits)\n",
    "display(_integral1)\n",
    "xplot1, zplot1 = mIt.IntegralEval(lh1, _integral1, [('rho',  0, 120.0/ 206265.0, 13, 'linear')], [(1025, 'linear')], method='rect')\n",
    "xx, zz = cp.asnumpy(xplot1[0]), cp.asnumpy(zplot1)\n",
    "ax.plot(xx, zz )\n",
    "hdul = fits.open('MAVIS_TESTS/ex_covar.fits')\n",
    "cv_plot = np.asarray(hdul[0].data, np.float64)\n",
    "ax.plot(xx, cv_plot)\n",
    "plt.show()\n",
    "\n",
    "#_lhs = sp.symbols('C_v', positive=True)\n",
    "#_rhs = _integrand1\n",
    "#_eq = sp.Eq(_lhs, _rhs)\n",
    "#myF = Formulary('local', ['ZernikeCoval'], [(_lhs, _rhs, _eq)])\n",
    "#myF.plotFormula('ZernikeCoval',\n",
    "#            {'rho': 60.0/ 206265.0},\n",
    "#            ['f'],\n",
    "#            [ np.asarray(np.geomspace(1e-3, 10, 1024*2), dtype=np.float64) ],\n",
    "#            [\"scipy\", pplib], False)"
   ]
  },
  {
   "cell_type": "code",
   "execution_count": 4,
   "metadata": {},
   "outputs": [
    {
     "name": "stdout",
     "output_type": "stream",
     "text": [
      "[[302248.69732678      0.        ]\n",
      " [     0.         302248.69732678]]\n",
      "[[256824.00448625   5843.96994537 248481.62949499  21973.7073617\n",
      "  289824.0961      -6850.35473328]\n",
      " [  5843.96994537 284875.06022403  21973.7073617  184228.2471212\n",
      "   -6850.35473328 285481.14522403]]\n",
      "[[302248.69732678      0.         185499.22872774  52891.90329607\n",
      "  220641.19037457 -12634.04523973]\n",
      " [     0.         302248.69732678  52891.90329607 159721.98380109\n",
      "  -12634.04523973 268574.96084958]\n",
      " [185499.22872774  52891.90329607 302248.69732678      0.\n",
      "  234665.79198476   6420.69651042]\n",
      " [ 52891.90329607 159721.98380109      0.         302248.69732678\n",
      "    6420.69651042 134117.8207296 ]\n",
      " [220641.19037457 -12634.04523973 234665.79198476   6420.69651042\n",
      "  302248.69732678      0.        ]\n",
      " [-12634.04523973 268574.96084958   6420.69651042 134117.8207296\n",
      "       0.         302248.69732678]]\n"
     ]
    }
   ],
   "source": [
    "rh1 = MavisFormulas.getFormulaRhs('ZernikeCovarianceD')\n",
    "lh1 = MavisFormulas.getFormulaLhs('ZernikeCovarianceD')\n",
    "mIt = Integrator('none', np, np.float64)\n",
    "_integrationLimits = (sp.symbols('f', positive=True), 1e-3, 10.0)\n",
    "\n",
    "cartesianCoordsViewingDirection = np.asarray([5,5]) # x, y\n",
    "polarCoordsViewingDirection = cartesianToPolar(cartesianCoordsViewingDirection) # rho, theta\n",
    "scaleF = (500.0/(2*np.pi))**2\n",
    "\n",
    "def covValue(ii,jj, polarCoordsViewingDirectionDifference, li):        \n",
    "    paramsDict = {'theta': polarCoordsViewingDirectionDifference[1]*degToRad, 'L_0': L0_Value, 'r_0': r0_Value, \n",
    "                  'R_1': TelescopeDiameter/2.0, 'R_2': TelescopeDiameter/2.0, 'h': heights_Cn2[li] }\n",
    "    _integrand1 = subsParamsByName(cov_expr_jk(rh1, ii, jj), paramsDict)\n",
    "    _integral1 = sp.Integral(_integrand1, _integrationLimits)\n",
    "    xplot1, zplot1 = mIt.IntegralEval(lh1, _integral1, \n",
    "                                      [('rho',  polarCoordsViewingDirectionDifference[0]*arcsecsToRadians, \n",
    "                                                         polarCoordsViewingDirectionDifference[0]*arcsecsToRadians, 1, 'linear')], \n",
    "                                      [(10000, 'linear')], method='rect')\n",
    "    return zplot1[0]\n",
    "\n",
    "matCaaValue = np.zeros((2,2), dtype=np.float64)\n",
    "for ii in [2,3]:\n",
    "    for jj in [2,3]:\n",
    "        matCaaValue[ii-2][jj-2] = scaleF*covValue(ii,jj, cartesianToPolar(np.asarray([0,0])), 2)\n",
    "print(matCaaValue)\n",
    "\n",
    "matCasValue = np.zeros((2,6), dtype=np.float64)\n",
    "\n",
    "for li in [0,1]:\n",
    "    for kk in [0,1,2]:\n",
    "        asterismStar = cartTestNGSCoords[kk]\n",
    "        polarCoordsViewingDirection = cartesianToPolar(-asterismStar+cartesianCoordsViewingDirection)\n",
    "        for ii in [2,3]:\n",
    "            for jj in [2,3]:\n",
    "                matCasValue[ii-2][jj-2 + 2*kk] += Cn2_Value[li]*scaleF*covValue(ii, jj, polarCoordsViewingDirection, li)\n",
    "\n",
    "print(matCasValue)\n",
    "\n",
    "matCssValue = np.zeros((6,6), dtype=np.float64)\n",
    "for li in [0,1]:\n",
    "    for kk1 in [0,1,2]:\n",
    "        for kk2 in [0,1,2]:\n",
    "            polarCoordsViewingDirection = cartesianToPolar(cartTestNGSCoords[kk1]-cartTestNGSCoords[kk2])\n",
    "            for ii in [2,3]:\n",
    "                for jj in [2,3]:\n",
    "                    matCssValue[ii-2 + 2*kk1][jj-2 + 2*kk2] += Cn2_Value[li]*scaleF*covValue(ii,jj, polarCoordsViewingDirection, li)\n",
    "print(matCssValue)\n",
    "\n",
    "# con queste assemblo C2"
   ]
  },
  {
   "cell_type": "code",
   "execution_count": 5,
   "metadata": {},
   "outputs": [
    {
     "name": "stdout",
     "output_type": "stream",
     "text": [
      "[[-1.98230445e-04  6.12323363e-17]\n",
      " [ 6.12323363e-17 -1.98230445e-04]]\n",
      "[[-1.68123269e-04 -4.58858877e-06 -1.65317050e-04 -1.48263937e-05\n",
      "  -1.93930832e-04  4.79052122e-06]\n",
      " [-4.58858877e-06 -1.90192943e-04 -1.48263937e-05 -1.21968180e-04\n",
      "   4.79052122e-06 -1.90914741e-04]]\n",
      "[[-1.98230445e-04  6.12323363e-17 -1.21607260e-04 -3.02318517e-05\n",
      "  -1.41167081e-04  7.85676047e-06]\n",
      " [ 6.12323363e-17 -1.98230445e-04 -3.02318517e-05 -1.06870203e-04\n",
      "   7.85676047e-06 -1.70955799e-04]\n",
      " [-1.21607260e-04 -3.02318517e-05 -1.98230445e-04  6.12323363e-17\n",
      "  -1.49764623e-04 -3.77067411e-06]\n",
      " [-3.02318517e-05 -1.06870203e-04  6.12323363e-17 -1.98230445e-04\n",
      "  -3.77067411e-06 -9.06923250e-05]\n",
      " [-1.41167081e-04  7.85676047e-06 -1.49764623e-04 -3.77067411e-06\n",
      "  -1.98230445e-04  6.12323363e-17]\n",
      " [ 7.85676047e-06 -1.70955799e-04 -3.77067411e-06 -9.06923250e-05\n",
      "   6.12323363e-17 -1.98230445e-04]]\n"
     ]
    }
   ],
   "source": [
    "hdul = fits.open('MAVIS_TESTS/Caa.fits')\n",
    "Caa_data = np.asarray(hdul[0].data, np.float64)\n",
    "print((Caa_data-matCaaValue)/np.amax(Caa_data))\n",
    "hdul = fits.open('MAVIS_TESTS/Cas.fits')\n",
    "Cas_data = np.asarray(hdul[0].data, np.float64)\n",
    "print((Cas_data-matCasValue)/np.amax(Cas_data))\n",
    "hdul = fits.open('MAVIS_TESTS/Css.fits')\n",
    "Css_data = np.asarray(hdul[0].data, np.float64)\n",
    "print((Css_data-matCssValue)/np.amax(Css_data))"
   ]
  },
  {
   "cell_type": "code",
   "execution_count": null,
   "metadata": {},
   "outputs": [],
   "source": []
  },
  {
   "cell_type": "code",
   "execution_count": null,
   "metadata": {},
   "outputs": [],
   "source": []
  },
  {
   "cell_type": "code",
   "execution_count": null,
   "metadata": {},
   "outputs": [],
   "source": []
  }
 ],
 "metadata": {
  "kernelspec": {
   "display_name": "Python 3",
   "language": "python",
   "name": "python3"
  },
  "language_info": {
   "codemirror_mode": {
    "name": "ipython",
    "version": 3
   },
   "file_extension": ".py",
   "mimetype": "text/x-python",
   "name": "python",
   "nbconvert_exporter": "python",
   "pygments_lexer": "ipython3",
   "version": "3.6.10"
  }
 },
 "nbformat": 4,
 "nbformat_minor": 4
}
