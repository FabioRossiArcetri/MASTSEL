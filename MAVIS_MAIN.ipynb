{
 "cells": [
  {
   "cell_type": "code",
   "execution_count": 1,
   "metadata": {},
   "outputs": [],
   "source": [
    "from mavis import *\n",
    "\n",
    "%load_ext line_profiler"
   ]
  },
  {
   "cell_type": "code",
   "execution_count": 2,
   "metadata": {},
   "outputs": [],
   "source": [
    "xx, yy = np.linspace(-15, 15,11), np.linspace(-15,15,11)\n",
    "cartPointingCoords =  np.dstack(np.meshgrid(xx, yy)).reshape(-1, 2)\n",
    "NGS_flux = [10000, 30000, 5000]\n",
    "NGS_SR_1650 = [0.4, 0.2, 0.6]\n",
    "NGS_FWHM_mas = [90, 110, 85]\n",
    "polarNGSCoords = np.asarray([[30.0,0.0], [50.0,100.0],[10.0,240.0]])\n",
    "#polarNGSCoords = np.asarray([[10.0,0.0], [10.0,120.0],[10.0,240.0]])\n",
    "cartNGSCoords = np.asarray([polarToCartesian(polarNGSCoords[0,:]), polarToCartesian(polarNGSCoords[1,:]), polarToCartesian(polarNGSCoords[2,:])])\n",
    "mLO = MavisLO(\"/home/frossi/dev/MASTSEL/\", 'mavisParams', 'data/windpsd_mavis.fits')"
   ]
  },
  {
   "cell_type": "code",
   "execution_count": 7,
   "metadata": {},
   "outputs": [
    {
     "name": "stdout",
     "output_type": "stream",
     "text": [
      "CPU times: user 1.56 s, sys: 300 ms, total: 1.86 s\n",
      "Wall time: 1.86 s\n"
     ]
    }
   ],
   "source": [
    "%%time \n",
    "Ctot = mLO.computeTotalResidualMatrix(cartPointingCoords, cartNGSCoords, NGS_flux, NGS_SR_1650, NGS_FWHM_mas)"
   ]
  },
  {
   "cell_type": "code",
   "execution_count": 8,
   "metadata": {},
   "outputs": [
    {
     "data": {
      "text/plain": [
       "Timer unit: 1e-06 s\n",
       "\n",
       "Total time: 2.71856 s\n",
       "File: /home/frossi/dev/MASTSEL/mavisLO.py\n",
       "Function: computeTotalResidualMatrix at line 436\n",
       "\n",
       "Line #      Hits         Time  Per Hit   % Time  Line Contents\n",
       "==============================================================\n",
       "   436                                               def computeTotalResidualMatrix(self, aCartPointingCoords, aCartNGSCoords, aNGS_flux, aNGS_SR_1650, aNGS_FWHM_mas):\n",
       "   437         1          8.0      8.0      0.0          nPointings = aCartPointingCoords.shape[0]\n",
       "   438         1         16.0     16.0      0.0          C1 = np.zeros((2,2))\n",
       "   439         1          5.0      5.0      0.0          Cnn = np.zeros((6,6))\n",
       "   440         1        211.0    211.0      0.0          maxFluxIndex = np.where(aNGS_flux==np.amax(aNGS_flux))\n",
       "   441         4          9.0      2.2      0.0          for starIndex in [0,1,2]:\n",
       "   442         3     893316.0 297772.0     32.9              bias, amu, avar = self.computeBias(aNGS_flux[starIndex], aNGS_SR_1650[starIndex], aNGS_FWHM_mas[starIndex]) # one scalar, two tuples of 2\n",
       "   443         3         12.0      4.0      0.0              var1x = avar[0] * self.pixel_scale_LO**2\n",
       "   444         3     835498.0 278499.3     30.7              nr = self.computeNoiseResidual(0.25, 250.0, 1000, var1x, bias, gpulib )\n",
       "   445         3     770404.0 256801.3     28.3              wr = self.computeWindResidual(self.psd_freq, self.psd_tip_wind, self.psd_tilt_wind, var1x, bias, gpulib )\n",
       "   446         3         11.0      3.7      0.0              Cnn[2*starIndex,2*starIndex] = nr[0]\n",
       "   447         3          5.0      1.7      0.0              Cnn[2*starIndex+1,2*starIndex+1] = nr[1]\n",
       "   448         3         10.0      3.3      0.0              if starIndex == maxFluxIndex[0][0]:\n",
       "   449         1          1.0      1.0      0.0                  C1[0,0] = wr[0]\n",
       "   450         1          1.0      1.0      0.0                  C1[1,1] = wr[1]\n",
       "   451                                                   # C1 and Cnn do not depend on aCartPointingCoords[i]\n",
       "   452         1     219045.0 219045.0      8.1          Ctot = self.multiCMatAssemble(aCartPointingCoords, aCartNGSCoords, Cnn, C1)\n",
       "   453         1          4.0      4.0      0.0          return Ctot.reshape((nPointings,2,2))"
      ]
     },
     "metadata": {},
     "output_type": "display_data"
    }
   ],
   "source": [
    "%lprun -f MavisLO.computeTotalResidualMatrix Ctot = mLO.computeTotalResidualMatrix(cartPointingCoords, cartNGSCoords, NGS_flux, NGS_SR_1650, NGS_FWHM_mas)"
   ]
  },
  {
   "cell_type": "code",
   "execution_count": null,
   "metadata": {},
   "outputs": [],
   "source": [
    "print('Ctot', Ctot)\n",
    "#Ctot [[[18545.18136324  3308.78460439]\n",
    "#  [ 3308.78460439 20872.5522838 ]]\n",
    "# [[28.59791617 -3.8054102  35.15831592 -1.7180003  46.33356834 -0.51767148]\n",
    "#  [-3.8054102  38.74567669 -1.7180003  17.85779335 -0.51767148 46.82192702]]"
   ]
  },
  {
   "cell_type": "code",
   "execution_count": 5,
   "metadata": {},
   "outputs": [
    {
     "data": {
      "image/png": "[encoded data removed]",
      "text/plain": [
       "<Figure size 432x288 with 1 Axes>"
      ]
     },
     "metadata": {
      "needs_background": "light"
     },
     "output_type": "display_data"
    }
   ],
   "source": [
    "%matplotlib inline\n",
    "cov_ellipses = mLO.ellipsesFromCovMats(Ctot)\n",
    "plotEllipses(cartPointingCoords, cov_ellipses, 0.2)"
   ]
  },
  {
   "cell_type": "code",
   "execution_count": 5,
   "metadata": {},
   "outputs": [
    {
     "ename": "NameError",
     "evalue": "name 'computeTotalResidualMatrix' is not defined",
     "output_type": "error",
     "traceback": [
      "\u001b[0;31m---------------------------------------------------------------------------\u001b[0m",
      "\u001b[0;31mNameError\u001b[0m                                 Traceback (most recent call last)",
      "\u001b[0;32m<ipython-input-5-6212128e3256>\u001b[0m in \u001b[0;36m<module>\u001b[0;34m\u001b[0m\n\u001b[1;32m      1\u001b[0m \u001b[0;31m#%%time\u001b[0m\u001b[0;34m\u001b[0m\u001b[0;34m\u001b[0m\u001b[0;34m\u001b[0m\u001b[0m\n\u001b[1;32m      2\u001b[0m \u001b[0mcartNGSCoords\u001b[0m \u001b[0;34m=\u001b[0m \u001b[0mnp\u001b[0m\u001b[0;34m.\u001b[0m\u001b[0masarray\u001b[0m\u001b[0;34m(\u001b[0m\u001b[0;34m[\u001b[0m\u001b[0mpolarToCartesian\u001b[0m\u001b[0;34m(\u001b[0m\u001b[0mpolarNGSCoords\u001b[0m\u001b[0;34m[\u001b[0m\u001b[0;36m0\u001b[0m\u001b[0;34m,\u001b[0m\u001b[0;34m:\u001b[0m\u001b[0;34m]\u001b[0m\u001b[0;34m)\u001b[0m\u001b[0;34m,\u001b[0m \u001b[0mpolarToCartesian\u001b[0m\u001b[0;34m(\u001b[0m\u001b[0mpolarNGSCoords\u001b[0m\u001b[0;34m[\u001b[0m\u001b[0;36m1\u001b[0m\u001b[0;34m,\u001b[0m\u001b[0;34m:\u001b[0m\u001b[0;34m]\u001b[0m\u001b[0;34m)\u001b[0m\u001b[0;34m,\u001b[0m \u001b[0mpolarToCartesian\u001b[0m\u001b[0;34m(\u001b[0m\u001b[0mpolarNGSCoords\u001b[0m\u001b[0;34m[\u001b[0m\u001b[0;36m2\u001b[0m\u001b[0;34m,\u001b[0m\u001b[0;34m:\u001b[0m\u001b[0;34m]\u001b[0m\u001b[0;34m)\u001b[0m\u001b[0;34m]\u001b[0m\u001b[0;34m)\u001b[0m\u001b[0;34m\u001b[0m\u001b[0;34m\u001b[0m\u001b[0m\n\u001b[0;32m----> 3\u001b[0;31m \u001b[0mCtot\u001b[0m \u001b[0;34m=\u001b[0m \u001b[0mcomputeTotalResidualMatrix\u001b[0m\u001b[0;34m(\u001b[0m\u001b[0mcartPointingCoords\u001b[0m\u001b[0;34m,\u001b[0m \u001b[0mcartNGSCoords\u001b[0m\u001b[0;34m,\u001b[0m \u001b[0mNGS_flux\u001b[0m\u001b[0;34m,\u001b[0m \u001b[0mNGS_SR_1650\u001b[0m\u001b[0;34m,\u001b[0m \u001b[0mNGS_FWHM_mas\u001b[0m\u001b[0;34m,\u001b[0m \u001b[0;32mTrue\u001b[0m\u001b[0;34m)\u001b[0m\u001b[0;34m\u001b[0m\u001b[0;34m\u001b[0m\u001b[0m\n\u001b[0m\u001b[1;32m      4\u001b[0m \u001b[0mprint\u001b[0m\u001b[0;34m(\u001b[0m\u001b[0;34m'Ctot'\u001b[0m\u001b[0;34m,\u001b[0m \u001b[0mCtot\u001b[0m\u001b[0;34m)\u001b[0m\u001b[0;34m\u001b[0m\u001b[0;34m\u001b[0m\u001b[0m\n\u001b[1;32m      5\u001b[0m \u001b[0mCtot\u001b[0m \u001b[0;34m=\u001b[0m \u001b[0mnp\u001b[0m\u001b[0;34m.\u001b[0m\u001b[0masarray\u001b[0m\u001b[0;34m(\u001b[0m\u001b[0mCtot\u001b[0m\u001b[0;34m)\u001b[0m\u001b[0;34m\u001b[0m\u001b[0;34m\u001b[0m\u001b[0m\n",
      "\u001b[0;31mNameError\u001b[0m: name 'computeTotalResidualMatrix' is not defined"
     ]
    }
   ],
   "source": [
    "#%%time\n",
    "cartNGSCoords = np.asarray([polarToCartesian(polarNGSCoords[0,:]), polarToCartesian(polarNGSCoords[1,:]), polarToCartesian(polarNGSCoords[2,:])])\n",
    "Ctot = computeTotalResidualMatrix(cartPointingCoords, cartNGSCoords, NGS_flux, NGS_SR_1650, NGS_FWHM_mas, True)\n",
    "print('Ctot', Ctot)\n",
    "Ctot = np.asarray(Ctot)\n",
    "cov_ellipses = ellipsesFromCovMats(Ctot)"
   ]
  },
  {
   "cell_type": "code",
   "execution_count": 6,
   "metadata": {},
   "outputs": [
    {
     "name": "stdout",
     "output_type": "stream",
     "text": [
      "0.5843981184677838\n",
      "102.73473572273393\n",
      "125.63026549812757\n"
     ]
    }
   ],
   "source": [
    "scale =1.0\n",
    "print(0.5 * np.arctan( 2*-2405.86006388 / ( 12145.83654855-14191.5529846 )))\n",
    "print(np.sqrt( 0.5 * ( 2*-2405.86006388 / np.sin(2*0.5843981184677838) + 12145.83654855+14191.5529846) ) / scale)\n",
    "print( np.sqrt(12145.83654855+14191.5529846-10554.42592401998)/scale )\n",
    "# manca conversione da nanometri a mas:\n"
   ]
  },
  {
   "cell_type": "code",
   "execution_count": 7,
   "metadata": {},
   "outputs": [
    {
     "name": "stdout",
     "output_type": "stream",
     "text": [
      "3.23 s ± 1.17 ms per loop (mean ± std. dev. of 7 runs, 1 loop each)\n"
     ]
    }
   ],
   "source": [
    "%%timeit\n",
    "Ctot = computeTotalResidualMatrix(cartPointingCoords, cartNGSCoords, NGS_flux, NGS_SR_1650, NGS_FWHM_mas)"
   ]
  },
  {
   "cell_type": "code",
   "execution_count": null,
   "metadata": {},
   "outputs": [],
   "source": []
  },
  {
   "cell_type": "code",
   "execution_count": null,
   "metadata": {},
   "outputs": [],
   "source": []
  },
  {
   "cell_type": "code",
   "execution_count": null,
   "metadata": {},
   "outputs": [],
   "source": []
  },
  {
   "cell_type": "code",
   "execution_count": null,
   "metadata": {},
   "outputs": [],
   "source": []
  },
  {
   "cell_type": "code",
   "execution_count": null,
   "metadata": {},
   "outputs": [],
   "source": []
  }
 ],
 "metadata": {
  "kernelspec": {
   "display_name": "Python 3",
   "language": "python",
   "name": "python3"
  },
  "language_info": {
   "codemirror_mode": {
    "name": "ipython",
    "version": 3
   },
   "file_extension": ".py",
   "mimetype": "text/x-python",
   "name": "python",
   "nbconvert_exporter": "python",
   "pygments_lexer": "ipython3",
   "version": "3.7.8"
  }
 },
 "nbformat": 4,
 "nbformat_minor": 4
}
