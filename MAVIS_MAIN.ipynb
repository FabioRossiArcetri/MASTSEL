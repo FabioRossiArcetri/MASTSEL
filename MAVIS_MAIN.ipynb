{
 "cells": [
  {
   "cell_type": "code",
   "execution_count": 1,
   "metadata": {},
   "outputs": [],
   "source": [
    "DEV_PATH = '/home/frossi/dev/'\n",
    "import sys\n",
    "if not DEV_PATH in sys.path:\n",
    "    sys.path.append(DEV_PATH)\n",
    "\n",
    "from mavis import *\n",
    "\n",
    "mp.set_start_method('fork')"
   ]
  },
  {
   "cell_type": "code",
   "execution_count": 2,
   "metadata": {},
   "outputs": [
    {
     "name": "stdout",
     "output_type": "stream",
     "text": [
      "Ctot [[[12145.83654855 -2405.86006388]\n",
      "  [-2405.86006388 14191.5529846 ]]]\n",
      "CPU times: user 4.4 s, sys: 784 ms, total: 5.18 s\n",
      "Wall time: 5.18 s\n"
     ]
    }
   ],
   "source": [
    "%%time\n",
    "cartPointingCoords = np.asarray([[5,5]])\n",
    "NGS_flux = [10000, 30000, 5000]\n",
    "NGS_SR_1650 = [0.4, 0.2, 0.6]\n",
    "NGS_FWHM_mas = [90, 110, 85]\n",
    "polarNGSCoords = np.asarray([[30.0,0.0], [50.0,100.0],[10.0,240.0]])\n",
    "cartNGSCoords = np.asarray([polarToCartesian(polarNGSCoords[0,:]), polarToCartesian(polarNGSCoords[1,:]), polarToCartesian(polarNGSCoords[2,:])])\n",
    "Ctot = computeTotalResidualMatrix(cartPointingCoords, cartNGSCoords, NGS_flux, NGS_SR_1650, NGS_FWHM_mas, True)\n",
    "print('Ctot', Ctot)"
   ]
  },
  {
   "cell_type": "code",
   "execution_count": 4,
   "metadata": {},
   "outputs": [
    {
     "name": "stdout",
     "output_type": "stream",
     "text": [
      "[[-5.84398118e-01  1.05544259e+04  1.57829636e+04]]\n",
      "[(10.55442592402095, 15.782963609123778, -33.48354574357587)]\n"
     ]
    }
   ],
   "source": [
    "Ctot = np.asarray(Ctot)\n",
    "cov_ellipses = ellipsesFromCovMats(Ctot)\n",
    "print(cov_ellipses)\n",
    "print( [ (cov_ellipses[i,1]*0.001, cov_ellipses[i,2]*0.001, cov_ellipses[i,0]*180/np.pi) for i in range(1)])"
   ]
  },
  {
   "cell_type": "code",
   "execution_count": 3,
   "metadata": {},
   "outputs": [
    {
     "name": "stdout",
     "output_type": "stream",
     "text": [
      "CPU times: user 2.6 s, sys: 852 ms, total: 3.46 s\n",
      "Wall time: 15 s\n"
     ]
    }
   ],
   "source": [
    "%%time\n",
    "xx, yy = np.linspace(-15,15,7), np.linspace(-15,15,7)\n",
    "cartPointingCoords =  np.dstack(np.meshgrid(xx, yy)).reshape(-1, 2)\n",
    "NGS_flux = [10000, 30000, 5000]\n",
    "NGS_SR_1650 = [0.4, 0.2, 0.6]\n",
    "NGS_FWHM_mas = [90, 110, 85]\n",
    "polarNGSCoords = np.asarray([[30.0,0.0], [50.0,100.0],[10.0,240.0]])\n",
    "cartNGSCoords = np.asarray([polarToCartesian(polarNGSCoords[0,:]), polarToCartesian(polarNGSCoords[1,:]), polarToCartesian(polarNGSCoords[2,:])])\n",
    "Ctot = computeTotalResidualMatrix(cartPointingCoords, cartNGSCoords, NGS_flux, NGS_SR_1650, NGS_FWHM_mas)\n",
    "# print('Ctot', Ctot)"
   ]
  },
  {
   "cell_type": "code",
   "execution_count": 4,
   "metadata": {},
   "outputs": [
    {
     "data": {
      "application/vnd.jupyter.widget-view+json": {
       "model_id": "106f86708e8a4d5d928263f2e1fdf9fb",
       "version_major": 2,
       "version_minor": 0
      },
      "text/plain": [
       "Canvas(toolbar=Toolbar(toolitems=[('Home', 'Reset original view', 'home', 'home'), ('Back', 'Back to previous …"
      ]
     },
     "metadata": {},
     "output_type": "display_data"
    }
   ],
   "source": [
    "%matplotlib ipympl\n",
    "Ctot = np.asarray(Ctot)\n",
    "cov_ellipses = ellipsesFromCovMats(Ctot)\n",
    "plotEllipses(cartPointingCoords, cov_ellipses, 1e-4)"
   ]
  },
  {
   "cell_type": "code",
   "execution_count": null,
   "metadata": {},
   "outputs": [],
   "source": []
  },
  {
   "cell_type": "code",
   "execution_count": null,
   "metadata": {},
   "outputs": [],
   "source": [
    "%%timeit\n",
    "Ctot = computeTotalResidualMatrix(cartPointingCoords, cartNGSCoords, NGS_flux, NGS_SR_1650, NGS_FWHM_mas)"
   ]
  },
  {
   "cell_type": "code",
   "execution_count": null,
   "metadata": {},
   "outputs": [],
   "source": []
  },
  {
   "cell_type": "code",
   "execution_count": 7,
   "metadata": {},
   "outputs": [
    {
     "data": {
      "text/latex": [
       "$\\displaystyle \\operatorname{dW_{\\phi}}{\\left(\\rho \\right)}$"
      ],
      "text/plain": [
       "dW_phi(rho)"
      ]
     },
     "metadata": {},
     "output_type": "display_data"
    },
    {
     "data": {
      "text/latex": [
       "$\\displaystyle \\frac{0.0229 \\left(-1\\right)^{m_{k}} 2^{- 0.5 \\delta_{0 m_{j}} - 0.5 \\delta_{0 m_{k}} + 1} i^{n_{j} + n_{k}} \\sqrt{\\left(n_{j} + 1\\right) \\left(n_{k} + 1\\right)} \\left(i^{3 m_{j} + 3 m_{k}} \\cos{\\left(\\theta \\left(m_{j} + m_{k}\\right) + \\frac{\\pi \\left(\\left(1 - \\delta_{0 m_{j}}\\right) \\left(\\left(-1\\right)^{j} - 1\\right) + \\left(1 - \\delta_{0 m_{k}}\\right) \\left(\\left(-1\\right)^{k} - 1\\right)\\right)}{4} \\right)} J_{m_{j} + m_{k}}\\left(2 \\pi f h \\rho\\right) + i^{3 \\left|{m_{j} - m_{k}}\\right|} \\cos{\\left(\\theta \\left(m_{j} - m_{k}\\right) + \\frac{\\pi \\left(\\left(1 - \\delta_{0 m_{j}}\\right) \\left(\\left(-1\\right)^{j} - 1\\right) - \\left(1 - \\delta_{0 m_{k}}\\right) \\left(\\left(-1\\right)^{k} - 1\\right)\\right)}{4} \\right)} J_{\\left|{m_{j} - m_{k}}\\right|}\\left(2 \\pi f h \\rho\\right)\\right) J_{n_{j} + 1}\\left(2 \\pi R_{1} f\\right) J_{n_{j} + 1}\\left(2 \\pi R_{2} f\\right)}{\\pi R_{1} R_{2} f r_{0}^{\\frac{5}{3}} \\left(\\left(\\frac{1}{L_{0}}\\right)^{2} + f^{2}\\right)^{\\frac{11}{6}}}$"
      ],
      "text/plain": [
       "0.0229*(-1)**m_k*2**(-0.5*KroneckerDelta(0, m_j) - 0.5*KroneckerDelta(0, m_k) + 1)*I**(n_j + n_k)*sqrt((n_j + 1)*(n_k + 1))*(I**(3*m_j + 3*m_k)*cos(theta*(m_j + m_k) + pi*((1 - KroneckerDelta(0, m_j))*((-1)**j - 1) + (1 - KroneckerDelta(0, m_k))*((-1)**k - 1))/4)*besselj(m_j + m_k, 2*pi*f*h*rho) + I**(3*Abs(m_j - m_k))*cos(theta*(m_j - m_k) + pi*((1 - KroneckerDelta(0, m_j))*((-1)**j - 1) - (1 - KroneckerDelta(0, m_k))*((-1)**k - 1))/4)*besselj(Abs(m_j - m_k), 2*pi*f*h*rho))*besselj(n_j + 1, 2*pi*R_1*f)*besselj(n_j + 1, 2*pi*R_2*f)/(pi*R_1*R_2*f*r_0**(5/3)*((1/L_0)**2 + f**2)**(11/6))"
      ]
     },
     "metadata": {},
     "output_type": "display_data"
    }
   ],
   "source": [
    "rh1 = mf['ZernikeCovarianceD'].rhs\n",
    "lh1 = mf['ZernikeCovarianceD'].lhs\n",
    "display(lh1)\n",
    "display(rh1)"
   ]
  },
  {
   "cell_type": "code",
   "execution_count": 10,
   "metadata": {},
   "outputs": [
    {
     "data": {
      "text/latex": [
       "$\\displaystyle \\frac{0.265730960724332 \\left(J_{0}\\left(20000 \\pi f \\rho\\right) - 6.12323399573677 \\cdot 10^{-17} J_{2}\\left(20000 \\pi f \\rho\\right)\\right) J^{2}_{2}\\left(8.0 \\pi f\\right)}{\\pi f \\left(f^{2} + 0.00206611570247934\\right)^{\\frac{11}{6}}}$"
      ],
      "text/plain": [
       "0.265730960724332*(besselj(0, 20000*pi*f*rho) - 6.12323399573677e-17*besselj(2, 20000*pi*f*rho))*besselj(2, 8.0*pi*f)**2/(pi*f*(f**2 + 0.00206611570247934)**(11/6))"
      ]
     },
     "metadata": {},
     "output_type": "display_data"
    },
    {
     "data": {
      "application/vnd.jupyter.widget-view+json": {
       "model_id": "081a0ac1ad894835935e98a3d4fcffc1",
       "version_major": 2,
       "version_minor": 0
      },
      "text/plain": [
       "Canvas(toolbar=Toolbar(toolitems=[('Home', 'Reset original view', 'home', 'home'), ('Back', 'Back to previous …"
      ]
     },
     "metadata": {},
     "output_type": "display_data"
    },
    {
     "data": {
      "text/latex": [
       "$\\displaystyle \\int\\limits_{0.001}^{10} \\frac{0.265730960724332 \\left(J_{0}\\left(20000 \\pi f \\rho\\right) - 6.12323399573677 \\cdot 10^{-17} J_{2}\\left(20000 \\pi f \\rho\\right)\\right) J^{2}_{2}\\left(8.0 \\pi f\\right)}{\\pi f \\left(f^{2} + 0.00206611570247934\\right)^{\\frac{11}{6}}}\\, df$"
      ],
      "text/plain": [
       "Integral(0.265730960724332*(besselj(0, 20000*pi*f*rho) - 6.12323399573677e-17*besselj(2, 20000*pi*f*rho))*besselj(2, 8.0*pi*f)**2/(pi*f*(f**2 + 0.00206611570247934)**(11/6)), (f, 0.001, 10))"
      ]
     },
     "metadata": {},
     "output_type": "display_data"
    }
   ],
   "source": [
    "# Noll indices: i,j = 2,3 : OK\n",
    "# L0 = 22.0 : OK\n",
    "# r_0 = calcolare da Cn2 (0.1) # OK\n",
    "# h = 10000 : OK \n",
    "# rho max: 120 asec (convertito in radianti)\n",
    "# theta= pi/4 : OK\n",
    "# f = [1e-3, 1] : OK\n",
    "paramsDict = {'theta': np.pi/4.0, 'L_0': 22.0, 'r_0': 0.1, 'R_1': TelescopeDiameter/2.0, 'R_2': TelescopeDiameter/2.0, 'h': DM_height }\n",
    "#, 'f_min': 1e-3, 'f_max': 1e3\n",
    "_integrationLimits = (sp.symbols('f', positive=True) , 1e-3, 10)\n",
    "\n",
    "_integrand1 = subsParamsByName(cov_expr_jk(rh1, 2, 2), paramsDict)\n",
    "display(_integrand1)\n",
    "\n",
    "mItCPU = Integrator('none', np, np.float64)\n",
    "# usando GPU ho un valore costante: debug: solved!\n",
    "mItGPU = Integrator('none', cp, cp.float64)\n",
    "mIt = mItGPU\n",
    "\n",
    "fig, ax = plt.subplots(figsize=(10,5))\n",
    "plt.xscale('linear')\n",
    "plt.yscale('linear')\n",
    "_integral1 = sp.Integral(_integrand1, _integrationLimits)\n",
    "display(_integral1)\n",
    "xplot1, zplot1 = mIt.IntegralEval(lh1, _integral1, [('rho',  0.00001, 120.0/ 206265.0, 13, 'linear')], [(1025, 'linear')], method='rect')\n",
    "xx, zz = cp.asnumpy(xplot1[0]), cp.asnumpy(zplot1)\n",
    "ax.plot(xx, zz )\n",
    "hdul = fits.open('data/ex_covar.fits')\n",
    "cv_plot = np.asarray(hdul[0].data, np.float64)\n",
    "ax.plot(xx, cv_plot)\n",
    "plt.show()\n",
    "\n",
    "#_lhs = sp.symbols('C_v', positive=True)\n",
    "#_rhs = _integrand1\n",
    "#_eq = sp.Eq(_lhs, _rhs)\n",
    "#myF = Formulary('local', ['ZernikeCoval'], [(_lhs, _rhs, _eq)])\n",
    "#myF.plotFormula('ZernikeCoval',\n",
    "#            {'rho': 60.0/ 206265.0},\n",
    "#            ['f'],\n",
    "#            [ np.asarray(np.geomspace(1e-3, 10, 1024*2), dtype=np.float64) ],\n",
    "#            [\"scipy\", pplib], False)"
   ]
  },
  {
   "cell_type": "code",
   "execution_count": null,
   "metadata": {},
   "outputs": [],
   "source": []
  },
  {
   "cell_type": "code",
   "execution_count": null,
   "metadata": {},
   "outputs": [],
   "source": []
  },
  {
   "cell_type": "code",
   "execution_count": null,
   "metadata": {},
   "outputs": [],
   "source": []
  },
  {
   "cell_type": "code",
   "execution_count": null,
   "metadata": {},
   "outputs": [],
   "source": []
  },
  {
   "cell_type": "code",
   "execution_count": null,
   "metadata": {},
   "outputs": [],
   "source": []
  }
 ],
 "metadata": {
  "kernelspec": {
   "display_name": "Python 3",
   "language": "python",
   "name": "python3"
  },
  "language_info": {
   "codemirror_mode": {
    "name": "ipython",
    "version": 3
   },
   "file_extension": ".py",
   "mimetype": "text/x-python",
   "name": "python",
   "nbconvert_exporter": "python",
   "pygments_lexer": "ipython3",
   "version": "3.6.10"
  }
 },
 "nbformat": 4,
 "nbformat_minor": 4
}
