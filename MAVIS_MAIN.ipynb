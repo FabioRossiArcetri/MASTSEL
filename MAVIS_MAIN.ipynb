{
 "cells": [
  {
   "cell_type": "code",
   "execution_count": 1,
   "metadata": {},
   "outputs": [],
   "source": [
    "from mavis import *\n",
    "# print(gpulib)\n",
    "mp.set_start_method('forkserver')\n",
    "#mp.set_start_method('spawn')"
   ]
  },
  {
   "cell_type": "code",
   "execution_count": 2,
   "metadata": {},
   "outputs": [],
   "source": [
    "xx, yy = np.linspace(-15,15,10), np.linspace(-15,15,10)\n",
    "cartPointingCoords =  np.dstack(np.meshgrid(xx, yy)).reshape(-1, 2)\n",
    "NGS_flux = [10000, 30000, 5000]\n",
    "NGS_SR_1650 = [0.4, 0.2, 0.6]\n",
    "NGS_FWHM_mas = [90, 110, 85]\n",
    "polarNGSCoords = np.asarray([[30.0,0.0], [50.0,100.0],[10.0,240.0]])\n",
    "#polarNGSCoords = np.asarray([[10.0,0.0], [10.0,120.0],[10.0,240.0]])\n",
    "cartNGSCoords = np.asarray([polarToCartesian(polarNGSCoords[0,:]), polarToCartesian(polarNGSCoords[1,:]), polarToCartesian(polarNGSCoords[2,:])])\n",
    "mLO = MavisLO(\"/home/frossi/dev/MASTSEL/\", 'mavisParams')"
   ]
  },
  {
   "cell_type": "code",
   "execution_count": 3,
   "metadata": {},
   "outputs": [
    {
     "name": "stdout",
     "output_type": "stream",
     "text": [
      "CPU times: user 3.12 s, sys: 824 ms, total: 3.94 s\n",
      "Wall time: 3.95 s\n"
     ]
    }
   ],
   "source": [
    "%%time\n",
    "Ctot = mLO.computeTotalResidualMatrix(cartPointingCoords, cartNGSCoords, NGS_flux, NGS_SR_1650, NGS_FWHM_mas, True)\n",
    "# print('Ctot', Ctot)\n",
    "#Ctot [[[18545.18136324  3308.78460439]\n",
    "#  [ 3308.78460439 20872.5522838 ]]\n",
    "# [[28.59791617 -3.8054102  35.15831592 -1.7180003  46.33356834 -0.51767148]\n",
    "#  [-3.8054102  38.74567669 -1.7180003  17.85779335 -0.51767148 46.82192702]]"
   ]
  },
  {
   "cell_type": "code",
   "execution_count": 4,
   "metadata": {},
   "outputs": [
    {
     "data": {
      "image/png": "[encoded data removed]",
      "text/plain": [
       "<Figure size 432x288 with 1 Axes>"
      ]
     },
     "metadata": {
      "needs_background": "light"
     },
     "output_type": "display_data"
    }
   ],
   "source": [
    "%matplotlib inline\n",
    "cov_ellipses = mLO.ellipsesFromCovMats(Ctot)\n",
    "plotEllipses(cartPointingCoords, cov_ellipses, 0.2)"
   ]
  },
  {
   "cell_type": "code",
   "execution_count": 5,
   "metadata": {},
   "outputs": [
    {
     "name": "stdout",
     "output_type": "stream",
     "text": [
      "Ctot [[[18545.1848659   3308.79937823]\n",
      "  [ 3308.79937823 20872.57842263]]]\n"
     ]
    }
   ],
   "source": [
    "#%%time\n",
    "cartNGSCoords = np.asarray([polarToCartesian(polarNGSCoords[0,:]), polarToCartesian(polarNGSCoords[1,:]), polarToCartesian(polarNGSCoords[2,:])])\n",
    "Ctot = computeTotalResidualMatrix(cartPointingCoords, cartNGSCoords, NGS_flux, NGS_SR_1650, NGS_FWHM_mas, True)\n",
    "print('Ctot', Ctot)\n",
    "Ctot = np.asarray(Ctot)\n",
    "cov_ellipses = ellipsesFromCovMats(Ctot)"
   ]
  },
  {
   "cell_type": "code",
   "execution_count": 6,
   "metadata": {},
   "outputs": [
    {
     "name": "stdout",
     "output_type": "stream",
     "text": [
      "0.5843981184677838\n",
      "102.73473572273393\n",
      "125.63026549812757\n"
     ]
    }
   ],
   "source": [
    "scale =1.0\n",
    "print(0.5 * np.arctan( 2*-2405.86006388 / ( 12145.83654855-14191.5529846 )))\n",
    "print(np.sqrt( 0.5 * ( 2*-2405.86006388 / np.sin(2*0.5843981184677838) + 12145.83654855+14191.5529846) ) / scale)\n",
    "print( np.sqrt(12145.83654855+14191.5529846-10554.42592401998)/scale )\n",
    "# manca conversione da nanometri a mas:\n"
   ]
  },
  {
   "cell_type": "code",
   "execution_count": 7,
   "metadata": {},
   "outputs": [
    {
     "name": "stdout",
     "output_type": "stream",
     "text": [
      "3.23 s ± 1.17 ms per loop (mean ± std. dev. of 7 runs, 1 loop each)\n"
     ]
    }
   ],
   "source": [
    "%%timeit\n",
    "Ctot = computeTotalResidualMatrix(cartPointingCoords, cartNGSCoords, NGS_flux, NGS_SR_1650, NGS_FWHM_mas)"
   ]
  },
  {
   "cell_type": "code",
   "execution_count": null,
   "metadata": {},
   "outputs": [],
   "source": []
  },
  {
   "cell_type": "code",
   "execution_count": null,
   "metadata": {},
   "outputs": [],
   "source": []
  },
  {
   "cell_type": "code",
   "execution_count": null,
   "metadata": {},
   "outputs": [],
   "source": []
  },
  {
   "cell_type": "code",
   "execution_count": null,
   "metadata": {},
   "outputs": [],
   "source": []
  },
  {
   "cell_type": "code",
   "execution_count": null,
   "metadata": {},
   "outputs": [],
   "source": []
  }
 ],
 "metadata": {
  "kernelspec": {
   "display_name": "Python 3",
   "language": "python",
   "name": "python3"
  },
  "language_info": {
   "codemirror_mode": {
    "name": "ipython",
    "version": 3
   },
   "file_extension": ".py",
   "mimetype": "text/x-python",
   "name": "python",
   "nbconvert_exporter": "python",
   "pygments_lexer": "ipython3",
   "version": "3.7.8"
  }
 },
 "nbformat": 4,
 "nbformat_minor": 4
}
