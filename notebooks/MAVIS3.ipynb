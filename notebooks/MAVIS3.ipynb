{
 "cells": [
  {
   "cell_type": "code",
   "execution_count": 1,
   "metadata": {},
   "outputs": [
    {
     "name": "stdout",
     "output_type": "stream",
     "text": [
      "[13] 2082.41162109375\n",
      "[10] 1351.4102783203125\n",
      "[[2369.9699707     0.            0.            0.            0.\n",
      "     0.        ]\n",
      " [   0.         1538.56994629    0.            0.            0.\n",
      "     0.        ]\n",
      " [   0.            0.         2082.40991211    0.            0.\n",
      "     0.        ]\n",
      " [   0.            0.            0.         1351.41003418    0.\n",
      "     0.        ]\n",
      " [   0.            0.            0.            0.         2916.64990234\n",
      "     0.        ]\n",
      " [   0.            0.            0.            0.            0.\n",
      "  1906.07995605]]\n",
      "[98] [0] 71.33271789550781\n",
      "[98] [0] 60.46025848388672\n"
     ]
    }
   ],
   "source": [
    "from mavis import *\n",
    "\n",
    "hdul = fits.open('data/psd_turb.fits')\n",
    "psd_turb_data = np.asarray(hdul[0].data, np.float64)\n",
    "hdul = fits.open('data/res_noise_ngs.fits')\n",
    "res_noise_ngs_data = np.asarray(hdul[0].data, np.float64)\n",
    "res_noise_ngs_tip = res_noise_ngs_data[0]\n",
    "res_noise_ngs_tilt = res_noise_ngs_data[1]\n",
    "minTipIdx = np.where(res_noise_ngs_tip == np.amin(res_noise_ngs_tip))\n",
    "minTiltIdx = np.where(res_noise_ngs_tilt == np.amin(res_noise_ngs_tilt))\n",
    "print(minTipIdx[0], res_noise_ngs_tip[minTipIdx[0][0]])\n",
    "print(minTiltIdx[0], res_noise_ngs_tilt[minTiltIdx[0][0]])\n",
    "hdul = fits.open('data/Cn.fits')\n",
    "Cnn_data = np.asarray(hdul[0].data, np.float64)\n",
    "print(Cnn_data)\n",
    "hdul = fits.open('data/minim_wind_noise12071nm2_psdmavis.fits')\n",
    "windNoise = np.asarray(hdul[0].data, np.float64)\n",
    "minTipIdx = np.where(windNoise[0] == np.amin(windNoise[0]))\n",
    "minTiltIdx = np.where(windNoise[1] == np.amin(windNoise[1]))\n",
    "print(minTipIdx[0], minTipIdx[1], windNoise[0][minTipIdx[0][0], minTipIdx[1][0]])\n",
    "print(minTiltIdx[0], minTiltIdx[1], windNoise[1][minTiltIdx[0][0], minTiltIdx[1][0]])"
   ]
  },
  {
   "cell_type": "code",
   "execution_count": 2,
   "metadata": {},
   "outputs": [
    {
     "name": "stdout",
     "output_type": "stream",
     "text": [
      "(array(2108.85526983), array(1361.73987558))\n",
      "(array(71.89646223), array(61.02400116))\n"
     ]
    }
   ],
   "source": [
    "# phi_noise e' una costante pari a sigma^2 cog # / Df \n",
    "hdul = fits.open('data/windpsd_mavis.fits')\n",
    "psd_data = np.asarray(hdul[0].data, np.float64)\n",
    "psd_freq = np.asarray(np.linspace(0.5, 250.0, 500))\n",
    "psd_tip_wind = np.zeros((500))\n",
    "psd_tilt_wind = np.zeros((500))\n",
    "psd_tip_wind[0:200] = psd_data[1,:]\n",
    "psd_tilt_wind[0:200] = psd_data[2,:]\n",
    "var1x = 0.05993281522281573 * pixel_scale**2\n",
    "bias = 0.4300779971881394\n",
    "print(computeNoiseResidual(0.25, 250.0, 1000, var1x, bias, gpulib ))\n",
    "# queste due varianze vanno in diagonale di Cn (insieme a quelle delle altre 2 stelle, da calcolare)\n",
    "# cabia il flusso, strhel fwhw, calcolo di bias diversi e ripetizione di questo calcolo\n",
    "print(computeWindResidual(psd_freq, psd_tip_wind, psd_tilt_wind, var1x, bias, gpulib ))\n",
    "# queste due varianze vanno in diagonale di C1\n",
    "# questo conto e' fatto una volta sola , sulla stella piu' brillante"
   ]
  },
  {
   "cell_type": "code",
   "execution_count": 3,
   "metadata": {},
   "outputs": [
    {
     "name": "stdout",
     "output_type": "stream",
     "text": [
      "303 ms ± 1.04 ms per loop (mean ± std. dev. of 7 runs, 1 loop each)\n"
     ]
    }
   ],
   "source": [
    "%%timeit\n",
    "computeNoiseResidual(0.25, 250.0, 1000, var1x, bias, cpulib )"
   ]
  },
  {
   "cell_type": "code",
   "execution_count": 4,
   "metadata": {},
   "outputs": [
    {
     "name": "stdout",
     "output_type": "stream",
     "text": [
      "174 ms ± 149 µs per loop (mean ± std. dev. of 7 runs, 10 loops each)\n"
     ]
    }
   ],
   "source": [
    "%%timeit\n",
    "computeNoiseResidual(0.25, 250.0, 1000, var1x, bias, gpulib )"
   ]
  },
  {
   "cell_type": "code",
   "execution_count": 5,
   "metadata": {},
   "outputs": [
    {
     "name": "stdout",
     "output_type": "stream",
     "text": [
      "8.28 s ± 33.7 ms per loop (mean ± std. dev. of 7 runs, 1 loop each)\n"
     ]
    }
   ],
   "source": [
    "%%timeit\n",
    "computeWindResidual(psd_freq, psd_tip_wind, psd_tilt_wind, var1x, bias, cpulib )"
   ]
  },
  {
   "cell_type": "code",
   "execution_count": 6,
   "metadata": {},
   "outputs": [
    {
     "name": "stdout",
     "output_type": "stream",
     "text": [
      "182 ms ± 2.83 ms per loop (mean ± std. dev. of 7 runs, 1 loop each)\n"
     ]
    }
   ],
   "source": [
    "%%timeit\n",
    "computeWindResidual(psd_freq, psd_tip_wind, psd_tilt_wind, var1x, bias, gpulib )"
   ]
  },
  {
   "cell_type": "code",
   "execution_count": null,
   "metadata": {},
   "outputs": [],
   "source": []
  },
  {
   "cell_type": "code",
   "execution_count": null,
   "metadata": {},
   "outputs": [],
   "source": []
  }
 ],
 "metadata": {
  "kernelspec": {
   "display_name": "Python 3",
   "language": "python",
   "name": "python3"
  },
  "language_info": {
   "codemirror_mode": {
    "name": "ipython",
    "version": 3
   },
   "file_extension": ".py",
   "mimetype": "text/x-python",
   "name": "python",
   "nbconvert_exporter": "python",
   "pygments_lexer": "ipython3",
   "version": "3.6.10"
  }
 },
 "nbformat": 4,
 "nbformat_minor": 4
}
