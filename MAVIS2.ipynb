{
 "cells": [
  {
   "cell_type": "code",
   "execution_count": 1,
   "metadata": {},
   "outputs": [],
   "source": [
    "from mavis import *\n",
    "mItCPU = Integrator(np, np.float64, '')\n",
    "mItGPU = Integrator(cp, cp.float64, '')"
   ]
  },
  {
   "cell_type": "code",
   "execution_count": 2,
   "metadata": {},
   "outputs": [
    {
     "ename": "NameError",
     "evalue": "name 'computeBias' is not defined",
     "output_type": "error",
     "traceback": [
      "\u001b[0;31m---------------------------------------------------------------------------\u001b[0m",
      "\u001b[0;31mNameError\u001b[0m                                 Traceback (most recent call last)",
      "\u001b[0;32m<ipython-input-2-03d5fc725ec2>\u001b[0m in \u001b[0;36m<module>\u001b[0;34m\u001b[0m\n\u001b[1;32m      2\u001b[0m \u001b[0mNGS_SR_1650\u001b[0m \u001b[0;34m=\u001b[0m \u001b[0;34m[\u001b[0m\u001b[0;36m0.4\u001b[0m\u001b[0;34m,\u001b[0m \u001b[0;36m0.2\u001b[0m\u001b[0;34m,\u001b[0m \u001b[0;36m0.6\u001b[0m\u001b[0;34m]\u001b[0m\u001b[0;34m\u001b[0m\u001b[0;34m\u001b[0m\u001b[0m\n\u001b[1;32m      3\u001b[0m \u001b[0mNGS_FWHM_mas\u001b[0m \u001b[0;34m=\u001b[0m \u001b[0;34m[\u001b[0m\u001b[0;36m90\u001b[0m\u001b[0;34m,\u001b[0m \u001b[0;36m110\u001b[0m\u001b[0;34m,\u001b[0m \u001b[0;36m85\u001b[0m\u001b[0;34m]\u001b[0m\u001b[0;34m\u001b[0m\u001b[0;34m\u001b[0m\u001b[0m\n\u001b[0;32m----> 4\u001b[0;31m \u001b[0mprint\u001b[0m\u001b[0;34m(\u001b[0m\u001b[0mcomputeBias\u001b[0m\u001b[0;34m(\u001b[0m\u001b[0mNGS_flux\u001b[0m\u001b[0;34m[\u001b[0m\u001b[0;36m0\u001b[0m\u001b[0;34m]\u001b[0m\u001b[0;34m,\u001b[0m \u001b[0mNGS_SR_1650\u001b[0m\u001b[0;34m[\u001b[0m\u001b[0;36m0\u001b[0m\u001b[0;34m]\u001b[0m\u001b[0;34m,\u001b[0m \u001b[0mNGS_FWHM_mas\u001b[0m\u001b[0;34m[\u001b[0m\u001b[0;36m0\u001b[0m\u001b[0;34m]\u001b[0m\u001b[0;34m,\u001b[0m \u001b[0mmItGPU\u001b[0m\u001b[0;34m)\u001b[0m\u001b[0;34m)\u001b[0m\u001b[0;34m\u001b[0m\u001b[0;34m\u001b[0m\u001b[0m\n\u001b[0m\u001b[1;32m      5\u001b[0m \u001b[0mprint\u001b[0m\u001b[0;34m(\u001b[0m\u001b[0mcomputeBias\u001b[0m\u001b[0;34m(\u001b[0m\u001b[0mNGS_flux\u001b[0m\u001b[0;34m[\u001b[0m\u001b[0;36m1\u001b[0m\u001b[0;34m]\u001b[0m\u001b[0;34m,\u001b[0m \u001b[0mNGS_SR_1650\u001b[0m\u001b[0;34m[\u001b[0m\u001b[0;36m1\u001b[0m\u001b[0;34m]\u001b[0m\u001b[0;34m,\u001b[0m \u001b[0mNGS_FWHM_mas\u001b[0m\u001b[0;34m[\u001b[0m\u001b[0;36m1\u001b[0m\u001b[0;34m]\u001b[0m\u001b[0;34m,\u001b[0m \u001b[0mmItGPU\u001b[0m\u001b[0;34m)\u001b[0m\u001b[0;34m)\u001b[0m\u001b[0;34m\u001b[0m\u001b[0;34m\u001b[0m\u001b[0m\n\u001b[1;32m      6\u001b[0m \u001b[0mprint\u001b[0m\u001b[0;34m(\u001b[0m\u001b[0mcomputeBias\u001b[0m\u001b[0;34m(\u001b[0m\u001b[0mNGS_flux\u001b[0m\u001b[0;34m[\u001b[0m\u001b[0;36m2\u001b[0m\u001b[0;34m]\u001b[0m\u001b[0;34m,\u001b[0m \u001b[0mNGS_SR_1650\u001b[0m\u001b[0;34m[\u001b[0m\u001b[0;36m2\u001b[0m\u001b[0;34m]\u001b[0m\u001b[0;34m,\u001b[0m \u001b[0mNGS_FWHM_mas\u001b[0m\u001b[0;34m[\u001b[0m\u001b[0;36m2\u001b[0m\u001b[0;34m]\u001b[0m\u001b[0;34m,\u001b[0m \u001b[0mmItGPU\u001b[0m\u001b[0;34m)\u001b[0m\u001b[0;34m)\u001b[0m\u001b[0;34m\u001b[0m\u001b[0;34m\u001b[0m\u001b[0m\n",
      "\u001b[0;31mNameError\u001b[0m: name 'computeBias' is not defined"
     ]
    }
   ],
   "source": [
    "NGS_flux = [10000, 30000, 5000]\n",
    "NGS_SR_1650 = [0.4, 0.2, 0.6]\n",
    "NGS_FWHM_mas = [90, 110, 85]\n",
    "print(computeBias(NGS_flux[0], NGS_SR_1650[0], NGS_FWHM_mas[0], mItGPU))\n",
    "print(computeBias(NGS_flux[1], NGS_SR_1650[1], NGS_FWHM_mas[1], mItGPU))\n",
    "print(computeBias(NGS_flux[2], NGS_SR_1650[2], NGS_FWHM_mas[2], mItGPU))\n",
    "# si usa nel C1 e C3"
   ]
  },
  {
   "cell_type": "code",
   "execution_count": null,
   "metadata": {},
   "outputs": [],
   "source": [
    "#hdul = fits.open('data/example_gaussian_psf.fits')\n",
    "hdul = fits.open('data/mu_kthr.fits')\n",
    "psf_data1 = np.asarray(hdul[0].data, np.float64)\n",
    "print(psf_data1.shape)\n",
    "hdul = fits.open('data/example_gaussian_psf.fits')\n",
    "psf_data = np.asarray(hdul[0].data, np.float64)\n",
    "print(psf_data.shape)"
   ]
  },
  {
   "cell_type": "code",
   "execution_count": 4,
   "metadata": {},
   "outputs": [
    {
     "name": "stdout",
     "output_type": "stream",
     "text": [
      "5.0469\n",
      "5.8612\n"
     ]
    }
   ],
   "source": [
    "rh1 = mf['TruncatedMeanBasic'].rhs\n",
    "dd = {'i_max':30 , 'b':1.0, 't':0.5, 'nu':2.0, 'sigma_RON':sigmaRON, 'f_k': 5.0}\n",
    "sexpr1 = subsParamsByName( rh1, dd )\n",
    "mu_k_value = sexpr1.doit().evalf(5)\n",
    "print(mu_k_value)\n",
    "\n",
    "rh1 = mf['TruncatedVarianceBasic'].rhs\n",
    "dd = {'i_max':30 , 'b':1.0, 't':0.5, 'nu':2.0, 'sigma_RON':sigmaRON, 'f_k': 5.0, \"mu_k_thr\":mu_k_value}\n",
    "sexpr1 = subsParamsByName( rh1, dd )\n",
    "sigma_k_value = sexpr1.doit().evalf(5)\n",
    "print(sigma_k_value)"
   ]
  },
  {
   "cell_type": "code",
   "execution_count": 5,
   "metadata": {},
   "outputs": [
    {
     "data": {
      "image/png": "[encoded data removed]",
      "text/plain": [
       "<Figure size 720x360 with 1 Axes>"
      ]
     },
     "metadata": {
      "needs_background": "light"
     },
     "output_type": "display_data"
    }
   ],
   "source": [
    "gridSize = 10\n",
    "gridSpanArcsec = 10.0\n",
    "gridSpanRad=gridSpanArcsec/radiansToArcsecs\n",
    "xVarPixels = yVarPixels = 2.0\n",
    "pixelSize = gridSpanRad/(gridSize-1)\n",
    "imax = 32\n",
    "zmin = 0.0001\n",
    "zmax = 32.0\n",
    "integrationPoints = 1024\n",
    "\n",
    "mIt = Integrator(cp, cp.float64, '')\n",
    "\n",
    "def sampleCompute(aFunction, expr0, xx):\n",
    "    nn = xx.size\n",
    "    aIntegral = sp.Integral(aFunction, (getSymbolByName(aFunction, 'z'), zmin, zmax), (getSymbolByName(aFunction, 'i'), 1.0, int(imax)) )\n",
    "    paramAndRange = ( 'f_k', 1.0, 10.0, nn, 'linear' )\n",
    "    lh = sp.Function('B')(getSymbolByName(aIntegral, 'f_k'))\n",
    "    xplot1, zplot1 = mIt.IntegralEval(lh, aIntegral, [paramAndRange], [ (integrationPoints, 'linear'), (imax, 'linear')], 'raw')\n",
    "    xplot1, zplot1 = cp.asnumpy(xplot1), cp.asnumpy(zplot1)\n",
    "    ss, s0 = evaluateFormula(expr0, {}, ['f_k'], [xx] )\n",
    "    zplot1 = zplot1 + cp.asnumpy(s0)\n",
    "    return xplot1, zplot1\n",
    "\n",
    "xplot1, mu_ktr_array = sampleCompute(aFunctionM, expr0M, cp.asarray(cp.linspace(1.0, 10, gridSize), dtype=cp.float64))\n",
    "xplot2, var_ktr_array = sampleCompute(aFunctionV, expr0V, cp.asarray(cp.linspace(1.0, 10, gridSize), dtype=cp.float64))\n",
    "var_ktr_array = var_ktr_array - mu_ktr_array**2\n",
    "sigma_ktr_array = np.sqrt(var_ktr_array.astype(cp.float64))\n",
    "fig, ax = plt.subplots(figsize=(10,5))\n",
    "plt.plot(xplot1[0], mu_ktr_array)\n",
    "plt.plot(xplot2[0], sigma_ktr_array)\n",
    "plt.show()"
   ]
  },
  {
   "cell_type": "code",
   "execution_count": 6,
   "metadata": {},
   "outputs": [],
   "source": [
    "def simple2DgaussianS():\n",
    "    x_a, y_a = sp.symbols('x_a y_a', real=True)\n",
    "    x_aM, y_aM = sp.symbols('x_aM y_aM', real=True)\n",
    "    sigma_xa, sigma_ya = sp.symbols('sigma_xa sigma_ya', real=True)\n",
    "    return sp.exp(-((x_a-x_aM)**2)/(2*sigma_xa**2)-((y_a-y_aM)**2)/(2*sigma_ya**2) )\n",
    "\n",
    "def sampleCompute2D(expr0, exprK, integral, inGaussian):\n",
    "    dd0 = {'t':ThresholdWCoG, 'nu':NewValueThrPix, 'sigma_RON':sigmaRON}\n",
    "    dd1 = {'b':Dark/SensorFrameRate_LO}\n",
    "    dd2 = {'F':ExcessNoiseFactor}\n",
    "    dd3 = {'f_k':inGaussian}\n",
    "    expr0 = subsParamsByName( expr0, {**dd0, **dd1, **dd3} )\n",
    "    exprK = subsParamsByName( exprK, {**dd1, **dd3} )\n",
    "    integral = subsParamsByName( integral,  {**dd0, **dd1, **dd2} )\n",
    "    aFunction = exprK * integral.function\n",
    "    aIntegral = sp.Integral(aFunction, (getSymbolByName(aFunction, 'z'), zmin, zmax), (getSymbolByName(aFunction, 'i'), 1.0, float(imax)) )\n",
    "    display(aIntegral)\n",
    "    paramsAndRanges = [( 'x_a', -gridSize/2.0+0.5, gridSize/2.0-0.5, gridSize, 'linear' ), ( 'y_a', -gridSize/2.0+0.5, gridSize/2.0-0.5, gridSize, 'linear' )]\n",
    "    lh = sp.Function('B')(getSymbolByName(inGaussian, 'x_a'), getSymbolByName(inGaussian, 'y_a'))\n",
    "    xplot1, zplot1 = mIt.IntegralEval(lh, aIntegral, paramsAndRanges, [ (integrationPoints, 'linear'), (imax, 'linear')], 'rect')\n",
    "    xCoords=np.asarray(np.linspace(-gridSize/2.0+0.5, gridSize/2.0-0.5, gridSize), dtype=np.float64)\n",
    "    yCoords=np.asarray(np.linspace(-gridSize/2.0+0.5, gridSize/2.0-0.5, gridSize), dtype=np.float64)\n",
    "    ssx, ssy, s0 = evaluateFormula(expr0, {}, ['x_a', 'y_a'], [xCoords, yCoords] )\n",
    "    zplot1 = zplot1*imax/max(imax-1,1) + s0\n",
    "    return xplot1, zplot1\n",
    "\n",
    "# fare il intRebin qui\n",
    "#mu_ktr_array = congrid(mu_ktr_array, (50, 50)) * downsample_factor**2\n",
    "#var_ktr_array = congrid(var_ktr_array, (50, 50))* downsample_factor**2\n",
    "#sigma_ktr_array = congrid(sigma_ktr_array, (50, 50))* downsample_factor**2\n",
    "#mu_ktr_prime_array = congrid(mu_ktr_prime_array, (50, 50))* downsample_factor**2\n",
    "#var_ktr_prime_array = congrid(var_ktr_prime_array, (50, 50))* downsample_factor**2\n",
    "#sigma_ktr_prime_array = congrid(sigma_ktr_prime_array, (50, 50))* downsample_factor**2\n"
   ]
  },
  {
   "cell_type": "code",
   "execution_count": 7,
   "metadata": {},
   "outputs": [
    {
     "name": "stdout",
     "output_type": "stream",
     "text": [
      "0.0592112421076572\n",
      "1 0.413667980611016\n",
      "2 0.791585962088383\n",
      "3 0.993781741086813\n",
      "4 1.06558704757702\n",
      "5 1.08467339756356\n",
      "6 1.08872789461946\n",
      "7 1.08944522271317\n",
      "8 1.08955396407066\n",
      "9 1.08956838439812\n",
      "10 1.08957008393211\n",
      "11 1.08957026418157\n",
      "12 1.08957028155900\n",
      "13 1.08957028309460\n",
      "14 1.08957028321985\n",
      "15 1.08957028322934\n",
      "16 1.08957028323001\n",
      "17 1.08957028323005\n",
      "18 1.08957028323005\n",
      "19 1.08957028323005\n",
      "20 1.08957028323005\n"
     ]
    }
   ],
   "source": [
    "expr0 = mf['truncatedMeanComponents0']\n",
    "exprK = mf['truncatedMeanComponents1']\n",
    "integral = mf['truncatedMeanComponents2']\n",
    "\n",
    "dd0 = {'t':ThresholdWCoG, 'nu':NewValueThrPix, 'sigma_RON':sigmaRON}\n",
    "dd1 = {'b':Dark/SensorFrameRate_LO}\n",
    "dd2 = {'F':ExcessNoiseFactor}\n",
    "expr0 = subsParamsByName( expr0, {**dd0, **dd1} )\n",
    "exprK = subsParamsByName( exprK, dd1 )\n",
    "integral = subsParamsByName( integral,  {**dd0, **dd1, **dd2} )\n",
    "expr0 = subsParamsByName( expr0, {'f_k':1.0} )\n",
    "exprK = subsParamsByName( exprK, {'f_k':1.0} )\n",
    "\n",
    "s0 = expr0.evalf()\n",
    "print(s0)\n",
    "\n",
    "for ivalue in range(1,20+1,1):\n",
    "    exprKi = subsParamsByName(exprK, {'i':ivalue})\n",
    "    integralI = subsParamsByName(integral, {'i':ivalue, 'z_max':30.0})\n",
    "    s1 = exprKi.evalf(10) * integralI.evalf(10)\n",
    "    s0 += s1\n",
    "    print(ivalue, s0)"
   ]
  },
  {
   "cell_type": "code",
   "execution_count": 8,
   "metadata": {},
   "outputs": [
    {
     "data": {
      "text/latex": [
       "$\\displaystyle \\phi{\\left(x \\right)} = \\frac{e^{\\frac{\\left(-1\\right) x^{2}}{2}}}{\\sqrt{2 \\pi}}$"
      ],
      "text/plain": [
       "Eq(phi(x), exp((-x**2)/2)/sqrt(2*pi))"
      ]
     },
     "metadata": {},
     "output_type": "display_data"
    },
    {
     "data": {
      "text/latex": [
       "$\\displaystyle \\Phi{\\left(x \\right)} = \\frac{\\operatorname{erf}{\\left(\\frac{x}{\\sqrt{2}} \\right)} + 1}{2}$"
      ],
      "text/plain": [
       "Eq(Phi(x), (erf(x/sqrt(2)) + 1)/2)"
      ]
     },
     "metadata": {},
     "output_type": "display_data"
    },
    {
     "data": {
      "text/latex": [
       "$\\displaystyle K{\\left(i \\right)} = \\frac{\\left(b + f_{k}\\right)^{i} e^{- b - f_{k}}}{i!}$"
      ],
      "text/plain": [
       "Eq(K(i), ((b + f_k)**i*exp(-b - f_k))/factorial(i))"
      ]
     },
     "metadata": {},
     "output_type": "display_data"
    },
    {
     "data": {
      "text/latex": [
       "$\\displaystyle \\mu_{k,thr} = \\sum_{i=0}^{\\infty} \\left(\\nu \\Phi{\\left(\\frac{b - i + t}{\\sigma_{RON}} \\right)} + \\sigma_{RON} \\phi{\\left(\\frac{b - i + t}{\\sigma_{RON}} \\right)} + \\left(- b + i\\right) \\Phi{\\left(\\frac{- b + i - t}{\\sigma_{RON}} \\right)}\\right) K{\\left(i \\right)}$"
      ],
      "text/plain": [
       "Eq(mu_k,thr, Sum((nu*Phi((b - i + t)/sigma_RON) + sigma_RON*phi((b - i + t)/sigma_RON) + (-b + i)*Phi((-b + i - t)/sigma_RON))*K(i), (i, 0, oo)))"
      ]
     },
     "metadata": {},
     "output_type": "display_data"
    },
    {
     "data": {
      "text/latex": [
       "$\\displaystyle \\sigma^{2}_{k,thr} = - \\mu_{k,thr}^{2} + \\sum_{i=0}^{\\infty} \\left(\\nu^{2} \\Phi{\\left(\\frac{b - i + t}{\\sigma_{RON}} \\right)} + \\sigma_{RON} \\left(- b + i + t\\right) \\phi{\\left(\\frac{b - i + t}{\\sigma_{RON}} \\right)} + \\left(\\sigma_{RON}^{2} + \\left(- b + i\\right)^{2}\\right) \\Phi{\\left(\\frac{- b + i - t}{\\sigma_{RON}} \\right)}\\right) K{\\left(i \\right)}$"
      ],
      "text/plain": [
       "Eq(sigma^2_k,thr, -mu_k,thr**2 + Sum((nu**2*Phi((b - i + t)/sigma_RON) + sigma_RON*(-b + i + t)*phi((b - i + t)/sigma_RON) + (sigma_RON**2 + (-b + i)**2)*Phi((-b + i - t)/sigma_RON))*K(i), (i, 0, oo)))"
      ]
     },
     "metadata": {},
     "output_type": "display_data"
    },
    {
     "data": {
      "text/latex": [
       "$\\displaystyle G{\\left(z,i \\right)} = \\frac{z^{\\frac{i}{F - 1} - 1} \\left(F - 1\\right)^{- \\frac{i}{F - 1}} e^{- \\frac{z}{F - 1}}}{\\Gamma\\left(\\frac{i}{F - 1}\\right)}$"
      ],
      "text/plain": [
       "Eq(G(z, i), z**(i/(F - 1) - 1)*(F - 1)**(-i/(F - 1))*exp(-z/(F - 1))/gamma(i/(F - 1)))"
      ]
     },
     "metadata": {},
     "output_type": "display_data"
    },
    {
     "data": {
      "text/latex": [
       "$\\displaystyle \\mu_{k,thr} = \\left(- b \\Phi{\\left(\\frac{- b - t}{\\sigma_{RON}} \\right)} + \\nu \\Phi{\\left(\\frac{b + t}{\\sigma_{RON}} \\right)} + \\sigma_{RON} \\phi{\\left(\\frac{b + t}{\\sigma_{RON}} \\right)}\\right) e^{- b - f_{k}} + \\sum_{i=1}^{\\infty} K{\\left(i \\right)} \\int\\limits_{0}^{\\infty} \\left(\\nu \\Phi{\\left(\\frac{b + t - z}{\\sigma_{RON}} \\right)} + \\sigma_{RON} \\phi{\\left(\\frac{b + t - z}{\\sigma_{RON}} \\right)} + \\left(- b + z\\right) \\Phi{\\left(\\frac{- b - t + z}{\\sigma_{RON}} \\right)}\\right) G{\\left(z,i \\right)}\\, dz$"
      ],
      "text/plain": [
       "Eq(mu_k,thr, (-b*Phi((-b - t)/sigma_RON) + nu*Phi((b + t)/sigma_RON) + sigma_RON*phi((b + t)/sigma_RON))*exp(-b - f_k) + Sum(K(i)*Integral((nu*Phi((b + t - z)/sigma_RON) + sigma_RON*phi((b + t - z)/sigma_RON) + (-b + z)*Phi((-b - t + z)/sigma_RON))*G(z, i), (z, 0, oo)), (i, 1, oo)))"
      ]
     },
     "metadata": {},
     "output_type": "display_data"
    },
    {
     "data": {
      "text/latex": [
       "$\\displaystyle \\sigma^{2}_{k,thr} = - \\mu_{k,thr}^{2} + \\left(\\nu^{2} \\Phi{\\left(\\frac{b + t}{\\sigma_{RON}} \\right)} + \\sigma_{RON} \\left(- b + t\\right) \\phi{\\left(\\frac{b + t}{\\sigma_{RON}} \\right)} + \\left(b^{2} + \\sigma_{RON}^{2}\\right) \\Phi{\\left(\\frac{- b - t}{\\sigma_{RON}} \\right)}\\right) e^{- b - f_{k}} + \\sum_{i=1}^{\\infty} K{\\left(i \\right)} \\int\\limits_{0}^{\\infty} \\left(\\nu^{2} \\Phi{\\left(\\frac{b + t - z}{\\sigma_{RON}} \\right)} + \\sigma_{RON} \\left(- b + t + z\\right) \\phi{\\left(\\frac{b + t - z}{\\sigma_{RON}} \\right)} + \\left(\\sigma_{RON}^{2} + \\left(- b + z\\right)^{2}\\right) \\Phi{\\left(\\frac{- b - t + z}{\\sigma_{RON}} \\right)}\\right) G{\\left(z,i \\right)}\\, dz$"
      ],
      "text/plain": [
       "Eq(sigma^2_k,thr, -mu_k,thr**2 + (nu**2*Phi((b + t)/sigma_RON) + sigma_RON*(-b + t)*phi((b + t)/sigma_RON) + (b**2 + sigma_RON**2)*Phi((-b - t)/sigma_RON))*exp(-b - f_k) + Sum(K(i)*Integral((nu**2*Phi((b + t - z)/sigma_RON) + sigma_RON*(-b + t + z)*phi((b + t - z)/sigma_RON) + (sigma_RON**2 + (-b + z)**2)*Phi((-b - t + z)/sigma_RON))*G(z, i), (z, 0, oo)), (i, 1, oo)))"
      ]
     },
     "metadata": {},
     "output_type": "display_data"
    }
   ],
   "source": [
    "var_k = sp.symbols('sigma^2_k\\,thr')\n",
    "mu_k = sp.symbols('mu_k\\,thr')\n",
    "\n",
    "x = sp.symbols('x', real=True)\n",
    "i = sp.symbols('i', integer=True, positive=True)\n",
    "# 8. Fattore di excess noise (dato) (F) : 1.0 (formule semplificate , per F>1 formule complete)\n",
    "F = sp.symbols('F', real=True)\n",
    "# f_k = I_k + back, vedi appedice D : back: 0.0\n",
    "f_k = sp.symbols('f_k', real=True)\n",
    "# 7. Dark Current (uguale per ogni pixel, dato) (b) : 0.0\n",
    "b = sp.symbols('b', real=True)\n",
    "# 9. fattore Threshold (dato) (t) : 0.0\n",
    "t = sp.symbols('t', real=True)\n",
    "# 10. valore associato al sotto threshold (dato) (nu) : 0.0\n",
    "nu = sp.symbols('nu', real=True)\n",
    "# 5. RON per pixel (uguale per ogni pixel, dato) (sigma_RON) : 0.5, var: 0.25\n",
    "sigma_ron = sp.symbols('sigma_RON', real=True)\n",
    "\n",
    "phi = sp.Function('phi')(x)\n",
    "Phi = sp.Function('Phi')(x)\n",
    "K_i = sp.Function('K')(i)\n",
    "\n",
    "with sp.evaluate(False):\n",
    "    expr_phi = (sp.S(1)/sp.sqrt(sp.S(2)*sp.pi)) * sp.exp( - x**2 / 2) \n",
    "    expr_Phi = (sp.S(1)/sp.S(2)) * (1+sp.erf(x/sp.sqrt(sp.S(2)))) \n",
    "    expr_K_i = sp.exp(-(f_k+b)) * (f_k+b) ** i / sp.factorial(i)\n",
    "\n",
    "# Visualization of the formulas \n",
    "display( sp.Eq( phi, expr_phi ) )\n",
    "display( sp.Eq( Phi, expr_Phi ) )\n",
    "display( sp.Eq( K_i, expr_K_i ) )\n",
    "f1 = phi.subs({x: (t-(i-b))/sigma_ron})\n",
    "f2 = Phi.subs({x: (i-b-t)/sigma_ron})\n",
    "f3 = Phi.subs({x: (t-(i-b))/sigma_ron})\n",
    "fK = K_i\n",
    "i_max = sp.oo\n",
    "sexpr1 = sp.Sum(fK * ( sigma_ron * f1  + (i-b) * f2 + nu * f3 ) , (i, 0, i_max))\n",
    "sexpr2 = sp.Sum(fK * ( sigma_ron * (t+i-b) * f1 + (sigma_ron**2 + (i-b)**2) * f2 + nu**2 * f3 ) , (i, 0, i_max)) - mu_k**2\n",
    "display(sp.Eq(mu_k,sexpr1))\n",
    "display(sp.Eq(var_k,sexpr2))\n",
    "\n",
    "z = sp.symbols('z', real=True, positive=True)\n",
    "G = sp.Function('G')(z, i)\n",
    "\n",
    "expr_G = z ** (i/(F-1) -1 )  * sp.exp(-z/(F-1)) / ( (F-1)**(i/(F-1)) *  sp.gamma(i/(F-1)) )\n",
    "display( sp.Eq( G, expr_G ) )\n",
    "\n",
    "f1 = phi.subs({x: (t+b)/sigma_ron})\n",
    "f2 = Phi.subs({x: -(t+b)/sigma_ron})\n",
    "f3 = Phi.subs({x: (t+b)/sigma_ron})\n",
    "f4 = phi.subs({x: (t-(z-b))/sigma_ron})\n",
    "f5 = Phi.subs({x: (z-b-t)/sigma_ron})\n",
    "f6 = Phi.subs({x: (t-(z-b))/sigma_ron})\n",
    "GG = G\n",
    "fK = K_i\n",
    "i_max = sp.oo\n",
    "expr10 = sigma_ron * f1  - b * f2 + nu * f3\n",
    "integrand_1 = GG * ( sigma_ron * f4 + (z-b) * f5 + nu * f6 )\n",
    "expr1 =  sp.exp(-(f_k+b)) * expr10 + sp.Sum(fK * sp.Integral( integrand_1, (z, 0, sp.oo)) , (i, 1, i_max))\n",
    "expr20 = sigma_ron * (t-b) * f1 + (sigma_ron**2 + b**2) * f2 + nu**2 * f3\n",
    "integrand_2 = GG * (sigma_ron * (t+z-b) * f4 + (sigma_ron**2 + (z-b)**2) * f5 + nu**2 * f6)\n",
    "expr2 = sp.exp(-(f_k+b)) * expr20 + sp.Sum(fK * sp.Integral( integrand_2, (z, 0, sp.oo)) , (i, 1, i_max)) - mu_k**2\n",
    "display(sp.Eq(mu_k,expr1))\n",
    "display(sp.Eq(var_k,expr2))\n"
   ]
  },
  {
   "cell_type": "code",
   "execution_count": 9,
   "metadata": {},
   "outputs": [],
   "source": [
    "# Inputs: \n",
    "# 1. vettore di posizioni (x,y) dei pixel x_k\n",
    "# 2. vettore di pesi scalari dei pixel w_k (per ora solo 0 oppure 1...)\n",
    "# 3. vettore di flussi I_k su ogni pixel per lo spot\n",
    "# 4. vettore di flussi I_k' su ogni pixel per lo spot shiftato di p_offset (i.e. 1/4) di pixel\n",
    "# nota I_k viene calcolato considerando un modello gaussiano 2d di FWHM=n pixel (ad esenpio 2) (ricavi varianza)\n",
    "# 5. RON per pixel (uguale per ogni pixel, dato) (sigma_RON) : 0.0\n",
    "# 6. Valore di background (uguale per ogni pixel, dato) (back) : 0.0\n",
    "# 7. Dark Current (uguale per ogni pixel, dato) (b) : 0.0\n",
    "# 8. Fattore di excess noise (dato) (F) : 1.0\n",
    "# 9. valore Threshold (dato) (t) : 0.0\n",
    "# 10. valore associato a sotto*threshold (dato) (nu) : 0.0\n",
    "# Calcolo intermedio grosso\n",
    "# Calcolo mu_ktr, sigma_ktr, formulone in appendice D, dove:\n",
    "# f_k = I_k + back, vedi appedice D\n",
    "# Output:\n",
    "# Due numeri:\n",
    "# 1. Varianza della slope (si calcola solo per x e si assume uguale per y) (prima formula pag 26)\n",
    "#    dove mu e sigma sono calcolati con I_k\n",
    "# Ripeto il calcolo della mu' con I_k' per calcolare il bias\n",
    "# 2. Bias Factor = mu' / p_offset\n",
    "\n",
    "#    dd0 = {'t':0.5, 'nu':2.0, 'sigma_RON':sigmaRON}\n",
    "#    dd1 = {'b':1.0}\n"
   ]
  },
  {
   "cell_type": "code",
   "execution_count": null,
   "metadata": {},
   "outputs": [],
   "source": []
  },
  {
   "cell_type": "code",
   "execution_count": null,
   "metadata": {},
   "outputs": [],
   "source": []
  },
  {
   "cell_type": "code",
   "execution_count": null,
   "metadata": {},
   "outputs": [],
   "source": []
  },
  {
   "cell_type": "code",
   "execution_count": null,
   "metadata": {},
   "outputs": [],
   "source": []
  },
  {
   "cell_type": "code",
   "execution_count": null,
   "metadata": {},
   "outputs": [],
   "source": []
  }
 ],
 "metadata": {
  "kernelspec": {
   "display_name": "Python 3",
   "language": "python",
   "name": "python3"
  },
  "language_info": {
   "codemirror_mode": {
    "name": "ipython",
    "version": 3
   },
   "file_extension": ".py",
   "mimetype": "text/x-python",
   "name": "python",
   "nbconvert_exporter": "python",
   "pygments_lexer": "ipython3",
   "version": "3.7.8"
  }
 },
 "nbformat": 4,
 "nbformat_minor": 4
}
